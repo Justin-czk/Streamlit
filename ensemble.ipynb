{
 "cells": [
  {
   "cell_type": "markdown",
   "metadata": {},
   "source": [
    "# BMA"
   ]
  },
  {
   "cell_type": "markdown",
   "metadata": {},
   "source": [
    "This data script is designed to run in another environment. It is not intended to be run in the Streamlit app.\n",
    "\n",
    "Furthermore, the directory structure is not the same as the Streamlit app."
   ]
  },
  {
   "cell_type": "code",
   "execution_count": null,
   "metadata": {},
   "outputs": [
    {
     "name": "stdout",
     "output_type": "stream",
     "text": [
      "🔄 Loading data...\n",
      "📐 Preparing model data...\n",
      "🚀 Starting bootstrapped training...\n",
      "🔁 Model: Linear Regression\n",
      "🔁 Model: Lasso Regression\n",
      "🔁 Model: Ridge Regression\n"
     ]
    },
    {
     "name": "stderr",
     "output_type": "stream",
     "text": [
      "c:\\Users\\Justin\\anaconda3\\envs\\crypto-env\\lib\\site-packages\\sklearn\\linear_model\\_ridge.py:215: LinAlgWarning: Ill-conditioned matrix (rcond=2.8727e-09): result may not be accurate.\n",
      "  return linalg.solve(A, Xy, assume_a=\"pos\", overwrite_a=True).T\n",
      "c:\\Users\\Justin\\anaconda3\\envs\\crypto-env\\lib\\site-packages\\sklearn\\linear_model\\_ridge.py:215: LinAlgWarning: Ill-conditioned matrix (rcond=3.50738e-09): result may not be accurate.\n",
      "  return linalg.solve(A, Xy, assume_a=\"pos\", overwrite_a=True).T\n",
      "c:\\Users\\Justin\\anaconda3\\envs\\crypto-env\\lib\\site-packages\\sklearn\\linear_model\\_ridge.py:215: LinAlgWarning: Ill-conditioned matrix (rcond=2.86386e-09): result may not be accurate.\n",
      "  return linalg.solve(A, Xy, assume_a=\"pos\", overwrite_a=True).T\n",
      "c:\\Users\\Justin\\anaconda3\\envs\\crypto-env\\lib\\site-packages\\sklearn\\linear_model\\_ridge.py:215: LinAlgWarning: Ill-conditioned matrix (rcond=3.69941e-09): result may not be accurate.\n",
      "  return linalg.solve(A, Xy, assume_a=\"pos\", overwrite_a=True).T\n",
      "c:\\Users\\Justin\\anaconda3\\envs\\crypto-env\\lib\\site-packages\\sklearn\\linear_model\\_ridge.py:215: LinAlgWarning: Ill-conditioned matrix (rcond=2.86928e-09): result may not be accurate.\n",
      "  return linalg.solve(A, Xy, assume_a=\"pos\", overwrite_a=True).T\n",
      "c:\\Users\\Justin\\anaconda3\\envs\\crypto-env\\lib\\site-packages\\sklearn\\linear_model\\_ridge.py:215: LinAlgWarning: Ill-conditioned matrix (rcond=2.83376e-09): result may not be accurate.\n",
      "  return linalg.solve(A, Xy, assume_a=\"pos\", overwrite_a=True).T\n",
      "c:\\Users\\Justin\\anaconda3\\envs\\crypto-env\\lib\\site-packages\\sklearn\\linear_model\\_ridge.py:215: LinAlgWarning: Ill-conditioned matrix (rcond=3.64951e-09): result may not be accurate.\n",
      "  return linalg.solve(A, Xy, assume_a=\"pos\", overwrite_a=True).T\n",
      "c:\\Users\\Justin\\anaconda3\\envs\\crypto-env\\lib\\site-packages\\sklearn\\linear_model\\_ridge.py:215: LinAlgWarning: Ill-conditioned matrix (rcond=3.66274e-09): result may not be accurate.\n",
      "  return linalg.solve(A, Xy, assume_a=\"pos\", overwrite_a=True).T\n",
      "c:\\Users\\Justin\\anaconda3\\envs\\crypto-env\\lib\\site-packages\\sklearn\\linear_model\\_ridge.py:215: LinAlgWarning: Ill-conditioned matrix (rcond=2.8949e-09): result may not be accurate.\n",
      "  return linalg.solve(A, Xy, assume_a=\"pos\", overwrite_a=True).T\n",
      "c:\\Users\\Justin\\anaconda3\\envs\\crypto-env\\lib\\site-packages\\sklearn\\linear_model\\_ridge.py:215: LinAlgWarning: Ill-conditioned matrix (rcond=3.46305e-09): result may not be accurate.\n",
      "  return linalg.solve(A, Xy, assume_a=\"pos\", overwrite_a=True).T\n",
      "c:\\Users\\Justin\\anaconda3\\envs\\crypto-env\\lib\\site-packages\\sklearn\\linear_model\\_ridge.py:215: LinAlgWarning: Ill-conditioned matrix (rcond=2.77826e-09): result may not be accurate.\n",
      "  return linalg.solve(A, Xy, assume_a=\"pos\", overwrite_a=True).T\n",
      "c:\\Users\\Justin\\anaconda3\\envs\\crypto-env\\lib\\site-packages\\sklearn\\linear_model\\_ridge.py:215: LinAlgWarning: Ill-conditioned matrix (rcond=3.6243e-09): result may not be accurate.\n",
      "  return linalg.solve(A, Xy, assume_a=\"pos\", overwrite_a=True).T\n",
      "c:\\Users\\Justin\\anaconda3\\envs\\crypto-env\\lib\\site-packages\\sklearn\\linear_model\\_ridge.py:215: LinAlgWarning: Ill-conditioned matrix (rcond=3.58204e-09): result may not be accurate.\n",
      "  return linalg.solve(A, Xy, assume_a=\"pos\", overwrite_a=True).T\n",
      "c:\\Users\\Justin\\anaconda3\\envs\\crypto-env\\lib\\site-packages\\sklearn\\linear_model\\_ridge.py:215: LinAlgWarning: Ill-conditioned matrix (rcond=3.7305e-09): result may not be accurate.\n",
      "  return linalg.solve(A, Xy, assume_a=\"pos\", overwrite_a=True).T\n",
      "c:\\Users\\Justin\\anaconda3\\envs\\crypto-env\\lib\\site-packages\\sklearn\\linear_model\\_ridge.py:215: LinAlgWarning: Ill-conditioned matrix (rcond=2.82121e-09): result may not be accurate.\n",
      "  return linalg.solve(A, Xy, assume_a=\"pos\", overwrite_a=True).T\n",
      "c:\\Users\\Justin\\anaconda3\\envs\\crypto-env\\lib\\site-packages\\sklearn\\linear_model\\_ridge.py:215: LinAlgWarning: Ill-conditioned matrix (rcond=2.85783e-09): result may not be accurate.\n",
      "  return linalg.solve(A, Xy, assume_a=\"pos\", overwrite_a=True).T\n",
      "c:\\Users\\Justin\\anaconda3\\envs\\crypto-env\\lib\\site-packages\\sklearn\\linear_model\\_ridge.py:215: LinAlgWarning: Ill-conditioned matrix (rcond=3.58806e-09): result may not be accurate.\n",
      "  return linalg.solve(A, Xy, assume_a=\"pos\", overwrite_a=True).T\n",
      "c:\\Users\\Justin\\anaconda3\\envs\\crypto-env\\lib\\site-packages\\sklearn\\linear_model\\_ridge.py:215: LinAlgWarning: Ill-conditioned matrix (rcond=2.87527e-09): result may not be accurate.\n",
      "  return linalg.solve(A, Xy, assume_a=\"pos\", overwrite_a=True).T\n",
      "c:\\Users\\Justin\\anaconda3\\envs\\crypto-env\\lib\\site-packages\\sklearn\\linear_model\\_ridge.py:215: LinAlgWarning: Ill-conditioned matrix (rcond=3.67916e-09): result may not be accurate.\n",
      "  return linalg.solve(A, Xy, assume_a=\"pos\", overwrite_a=True).T\n",
      "c:\\Users\\Justin\\anaconda3\\envs\\crypto-env\\lib\\site-packages\\sklearn\\linear_model\\_ridge.py:215: LinAlgWarning: Ill-conditioned matrix (rcond=3.70218e-09): result may not be accurate.\n",
      "  return linalg.solve(A, Xy, assume_a=\"pos\", overwrite_a=True).T\n",
      "c:\\Users\\Justin\\anaconda3\\envs\\crypto-env\\lib\\site-packages\\sklearn\\linear_model\\_ridge.py:215: LinAlgWarning: Ill-conditioned matrix (rcond=2.84023e-09): result may not be accurate.\n",
      "  return linalg.solve(A, Xy, assume_a=\"pos\", overwrite_a=True).T\n",
      "c:\\Users\\Justin\\anaconda3\\envs\\crypto-env\\lib\\site-packages\\sklearn\\linear_model\\_ridge.py:215: LinAlgWarning: Ill-conditioned matrix (rcond=2.89023e-09): result may not be accurate.\n",
      "  return linalg.solve(A, Xy, assume_a=\"pos\", overwrite_a=True).T\n",
      "c:\\Users\\Justin\\anaconda3\\envs\\crypto-env\\lib\\site-packages\\sklearn\\linear_model\\_ridge.py:215: LinAlgWarning: Ill-conditioned matrix (rcond=2.87178e-09): result may not be accurate.\n",
      "  return linalg.solve(A, Xy, assume_a=\"pos\", overwrite_a=True).T\n",
      "c:\\Users\\Justin\\anaconda3\\envs\\crypto-env\\lib\\site-packages\\sklearn\\linear_model\\_ridge.py:215: LinAlgWarning: Ill-conditioned matrix (rcond=2.78254e-09): result may not be accurate.\n",
      "  return linalg.solve(A, Xy, assume_a=\"pos\", overwrite_a=True).T\n",
      "c:\\Users\\Justin\\anaconda3\\envs\\crypto-env\\lib\\site-packages\\sklearn\\linear_model\\_ridge.py:215: LinAlgWarning: Ill-conditioned matrix (rcond=3.65474e-09): result may not be accurate.\n",
      "  return linalg.solve(A, Xy, assume_a=\"pos\", overwrite_a=True).T\n",
      "c:\\Users\\Justin\\anaconda3\\envs\\crypto-env\\lib\\site-packages\\sklearn\\linear_model\\_ridge.py:215: LinAlgWarning: Ill-conditioned matrix (rcond=3.61272e-09): result may not be accurate.\n",
      "  return linalg.solve(A, Xy, assume_a=\"pos\", overwrite_a=True).T\n",
      "c:\\Users\\Justin\\anaconda3\\envs\\crypto-env\\lib\\site-packages\\sklearn\\linear_model\\_ridge.py:215: LinAlgWarning: Ill-conditioned matrix (rcond=3.70822e-09): result may not be accurate.\n",
      "  return linalg.solve(A, Xy, assume_a=\"pos\", overwrite_a=True).T\n",
      "c:\\Users\\Justin\\anaconda3\\envs\\crypto-env\\lib\\site-packages\\sklearn\\linear_model\\_ridge.py:215: LinAlgWarning: Ill-conditioned matrix (rcond=3.58109e-09): result may not be accurate.\n",
      "  return linalg.solve(A, Xy, assume_a=\"pos\", overwrite_a=True).T\n",
      "c:\\Users\\Justin\\anaconda3\\envs\\crypto-env\\lib\\site-packages\\sklearn\\linear_model\\_ridge.py:215: LinAlgWarning: Ill-conditioned matrix (rcond=3.63687e-09): result may not be accurate.\n",
      "  return linalg.solve(A, Xy, assume_a=\"pos\", overwrite_a=True).T\n",
      "c:\\Users\\Justin\\anaconda3\\envs\\crypto-env\\lib\\site-packages\\sklearn\\linear_model\\_ridge.py:215: LinAlgWarning: Ill-conditioned matrix (rcond=3.65896e-09): result may not be accurate.\n",
      "  return linalg.solve(A, Xy, assume_a=\"pos\", overwrite_a=True).T\n",
      "c:\\Users\\Justin\\anaconda3\\envs\\crypto-env\\lib\\site-packages\\sklearn\\linear_model\\_ridge.py:215: LinAlgWarning: Ill-conditioned matrix (rcond=3.69136e-09): result may not be accurate.\n",
      "  return linalg.solve(A, Xy, assume_a=\"pos\", overwrite_a=True).T\n",
      "c:\\Users\\Justin\\anaconda3\\envs\\crypto-env\\lib\\site-packages\\sklearn\\linear_model\\_ridge.py:215: LinAlgWarning: Ill-conditioned matrix (rcond=3.62907e-09): result may not be accurate.\n",
      "  return linalg.solve(A, Xy, assume_a=\"pos\", overwrite_a=True).T\n",
      "c:\\Users\\Justin\\anaconda3\\envs\\crypto-env\\lib\\site-packages\\sklearn\\linear_model\\_ridge.py:215: LinAlgWarning: Ill-conditioned matrix (rcond=2.91297e-09): result may not be accurate.\n",
      "  return linalg.solve(A, Xy, assume_a=\"pos\", overwrite_a=True).T\n",
      "c:\\Users\\Justin\\anaconda3\\envs\\crypto-env\\lib\\site-packages\\sklearn\\linear_model\\_ridge.py:215: LinAlgWarning: Ill-conditioned matrix (rcond=3.64909e-09): result may not be accurate.\n",
      "  return linalg.solve(A, Xy, assume_a=\"pos\", overwrite_a=True).T\n",
      "c:\\Users\\Justin\\anaconda3\\envs\\crypto-env\\lib\\site-packages\\sklearn\\linear_model\\_ridge.py:215: LinAlgWarning: Ill-conditioned matrix (rcond=3.64757e-09): result may not be accurate.\n",
      "  return linalg.solve(A, Xy, assume_a=\"pos\", overwrite_a=True).T\n",
      "c:\\Users\\Justin\\anaconda3\\envs\\crypto-env\\lib\\site-packages\\sklearn\\linear_model\\_ridge.py:215: LinAlgWarning: Ill-conditioned matrix (rcond=3.62639e-09): result may not be accurate.\n",
      "  return linalg.solve(A, Xy, assume_a=\"pos\", overwrite_a=True).T\n",
      "c:\\Users\\Justin\\anaconda3\\envs\\crypto-env\\lib\\site-packages\\sklearn\\linear_model\\_ridge.py:215: LinAlgWarning: Ill-conditioned matrix (rcond=3.63336e-09): result may not be accurate.\n",
      "  return linalg.solve(A, Xy, assume_a=\"pos\", overwrite_a=True).T\n",
      "c:\\Users\\Justin\\anaconda3\\envs\\crypto-env\\lib\\site-packages\\sklearn\\linear_model\\_ridge.py:215: LinAlgWarning: Ill-conditioned matrix (rcond=3.65442e-09): result may not be accurate.\n",
      "  return linalg.solve(A, Xy, assume_a=\"pos\", overwrite_a=True).T\n",
      "c:\\Users\\Justin\\anaconda3\\envs\\crypto-env\\lib\\site-packages\\sklearn\\linear_model\\_ridge.py:215: LinAlgWarning: Ill-conditioned matrix (rcond=2.84457e-09): result may not be accurate.\n",
      "  return linalg.solve(A, Xy, assume_a=\"pos\", overwrite_a=True).T\n",
      "c:\\Users\\Justin\\anaconda3\\envs\\crypto-env\\lib\\site-packages\\sklearn\\linear_model\\_ridge.py:215: LinAlgWarning: Ill-conditioned matrix (rcond=2.89092e-09): result may not be accurate.\n",
      "  return linalg.solve(A, Xy, assume_a=\"pos\", overwrite_a=True).T\n",
      "c:\\Users\\Justin\\anaconda3\\envs\\crypto-env\\lib\\site-packages\\sklearn\\linear_model\\_ridge.py:215: LinAlgWarning: Ill-conditioned matrix (rcond=2.79744e-09): result may not be accurate.\n",
      "  return linalg.solve(A, Xy, assume_a=\"pos\", overwrite_a=True).T\n",
      "c:\\Users\\Justin\\anaconda3\\envs\\crypto-env\\lib\\site-packages\\sklearn\\linear_model\\_ridge.py:215: LinAlgWarning: Ill-conditioned matrix (rcond=2.81666e-09): result may not be accurate.\n",
      "  return linalg.solve(A, Xy, assume_a=\"pos\", overwrite_a=True).T\n",
      "c:\\Users\\Justin\\anaconda3\\envs\\crypto-env\\lib\\site-packages\\sklearn\\linear_model\\_ridge.py:215: LinAlgWarning: Ill-conditioned matrix (rcond=3.54458e-09): result may not be accurate.\n",
      "  return linalg.solve(A, Xy, assume_a=\"pos\", overwrite_a=True).T\n",
      "c:\\Users\\Justin\\anaconda3\\envs\\crypto-env\\lib\\site-packages\\sklearn\\linear_model\\_ridge.py:215: LinAlgWarning: Ill-conditioned matrix (rcond=2.85857e-09): result may not be accurate.\n",
      "  return linalg.solve(A, Xy, assume_a=\"pos\", overwrite_a=True).T\n",
      "c:\\Users\\Justin\\anaconda3\\envs\\crypto-env\\lib\\site-packages\\sklearn\\linear_model\\_ridge.py:215: LinAlgWarning: Ill-conditioned matrix (rcond=3.75711e-09): result may not be accurate.\n",
      "  return linalg.solve(A, Xy, assume_a=\"pos\", overwrite_a=True).T\n",
      "c:\\Users\\Justin\\anaconda3\\envs\\crypto-env\\lib\\site-packages\\sklearn\\linear_model\\_ridge.py:215: LinAlgWarning: Ill-conditioned matrix (rcond=3.57582e-09): result may not be accurate.\n",
      "  return linalg.solve(A, Xy, assume_a=\"pos\", overwrite_a=True).T\n",
      "c:\\Users\\Justin\\anaconda3\\envs\\crypto-env\\lib\\site-packages\\sklearn\\linear_model\\_ridge.py:215: LinAlgWarning: Ill-conditioned matrix (rcond=3.65032e-09): result may not be accurate.\n",
      "  return linalg.solve(A, Xy, assume_a=\"pos\", overwrite_a=True).T\n"
     ]
    },
    {
     "name": "stdout",
     "output_type": "stream",
     "text": [
      "🔁 Model: Elastic Net\n",
      "🔁 Model: PCR\n",
      "🔁 Model: PLS\n",
      "🔁 Model: Random Forest\n",
      "🔁 Loading pre-trained model from disk... 🔁\n",
      "🔁 Loading pre-trained model from disk... 🔁\n",
      "🔁 Loading pre-trained model from disk... 🔁\n",
      "🔁 Loading pre-trained model from disk... 🔁\n",
      "🔁 Loading pre-trained model from disk... 🔁\n",
      "🔁 Loading pre-trained model from disk... 🔁\n",
      "🔁 Loading pre-trained model from disk... 🔁\n",
      "🔁 Loading pre-trained model from disk... 🔁\n",
      "🔁 Loading pre-trained model from disk... 🔁\n",
      "🔁 Loading pre-trained model from disk... 🔁\n",
      "🔁 Loading pre-trained model from disk... 🔁\n",
      "🔁 Loading pre-trained model from disk... 🔁\n",
      "🔁 Loading pre-trained model from disk... 🔁\n",
      "🔁 Loading pre-trained model from disk... 🔁\n",
      "🔁 Loading pre-trained model from disk... 🔁\n",
      "🔁 Loading pre-trained model from disk... 🔁\n",
      "🔁 Loading pre-trained model from disk... 🔁\n",
      "🔁 Loading pre-trained model from disk... 🔁\n",
      "🔁 Loading pre-trained model from disk... 🔁\n",
      "🔁 Loading pre-trained model from disk... 🔁\n",
      "🔁 Loading pre-trained model from disk... 🔁\n",
      "🔁 Loading pre-trained model from disk... 🔁\n",
      "🔁 Loading pre-trained model from disk... 🔁\n",
      "🔁 Loading pre-trained model from disk... 🔁\n",
      "🔁 Loading pre-trained model from disk... 🔁\n",
      "🔁 Loading pre-trained model from disk... 🔁\n",
      "🔁 Loading pre-trained model from disk... 🔁\n",
      "🔁 Loading pre-trained model from disk... 🔁\n",
      "🔁 Loading pre-trained model from disk... 🔁\n",
      "🔁 Loading pre-trained model from disk... 🔁\n",
      "🔁 Loading pre-trained model from disk... 🔁\n",
      "🔁 Loading pre-trained model from disk... 🔁\n",
      "🔁 Loading pre-trained model from disk... 🔁\n",
      "🔁 Loading pre-trained model from disk... 🔁\n",
      "🔁 Loading pre-trained model from disk... 🔁\n",
      "🔁 Loading pre-trained model from disk... 🔁\n",
      "🔁 Loading pre-trained model from disk... 🔁\n",
      "🔁 Loading pre-trained model from disk... 🔁\n",
      "🔁 Loading pre-trained model from disk... 🔁\n",
      "🔁 Loading pre-trained model from disk... 🔁\n",
      "🔁 Loading pre-trained model from disk... 🔁\n",
      "🔁 Loading pre-trained model from disk... 🔁\n",
      "🔁 Loading pre-trained model from disk... 🔁\n",
      "🔁 Loading pre-trained model from disk... 🔁\n",
      "🔁 Loading pre-trained model from disk... 🔁\n",
      "🔁 Loading pre-trained model from disk... 🔁\n",
      "🔁 Loading pre-trained model from disk... 🔁\n",
      "🔁 Loading pre-trained model from disk... 🔁\n",
      "🔁 Loading pre-trained model from disk... 🔁\n",
      "🔁 Loading pre-trained model from disk... 🔁\n",
      "🔁 Model: XGBoost\n",
      "🔁 Model: CatBoost\n",
      "🔁 Model: Feedforward NN\n",
      "Training Feedforward NN...\n",
      "trained_models\\FFNN_30860c006e13696fbd4dafcab8179fa0.keras\n",
      "🔁 Loading pre-trained model from disk... 🔁\n",
      "\u001b[1m1873/1873\u001b[0m \u001b[32m━━━━━━━━━━━━━━━━━━━━\u001b[0m\u001b[37m\u001b[0m \u001b[1m3s\u001b[0m 1ms/step\n",
      "Training Feedforward NN...\n",
      "trained_models\\FFNN_30860c006e13696fbd4dafcab8179fa0.keras\n",
      "🔁 Loading pre-trained model from disk... 🔁\n",
      "\u001b[1m1827/1827\u001b[0m \u001b[32m━━━━━━━━━━━━━━━━━━━━\u001b[0m\u001b[37m\u001b[0m \u001b[1m3s\u001b[0m 1ms/step\n",
      "Training Feedforward NN...\n",
      "trained_models\\FFNN_30860c006e13696fbd4dafcab8179fa0.keras\n",
      "🔁 Loading pre-trained model from disk... 🔁\n",
      "\u001b[1m1903/1903\u001b[0m \u001b[32m━━━━━━━━━━━━━━━━━━━━\u001b[0m\u001b[37m\u001b[0m \u001b[1m3s\u001b[0m 1ms/step\n",
      "Training Feedforward NN...\n",
      "trained_models\\FFNN_30860c006e13696fbd4dafcab8179fa0.keras\n",
      "🔁 Loading pre-trained model from disk... 🔁\n",
      "\u001b[1m1833/1833\u001b[0m \u001b[32m━━━━━━━━━━━━━━━━━━━━\u001b[0m\u001b[37m\u001b[0m \u001b[1m3s\u001b[0m 1ms/step\n",
      "Training Feedforward NN...\n",
      "trained_models\\FFNN_30860c006e13696fbd4dafcab8179fa0.keras\n",
      "🔁 Loading pre-trained model from disk... 🔁\n",
      "\u001b[1m1835/1835\u001b[0m \u001b[32m━━━━━━━━━━━━━━━━━━━━\u001b[0m\u001b[37m\u001b[0m \u001b[1m3s\u001b[0m 1ms/step\n",
      "Training Feedforward NN...\n",
      "trained_models\\FFNN_30860c006e13696fbd4dafcab8179fa0.keras\n",
      "🔁 Loading pre-trained model from disk... 🔁\n",
      "\u001b[1m1833/1833\u001b[0m \u001b[32m━━━━━━━━━━━━━━━━━━━━\u001b[0m\u001b[37m\u001b[0m \u001b[1m3s\u001b[0m 1ms/step\n",
      "Training Feedforward NN...\n",
      "trained_models\\FFNN_30860c006e13696fbd4dafcab8179fa0.keras\n",
      "🔁 Loading pre-trained model from disk... 🔁\n",
      "\u001b[1m1776/1776\u001b[0m \u001b[32m━━━━━━━━━━━━━━━━━━━━\u001b[0m\u001b[37m\u001b[0m \u001b[1m2s\u001b[0m 1ms/step\n",
      "Training Feedforward NN...\n",
      "trained_models\\FFNN_30860c006e13696fbd4dafcab8179fa0.keras\n",
      "🔁 Loading pre-trained model from disk... 🔁\n",
      "\u001b[1m1833/1833\u001b[0m \u001b[32m━━━━━━━━━━━━━━━━━━━━\u001b[0m\u001b[37m\u001b[0m \u001b[1m2s\u001b[0m 1ms/step\n",
      "Training Feedforward NN...\n",
      "trained_models\\FFNN_30860c006e13696fbd4dafcab8179fa0.keras\n",
      "🔁 Loading pre-trained model from disk... 🔁\n",
      "\u001b[1m1819/1819\u001b[0m \u001b[32m━━━━━━━━━━━━━━━━━━━━\u001b[0m\u001b[37m\u001b[0m \u001b[1m3s\u001b[0m 1ms/step\n",
      "Training Feedforward NN...\n",
      "trained_models\\FFNN_30860c006e13696fbd4dafcab8179fa0.keras\n",
      "🔁 Loading pre-trained model from disk... 🔁\n",
      "\u001b[1m1803/1803\u001b[0m \u001b[32m━━━━━━━━━━━━━━━━━━━━\u001b[0m\u001b[37m\u001b[0m \u001b[1m2s\u001b[0m 1ms/step\n",
      "Training Feedforward NN...\n",
      "trained_models\\FFNN_30860c006e13696fbd4dafcab8179fa0.keras\n",
      "🔁 Loading pre-trained model from disk... 🔁\n",
      "\u001b[1m1863/1863\u001b[0m \u001b[32m━━━━━━━━━━━━━━━━━━━━\u001b[0m\u001b[37m\u001b[0m \u001b[1m3s\u001b[0m 1ms/step\n",
      "Training Feedforward NN...\n",
      "trained_models\\FFNN_30860c006e13696fbd4dafcab8179fa0.keras\n",
      "🔁 Loading pre-trained model from disk... 🔁\n",
      "\u001b[1m1813/1813\u001b[0m \u001b[32m━━━━━━━━━━━━━━━━━━━━\u001b[0m\u001b[37m\u001b[0m \u001b[1m2s\u001b[0m 1ms/step\n",
      "Training Feedforward NN...\n",
      "trained_models\\FFNN_30860c006e13696fbd4dafcab8179fa0.keras\n",
      "🔁 Loading pre-trained model from disk... 🔁\n",
      "\u001b[1m1868/1868\u001b[0m \u001b[32m━━━━━━━━━━━━━━━━━━━━\u001b[0m\u001b[37m\u001b[0m \u001b[1m2s\u001b[0m 1ms/step\n",
      "Training Feedforward NN...\n",
      "trained_models\\FFNN_30860c006e13696fbd4dafcab8179fa0.keras\n",
      "🔁 Loading pre-trained model from disk... 🔁\n",
      "\u001b[1m1835/1835\u001b[0m \u001b[32m━━━━━━━━━━━━━━━━━━━━\u001b[0m\u001b[37m\u001b[0m \u001b[1m3s\u001b[0m 1ms/step\n",
      "Training Feedforward NN...\n",
      "trained_models\\FFNN_30860c006e13696fbd4dafcab8179fa0.keras\n",
      "🔁 Loading pre-trained model from disk... 🔁\n",
      "\u001b[1m1859/1859\u001b[0m \u001b[32m━━━━━━━━━━━━━━━━━━━━\u001b[0m\u001b[37m\u001b[0m \u001b[1m2s\u001b[0m 1ms/step\n",
      "Training Feedforward NN...\n",
      "trained_models\\FFNN_30860c006e13696fbd4dafcab8179fa0.keras\n",
      "🔁 Loading pre-trained model from disk... 🔁\n",
      "\u001b[1m1851/1851\u001b[0m \u001b[32m━━━━━━━━━━━━━━━━━━━━\u001b[0m\u001b[37m\u001b[0m \u001b[1m3s\u001b[0m 1ms/step\n",
      "Training Feedforward NN...\n",
      "trained_models\\FFNN_30860c006e13696fbd4dafcab8179fa0.keras\n",
      "🔁 Loading pre-trained model from disk... 🔁\n",
      "\u001b[1m1835/1835\u001b[0m \u001b[32m━━━━━━━━━━━━━━━━━━━━\u001b[0m\u001b[37m\u001b[0m \u001b[1m2s\u001b[0m 1ms/step\n",
      "Training Feedforward NN...\n",
      "trained_models\\FFNN_30860c006e13696fbd4dafcab8179fa0.keras\n",
      "🔁 Loading pre-trained model from disk... 🔁\n",
      "\u001b[1m1866/1866\u001b[0m \u001b[32m━━━━━━━━━━━━━━━━━━━━\u001b[0m\u001b[37m\u001b[0m \u001b[1m2s\u001b[0m 1ms/step\n",
      "Training Feedforward NN...\n",
      "trained_models\\FFNN_30860c006e13696fbd4dafcab8179fa0.keras\n",
      "🔁 Loading pre-trained model from disk... 🔁\n",
      "\u001b[1m1811/1811\u001b[0m \u001b[32m━━━━━━━━━━━━━━━━━━━━\u001b[0m\u001b[37m\u001b[0m \u001b[1m3s\u001b[0m 1ms/step\n",
      "Training Feedforward NN...\n",
      "trained_models\\FFNN_30860c006e13696fbd4dafcab8179fa0.keras\n",
      "🔁 Loading pre-trained model from disk... 🔁\n",
      "\u001b[1m1808/1808\u001b[0m \u001b[32m━━━━━━━━━━━━━━━━━━━━\u001b[0m\u001b[37m\u001b[0m \u001b[1m3s\u001b[0m 2ms/step\n",
      "Training Feedforward NN...\n",
      "trained_models\\FFNN_30860c006e13696fbd4dafcab8179fa0.keras\n",
      "🔁 Loading pre-trained model from disk... 🔁\n",
      "\u001b[1m1822/1822\u001b[0m \u001b[32m━━━━━━━━━━━━━━━━━━━━\u001b[0m\u001b[37m\u001b[0m \u001b[1m2s\u001b[0m 1ms/step\n",
      "Training Feedforward NN...\n",
      "trained_models\\FFNN_30860c006e13696fbd4dafcab8179fa0.keras\n",
      "🔁 Loading pre-trained model from disk... 🔁\n",
      "\u001b[1m1895/1895\u001b[0m \u001b[32m━━━━━━━━━━━━━━━━━━━━\u001b[0m\u001b[37m\u001b[0m \u001b[1m3s\u001b[0m 1ms/step\n",
      "Training Feedforward NN...\n",
      "trained_models\\FFNN_30860c006e13696fbd4dafcab8179fa0.keras\n",
      "🔁 Loading pre-trained model from disk... 🔁\n",
      "\u001b[1m1837/1837\u001b[0m \u001b[32m━━━━━━━━━━━━━━━━━━━━\u001b[0m\u001b[37m\u001b[0m \u001b[1m3s\u001b[0m 1ms/step\n",
      "Training Feedforward NN...\n",
      "trained_models\\FFNN_30860c006e13696fbd4dafcab8179fa0.keras\n",
      "🔁 Loading pre-trained model from disk... 🔁\n",
      "\u001b[1m1753/1753\u001b[0m \u001b[32m━━━━━━━━━━━━━━━━━━━━\u001b[0m\u001b[37m\u001b[0m \u001b[1m3s\u001b[0m 1ms/step\n",
      "Training Feedforward NN...\n",
      "trained_models\\FFNN_30860c006e13696fbd4dafcab8179fa0.keras\n",
      "🔁 Loading pre-trained model from disk... 🔁\n",
      "\u001b[1m1771/1771\u001b[0m \u001b[32m━━━━━━━━━━━━━━━━━━━━\u001b[0m\u001b[37m\u001b[0m \u001b[1m2s\u001b[0m 1ms/step\n",
      "Training Feedforward NN...\n",
      "trained_models\\FFNN_30860c006e13696fbd4dafcab8179fa0.keras\n",
      "🔁 Loading pre-trained model from disk... 🔁\n",
      "\u001b[1m1817/1817\u001b[0m \u001b[32m━━━━━━━━━━━━━━━━━━━━\u001b[0m\u001b[37m\u001b[0m \u001b[1m3s\u001b[0m 1ms/step\n",
      "Training Feedforward NN...\n",
      "trained_models\\FFNN_30860c006e13696fbd4dafcab8179fa0.keras\n",
      "🔁 Loading pre-trained model from disk... 🔁\n",
      "\u001b[1m1858/1858\u001b[0m \u001b[32m━━━━━━━━━━━━━━━━━━━━\u001b[0m\u001b[37m\u001b[0m \u001b[1m3s\u001b[0m 1ms/step\n",
      "Training Feedforward NN...\n",
      "trained_models\\FFNN_30860c006e13696fbd4dafcab8179fa0.keras\n",
      "🔁 Loading pre-trained model from disk... 🔁\n",
      "\u001b[1m1867/1867\u001b[0m \u001b[32m━━━━━━━━━━━━━━━━━━━━\u001b[0m\u001b[37m\u001b[0m \u001b[1m3s\u001b[0m 1ms/step\n",
      "Training Feedforward NN...\n",
      "trained_models\\FFNN_30860c006e13696fbd4dafcab8179fa0.keras\n",
      "🔁 Loading pre-trained model from disk... 🔁\n",
      "\u001b[1m1887/1887\u001b[0m \u001b[32m━━━━━━━━━━━━━━━━━━━━\u001b[0m\u001b[37m\u001b[0m \u001b[1m3s\u001b[0m 1ms/step\n",
      "Training Feedforward NN...\n",
      "trained_models\\FFNN_30860c006e13696fbd4dafcab8179fa0.keras\n",
      "🔁 Loading pre-trained model from disk... 🔁\n",
      "\u001b[1m1832/1832\u001b[0m \u001b[32m━━━━━━━━━━━━━━━━━━━━\u001b[0m\u001b[37m\u001b[0m \u001b[1m2s\u001b[0m 1ms/step\n",
      "Training Feedforward NN...\n",
      "trained_models\\FFNN_30860c006e13696fbd4dafcab8179fa0.keras\n",
      "🔁 Loading pre-trained model from disk... 🔁\n",
      "\u001b[1m1831/1831\u001b[0m \u001b[32m━━━━━━━━━━━━━━━━━━━━\u001b[0m\u001b[37m\u001b[0m \u001b[1m2s\u001b[0m 1ms/step\n",
      "Training Feedforward NN...\n",
      "trained_models\\FFNN_30860c006e13696fbd4dafcab8179fa0.keras\n",
      "🔁 Loading pre-trained model from disk... 🔁\n",
      "\u001b[1m1827/1827\u001b[0m \u001b[32m━━━━━━━━━━━━━━━━━━━━\u001b[0m\u001b[37m\u001b[0m \u001b[1m3s\u001b[0m 1ms/step\n",
      "Training Feedforward NN...\n",
      "trained_models\\FFNN_30860c006e13696fbd4dafcab8179fa0.keras\n",
      "🔁 Loading pre-trained model from disk... 🔁\n",
      "\u001b[1m1839/1839\u001b[0m \u001b[32m━━━━━━━━━━━━━━━━━━━━\u001b[0m\u001b[37m\u001b[0m \u001b[1m3s\u001b[0m 1ms/step\n",
      "Training Feedforward NN...\n",
      "trained_models\\FFNN_30860c006e13696fbd4dafcab8179fa0.keras\n",
      "🔁 Loading pre-trained model from disk... 🔁\n",
      "\u001b[1m1801/1801\u001b[0m \u001b[32m━━━━━━━━━━━━━━━━━━━━\u001b[0m\u001b[37m\u001b[0m \u001b[1m2s\u001b[0m 1ms/step\n",
      "Training Feedforward NN...\n",
      "trained_models\\FFNN_30860c006e13696fbd4dafcab8179fa0.keras\n",
      "🔁 Loading pre-trained model from disk... 🔁\n",
      "\u001b[1m1891/1891\u001b[0m \u001b[32m━━━━━━━━━━━━━━━━━━━━\u001b[0m\u001b[37m\u001b[0m \u001b[1m3s\u001b[0m 1ms/step\n",
      "Training Feedforward NN...\n",
      "trained_models\\FFNN_30860c006e13696fbd4dafcab8179fa0.keras\n",
      "🔁 Loading pre-trained model from disk... 🔁\n",
      "\u001b[1m1834/1834\u001b[0m \u001b[32m━━━━━━━━━━━━━━━━━━━━\u001b[0m\u001b[37m\u001b[0m \u001b[1m2s\u001b[0m 1ms/step\n",
      "Training Feedforward NN...\n",
      "trained_models\\FFNN_30860c006e13696fbd4dafcab8179fa0.keras\n",
      "🔁 Loading pre-trained model from disk... 🔁\n",
      "\u001b[1m1853/1853\u001b[0m \u001b[32m━━━━━━━━━━━━━━━━━━━━\u001b[0m\u001b[37m\u001b[0m \u001b[1m2s\u001b[0m 1ms/step\n",
      "Training Feedforward NN...\n",
      "trained_models\\FFNN_30860c006e13696fbd4dafcab8179fa0.keras\n",
      "🔁 Loading pre-trained model from disk... 🔁\n",
      "\u001b[1m1844/1844\u001b[0m \u001b[32m━━━━━━━━━━━━━━━━━━━━\u001b[0m\u001b[37m\u001b[0m \u001b[1m3s\u001b[0m 1ms/step\n",
      "Training Feedforward NN...\n",
      "trained_models\\FFNN_30860c006e13696fbd4dafcab8179fa0.keras\n",
      "🔁 Loading pre-trained model from disk... 🔁\n",
      "\u001b[1m1852/1852\u001b[0m \u001b[32m━━━━━━━━━━━━━━━━━━━━\u001b[0m\u001b[37m\u001b[0m \u001b[1m2s\u001b[0m 1ms/step\n",
      "Training Feedforward NN...\n",
      "trained_models\\FFNN_30860c006e13696fbd4dafcab8179fa0.keras\n",
      "🔁 Loading pre-trained model from disk... 🔁\n",
      "\u001b[1m1842/1842\u001b[0m \u001b[32m━━━━━━━━━━━━━━━━━━━━\u001b[0m\u001b[37m\u001b[0m \u001b[1m2s\u001b[0m 1ms/step\n",
      "Training Feedforward NN...\n",
      "trained_models\\FFNN_30860c006e13696fbd4dafcab8179fa0.keras\n",
      "🔁 Loading pre-trained model from disk... 🔁\n",
      "\u001b[1m1799/1799\u001b[0m \u001b[32m━━━━━━━━━━━━━━━━━━━━\u001b[0m\u001b[37m\u001b[0m \u001b[1m3s\u001b[0m 1ms/step\n",
      "Training Feedforward NN...\n",
      "trained_models\\FFNN_30860c006e13696fbd4dafcab8179fa0.keras\n",
      "🔁 Loading pre-trained model from disk... 🔁\n",
      "\u001b[1m1837/1837\u001b[0m \u001b[32m━━━━━━━━━━━━━━━━━━━━\u001b[0m\u001b[37m\u001b[0m \u001b[1m2s\u001b[0m 1ms/step\n",
      "Training Feedforward NN...\n",
      "trained_models\\FFNN_30860c006e13696fbd4dafcab8179fa0.keras\n",
      "🔁 Loading pre-trained model from disk... 🔁\n",
      "\u001b[1m1841/1841\u001b[0m \u001b[32m━━━━━━━━━━━━━━━━━━━━\u001b[0m\u001b[37m\u001b[0m \u001b[1m3s\u001b[0m 1ms/step\n",
      "Training Feedforward NN...\n",
      "trained_models\\FFNN_30860c006e13696fbd4dafcab8179fa0.keras\n",
      "🔁 Loading pre-trained model from disk... 🔁\n",
      "\u001b[1m1878/1878\u001b[0m \u001b[32m━━━━━━━━━━━━━━━━━━━━\u001b[0m\u001b[37m\u001b[0m \u001b[1m3s\u001b[0m 1ms/step\n",
      "Training Feedforward NN...\n",
      "trained_models\\FFNN_30860c006e13696fbd4dafcab8179fa0.keras\n",
      "🔁 Loading pre-trained model from disk... 🔁\n",
      "\u001b[1m1881/1881\u001b[0m \u001b[32m━━━━━━━━━━━━━━━━━━━━\u001b[0m\u001b[37m\u001b[0m \u001b[1m3s\u001b[0m 1ms/step\n",
      "Training Feedforward NN...\n",
      "trained_models\\FFNN_30860c006e13696fbd4dafcab8179fa0.keras\n",
      "🔁 Loading pre-trained model from disk... 🔁\n",
      "\u001b[1m1830/1830\u001b[0m \u001b[32m━━━━━━━━━━━━━━━━━━━━\u001b[0m\u001b[37m\u001b[0m \u001b[1m3s\u001b[0m 1ms/step\n",
      "Training Feedforward NN...\n",
      "trained_models\\FFNN_30860c006e13696fbd4dafcab8179fa0.keras\n",
      "🔁 Loading pre-trained model from disk... 🔁\n",
      "\u001b[1m1832/1832\u001b[0m \u001b[32m━━━━━━━━━━━━━━━━━━━━\u001b[0m\u001b[37m\u001b[0m \u001b[1m3s\u001b[0m 1ms/step\n",
      "Training Feedforward NN...\n",
      "trained_models\\FFNN_30860c006e13696fbd4dafcab8179fa0.keras\n",
      "🔁 Loading pre-trained model from disk... 🔁\n",
      "\u001b[1m1840/1840\u001b[0m \u001b[32m━━━━━━━━━━━━━━━━━━━━\u001b[0m\u001b[37m\u001b[0m \u001b[1m3s\u001b[0m 1ms/step\n",
      "Training Feedforward NN...\n",
      "trained_models\\FFNN_30860c006e13696fbd4dafcab8179fa0.keras\n",
      "🔁 Loading pre-trained model from disk... 🔁\n",
      "\u001b[1m1801/1801\u001b[0m \u001b[32m━━━━━━━━━━━━━━━━━━━━\u001b[0m\u001b[37m\u001b[0m \u001b[1m2s\u001b[0m 1ms/step\n",
      "Training Feedforward NN...\n",
      "trained_models\\FFNN_30860c006e13696fbd4dafcab8179fa0.keras\n",
      "🔁 Loading pre-trained model from disk... 🔁\n",
      "\u001b[1m1824/1824\u001b[0m \u001b[32m━━━━━━━━━━━━━━━━━━━━\u001b[0m\u001b[37m\u001b[0m \u001b[1m2s\u001b[0m 1ms/step\n"
     ]
    },
    {
     "name": "stderr",
     "output_type": "stream",
     "text": [
      "2025-04-09 16:01:37.237 Thread 'MainThread': missing ScriptRunContext! This warning can be ignored when running in bare mode.\n"
     ]
    },
    {
     "name": "stdout",
     "output_type": "stream",
     "text": [
      "🔁 Model: LSTM\n",
      "🧪 Iter 0: using symbols → ['SOL', 'CRO', 'KAVA', 'DOT', 'MATIC', 'APE', 'BICO', 'RVN', 'CTC', 'BNB', 'SC', 'NEAR', 'FET', 'POND', 'AR', 'SFP', 'STX', 'SHIB', 'HIVE', 'LTC', 'IOST', 'SUSHI', 'KNC', 'JST', 'FIL', 'ADA', 'GAS', 'BAL', 'BAND', 'LRC', 'OM', 'STORJ', 'GALA', 'ATOM', 'SWFTC', 'LINK', 'LUNA', 'QNT', 'ASTR', 'CHR', 'SNT', 'FLUX', 'NEO', 'POWR', 'MBL', 'DENT', 'AXS', 'CFX', 'IMX', 'PHA', 'SKL', 'ILV', 'ENS', 'ONE', 'OXT', 'NMR', 'CVX', 'BTC', 'INJ', 'ELF', 'MANA', 'ETH', 'CELR', 'DOGE', 'ICP', 'HOT', 'JOE', 'KDA', 'RAD', 'MASK', 'MINA', 'LPT', 'CRV', 'DODO', 'EGLD', 'HNT', 'COTI', 'PAXG', 'CSPR', 'AAVE', 'EOS', 'BORA', 'BSV', 'LEO', 'KSM', 'RNDR', 'REQ', 'PUNDIX', 'RUNE', 'LSK', 'OGN', 'AMP', 'MOVR', 'SXP', 'DCR', 'GT', 'NEXO', 'BTT', 'FTT', 'ICX', 'SPELL', 'DASH', 'ALGO', 'QTUM', 'RSR', 'GRT', 'AGLD', 'ETC', 'NANO', 'SNX', 'JASMY', 'RLC', 'CHZ', 'ONT', 'MIOTA', 'IQ', 'CAKE', 'CTSI', 'STG', 'PYR', 'AMPL', 'DYDX', 'ACH', 'HBAR', 'CVC', 'T', 'BEL', 'GNO', 'ROSE', 'MKR', 'CELO', 'ORBS', 'RAY', 'SLP', 'CKB', 'METIS', 'AVAX', 'AUCTION', 'IOTX', 'LDO', '1INCH', 'GMT', 'ONGAS', 'ENJ', 'COMP', 'CFG', 'BCH', 'DIA', 'C98', 'ANKR', 'DAI', 'GLM', 'BAT', 'SAND', 'FLOW', 'SUPER', 'AUDIO', 'DGB', 'API3', 'STPT']\n",
      "📊 Indicator Cols: ['RSI', 'MFI', 'APO', 'AROON_up', 'AROON_down', 'AROONOSC', 'ADX', 'MOM', 'ROC', 'WILLR', 'BOP', 'OBV', 'ADOSC', 'ATR', 'CORREL', 'LINEARREG_ANGLE', 'STDDEV', 'AVGPRICE', 'price_above_EMA', 'price_above_KAMA', 'volume', 'vol_chg_3d', 'volume_over_ATR', 'lagged_return_1d', 'Sentiment', 'RSI_sentiment', 'MFI_sentiment', 'reddit_sentiment', 'fear_greed_index', 'title_sentiment', 'momentum_ratio_3d', 'BOP_ATR', 'ADX_OBV', 'PPO_STD', 'BOP_sq', 'VAR_sq', 'STDDEV_sq', 'RSI_over_ATR', 'BOP_over_STDDEV', 'bollinger_percent', 'BOP_sq.1', 'log_VAR', 'USD_strength_index', 'CBOE_volatility_index', 'gas_price_gwei', 'treasury_yield_10yr', 'consumer_sentiment_index', 'CPI', 'FEDFUNDS', 'UNRATE']\n"
     ]
    },
    {
     "name": "stderr",
     "output_type": "stream",
     "text": [
      "2025-04-09 16:01:37.242 Thread 'MainThread': missing ScriptRunContext! This warning can be ignored when running in bare mode.\n",
      "2025-04-09 16:01:37.242 Thread 'MainThread': missing ScriptRunContext! This warning can be ignored when running in bare mode.\n",
      "2025-04-09 16:01:37.757 Thread 'Thread-115': missing ScriptRunContext! This warning can be ignored when running in bare mode.\n",
      "2025-04-09 16:01:37.765 Thread 'Thread-115': missing ScriptRunContext! This warning can be ignored when running in bare mode.\n",
      "2025-04-09 16:01:38.643 Thread 'MainThread': missing ScriptRunContext! This warning can be ignored when running in bare mode.\n",
      "2025-04-09 16:01:38.647 Thread 'MainThread': missing ScriptRunContext! This warning can be ignored when running in bare mode.\n"
     ]
    },
    {
     "name": "stdout",
     "output_type": "stream",
     "text": [
      "\u001b[1m1815/1815\u001b[0m \u001b[32m━━━━━━━━━━━━━━━━━━━━\u001b[0m\u001b[37m\u001b[0m \u001b[1m4s\u001b[0m 2ms/step\n"
     ]
    },
    {
     "name": "stderr",
     "output_type": "stream",
     "text": [
      "2025-04-09 16:01:43.823 Thread 'MainThread': missing ScriptRunContext! This warning can be ignored when running in bare mode.\n",
      "2025-04-09 16:01:43.824 Thread 'MainThread': missing ScriptRunContext! This warning can be ignored when running in bare mode.\n",
      "2025-04-09 16:01:43.825 Thread 'MainThread': missing ScriptRunContext! This warning can be ignored when running in bare mode.\n"
     ]
    },
    {
     "name": "stdout",
     "output_type": "stream",
     "text": [
      "🧪 Iter 1: using symbols → ['SOL', 'CRO', 'KAVA', 'DOT', 'MATIC', 'APE', 'BICO', 'RVN', 'CTC', 'BNB', 'SC', 'NEAR', 'FET', 'POND', 'AR', 'SFP', 'STX', 'SHIB', 'HIVE', 'LTC', 'IOST', 'SUSHI', 'KNC', 'JST', 'FIL', 'ADA', 'GAS', 'BAL', 'BAND', 'LRC', 'OM', 'STORJ', 'GALA', 'ATOM', 'SWFTC', 'LINK', 'LUNA', 'QNT', 'ASTR', 'CHR', 'SNT', 'FLUX', 'NEO', 'POWR', 'MBL', 'DENT', 'AXS', 'CFX', 'IMX', 'PHA', 'SKL', 'ILV', 'ENS', 'ONE', 'OXT', 'NMR', 'CVX', 'BTC', 'INJ', 'ELF', 'MANA', 'ETH', 'CELR', 'DOGE', 'ICP', 'HOT', 'JOE', 'KDA', 'RAD', 'MASK', 'MINA', 'LPT', 'CRV', 'DODO', 'EGLD', 'HNT', 'COTI', 'PAXG', 'CSPR', 'AAVE', 'EOS', 'BORA', 'BSV', 'LEO', 'KSM', 'RNDR', 'REQ', 'PUNDIX', 'RUNE', 'LSK', 'OGN', 'AMP', 'MOVR', 'SXP', 'DCR', 'GT', 'NEXO', 'BTT', 'FTT', 'ICX', 'SPELL', 'DASH', 'ALGO', 'QTUM', 'RSR', 'GRT', 'AGLD', 'ETC', 'NANO', 'SNX', 'JASMY', 'RLC', 'CHZ', 'ONT', 'MIOTA', 'IQ', 'CAKE', 'CTSI', 'STG', 'PYR', 'AMPL', 'DYDX', 'ACH', 'HBAR', 'CVC', 'T', 'BEL', 'GNO', 'ROSE', 'MKR', 'CELO', 'ORBS', 'RAY', 'SLP', 'CKB', 'METIS', 'AVAX', 'AUCTION', 'IOTX', 'LDO', '1INCH', 'GMT', 'ONGAS', 'ENJ', 'COMP', 'CFG', 'BCH', 'DIA', 'C98', 'ANKR', 'DAI', 'GLM', 'BAT', 'SAND', 'FLOW', 'SUPER', 'AUDIO', 'DGB', 'API3', 'STPT']\n",
      "📊 Indicator Cols: ['RSI', 'MFI', 'APO', 'AROON_up', 'AROON_down', 'AROONOSC', 'ADX', 'MOM', 'ROC', 'WILLR', 'BOP', 'OBV', 'ADOSC', 'ATR', 'CORREL', 'LINEARREG_ANGLE', 'STDDEV', 'AVGPRICE', 'price_above_EMA', 'price_above_KAMA', 'volume', 'vol_chg_3d', 'volume_over_ATR', 'lagged_return_1d', 'Sentiment', 'RSI_sentiment', 'MFI_sentiment', 'reddit_sentiment', 'fear_greed_index', 'title_sentiment', 'momentum_ratio_3d', 'BOP_ATR', 'ADX_OBV', 'PPO_STD', 'BOP_sq', 'VAR_sq', 'STDDEV_sq', 'RSI_over_ATR', 'BOP_over_STDDEV', 'bollinger_percent', 'BOP_sq.1', 'log_VAR', 'USD_strength_index', 'CBOE_volatility_index', 'gas_price_gwei', 'treasury_yield_10yr', 'consumer_sentiment_index', 'CPI', 'FEDFUNDS', 'UNRATE']\n"
     ]
    },
    {
     "name": "stderr",
     "output_type": "stream",
     "text": [
      "2025-04-09 16:01:44.332 Thread 'Thread-116': missing ScriptRunContext! This warning can be ignored when running in bare mode.\n",
      "2025-04-09 16:01:44.346 Thread 'Thread-116': missing ScriptRunContext! This warning can be ignored when running in bare mode.\n",
      "2025-04-09 16:01:45.322 Thread 'MainThread': missing ScriptRunContext! This warning can be ignored when running in bare mode.\n",
      "2025-04-09 16:01:45.322 Thread 'MainThread': missing ScriptRunContext! This warning can be ignored when running in bare mode.\n"
     ]
    },
    {
     "name": "stdout",
     "output_type": "stream",
     "text": [
      "\u001b[1m1831/1831\u001b[0m \u001b[32m━━━━━━━━━━━━━━━━━━━━\u001b[0m\u001b[37m\u001b[0m \u001b[1m5s\u001b[0m 3ms/step\n"
     ]
    },
    {
     "name": "stderr",
     "output_type": "stream",
     "text": [
      "2025-04-09 16:01:50.948 Thread 'MainThread': missing ScriptRunContext! This warning can be ignored when running in bare mode.\n",
      "2025-04-09 16:01:50.949 Thread 'MainThread': missing ScriptRunContext! This warning can be ignored when running in bare mode.\n",
      "2025-04-09 16:01:50.950 Thread 'MainThread': missing ScriptRunContext! This warning can be ignored when running in bare mode.\n"
     ]
    },
    {
     "name": "stdout",
     "output_type": "stream",
     "text": [
      "🧪 Iter 2: using symbols → ['SOL', 'CRO', 'KAVA', 'DOT', 'MATIC', 'APE', 'BICO', 'RVN', 'CTC', 'BNB', 'SC', 'NEAR', 'FET', 'POND', 'AR', 'SFP', 'STX', 'SHIB', 'HIVE', 'LTC', 'IOST', 'SUSHI', 'KNC', 'JST', 'FIL', 'ADA', 'GAS', 'BAL', 'BAND', 'LRC', 'OM', 'STORJ', 'GALA', 'ATOM', 'SWFTC', 'LINK', 'LUNA', 'QNT', 'ASTR', 'CHR', 'SNT', 'FLUX', 'NEO', 'POWR', 'MBL', 'DENT', 'AXS', 'CFX', 'IMX', 'PHA', 'SKL', 'ILV', 'ENS', 'ONE', 'OXT', 'NMR', 'CVX', 'BTC', 'INJ', 'ELF', 'MANA', 'ETH', 'CELR', 'DOGE', 'ICP', 'HOT', 'JOE', 'KDA', 'RAD', 'MASK', 'MINA', 'LPT', 'CRV', 'DODO', 'EGLD', 'HNT', 'COTI', 'PAXG', 'CSPR', 'AAVE', 'EOS', 'BORA', 'BSV', 'LEO', 'KSM', 'RNDR', 'REQ', 'PUNDIX', 'RUNE', 'LSK', 'OGN', 'AMP', 'MOVR', 'SXP', 'DCR', 'GT', 'NEXO', 'BTT', 'FTT', 'ICX', 'SPELL', 'DASH', 'ALGO', 'QTUM', 'RSR', 'GRT', 'AGLD', 'ETC', 'NANO', 'SNX', 'JASMY', 'RLC', 'CHZ', 'ONT', 'MIOTA', 'IQ', 'CAKE', 'CTSI', 'STG', 'PYR', 'AMPL', 'DYDX', 'ACH', 'HBAR', 'CVC', 'T', 'BEL', 'GNO', 'ROSE', 'MKR', 'CELO', 'ORBS', 'RAY', 'SLP', 'CKB', 'METIS', 'AVAX', 'AUCTION', 'IOTX', 'LDO', '1INCH', 'GMT', 'ONGAS', 'ENJ', 'COMP', 'CFG', 'BCH', 'DIA', 'C98', 'ANKR', 'DAI', 'GLM', 'BAT', 'SAND', 'FLOW', 'SUPER', 'AUDIO', 'DGB', 'API3', 'STPT']\n",
      "📊 Indicator Cols: ['RSI', 'MFI', 'APO', 'AROON_up', 'AROON_down', 'AROONOSC', 'ADX', 'MOM', 'ROC', 'WILLR', 'BOP', 'OBV', 'ADOSC', 'ATR', 'CORREL', 'LINEARREG_ANGLE', 'STDDEV', 'AVGPRICE', 'price_above_EMA', 'price_above_KAMA', 'volume', 'vol_chg_3d', 'volume_over_ATR', 'lagged_return_1d', 'Sentiment', 'RSI_sentiment', 'MFI_sentiment', 'reddit_sentiment', 'fear_greed_index', 'title_sentiment', 'momentum_ratio_3d', 'BOP_ATR', 'ADX_OBV', 'PPO_STD', 'BOP_sq', 'VAR_sq', 'STDDEV_sq', 'RSI_over_ATR', 'BOP_over_STDDEV', 'bollinger_percent', 'BOP_sq.1', 'log_VAR', 'USD_strength_index', 'CBOE_volatility_index', 'gas_price_gwei', 'treasury_yield_10yr', 'consumer_sentiment_index', 'CPI', 'FEDFUNDS', 'UNRATE']\n"
     ]
    },
    {
     "name": "stderr",
     "output_type": "stream",
     "text": [
      "2025-04-09 16:01:51.455 Thread 'Thread-117': missing ScriptRunContext! This warning can be ignored when running in bare mode.\n",
      "2025-04-09 16:01:51.461 Thread 'Thread-117': missing ScriptRunContext! This warning can be ignored when running in bare mode.\n",
      "2025-04-09 16:01:52.393 Thread 'MainThread': missing ScriptRunContext! This warning can be ignored when running in bare mode.\n",
      "2025-04-09 16:01:52.393 Thread 'MainThread': missing ScriptRunContext! This warning can be ignored when running in bare mode.\n"
     ]
    },
    {
     "name": "stdout",
     "output_type": "stream",
     "text": [
      "\u001b[1m1807/1807\u001b[0m \u001b[32m━━━━━━━━━━━━━━━━━━━━\u001b[0m\u001b[37m\u001b[0m \u001b[1m4s\u001b[0m 2ms/step\n"
     ]
    },
    {
     "name": "stderr",
     "output_type": "stream",
     "text": [
      "2025-04-09 16:01:57.759 Thread 'MainThread': missing ScriptRunContext! This warning can be ignored when running in bare mode.\n",
      "2025-04-09 16:01:57.761 Thread 'MainThread': missing ScriptRunContext! This warning can be ignored when running in bare mode.\n",
      "2025-04-09 16:01:57.763 Thread 'MainThread': missing ScriptRunContext! This warning can be ignored when running in bare mode.\n"
     ]
    },
    {
     "name": "stdout",
     "output_type": "stream",
     "text": [
      "🧪 Iter 3: using symbols → ['SOL', 'CRO', 'KAVA', 'DOT', 'MATIC', 'APE', 'BICO', 'RVN', 'CTC', 'BNB', 'SC', 'NEAR', 'FET', 'POND', 'AR', 'SFP', 'STX', 'SHIB', 'HIVE', 'LTC', 'IOST', 'SUSHI', 'KNC', 'JST', 'FIL', 'ADA', 'GAS', 'BAL', 'BAND', 'LRC', 'OM', 'STORJ', 'GALA', 'ATOM', 'SWFTC', 'LINK', 'LUNA', 'QNT', 'ASTR', 'CHR', 'SNT', 'FLUX', 'NEO', 'POWR', 'MBL', 'DENT', 'AXS', 'CFX', 'IMX', 'PHA', 'SKL', 'ILV', 'ENS', 'ONE', 'OXT', 'NMR', 'CVX', 'BTC', 'INJ', 'ELF', 'MANA', 'ETH', 'CELR', 'DOGE', 'ICP', 'HOT', 'JOE', 'KDA', 'RAD', 'MASK', 'MINA', 'LPT', 'CRV', 'DODO', 'EGLD', 'HNT', 'COTI', 'PAXG', 'CSPR', 'AAVE', 'EOS', 'BORA', 'BSV', 'LEO', 'KSM', 'RNDR', 'REQ', 'PUNDIX', 'RUNE', 'LSK', 'OGN', 'AMP', 'MOVR', 'SXP', 'DCR', 'GT', 'NEXO', 'BTT', 'FTT', 'ICX', 'SPELL', 'DASH', 'ALGO', 'QTUM', 'RSR', 'GRT', 'AGLD', 'ETC', 'NANO', 'SNX', 'JASMY', 'RLC', 'CHZ', 'ONT', 'MIOTA', 'IQ', 'CAKE', 'CTSI', 'STG', 'PYR', 'AMPL', 'DYDX', 'ACH', 'HBAR', 'CVC', 'T', 'BEL', 'GNO', 'ROSE', 'MKR', 'CELO', 'ORBS', 'RAY', 'SLP', 'CKB', 'METIS', 'AVAX', 'AUCTION', 'IOTX', 'LDO', '1INCH', 'GMT', 'ONGAS', 'ENJ', 'COMP', 'CFG', 'BCH', 'DIA', 'C98', 'ANKR', 'DAI', 'GLM', 'BAT', 'SAND', 'FLOW', 'SUPER', 'AUDIO', 'DGB', 'API3', 'STPT']\n",
      "📊 Indicator Cols: ['RSI', 'MFI', 'APO', 'AROON_up', 'AROON_down', 'AROONOSC', 'ADX', 'MOM', 'ROC', 'WILLR', 'BOP', 'OBV', 'ADOSC', 'ATR', 'CORREL', 'LINEARREG_ANGLE', 'STDDEV', 'AVGPRICE', 'price_above_EMA', 'price_above_KAMA', 'volume', 'vol_chg_3d', 'volume_over_ATR', 'lagged_return_1d', 'Sentiment', 'RSI_sentiment', 'MFI_sentiment', 'reddit_sentiment', 'fear_greed_index', 'title_sentiment', 'momentum_ratio_3d', 'BOP_ATR', 'ADX_OBV', 'PPO_STD', 'BOP_sq', 'VAR_sq', 'STDDEV_sq', 'RSI_over_ATR', 'BOP_over_STDDEV', 'bollinger_percent', 'BOP_sq.1', 'log_VAR', 'USD_strength_index', 'CBOE_volatility_index', 'gas_price_gwei', 'treasury_yield_10yr', 'consumer_sentiment_index', 'CPI', 'FEDFUNDS', 'UNRATE']\n"
     ]
    },
    {
     "name": "stderr",
     "output_type": "stream",
     "text": [
      "2025-04-09 16:01:58.276 Thread 'Thread-118': missing ScriptRunContext! This warning can be ignored when running in bare mode.\n",
      "2025-04-09 16:01:58.280 Thread 'Thread-118': missing ScriptRunContext! This warning can be ignored when running in bare mode.\n",
      "2025-04-09 16:01:59.211 Thread 'MainThread': missing ScriptRunContext! This warning can be ignored when running in bare mode.\n",
      "2025-04-09 16:01:59.211 Thread 'MainThread': missing ScriptRunContext! This warning can be ignored when running in bare mode.\n"
     ]
    },
    {
     "name": "stdout",
     "output_type": "stream",
     "text": [
      "\u001b[1m1779/1779\u001b[0m \u001b[32m━━━━━━━━━━━━━━━━━━━━\u001b[0m\u001b[37m\u001b[0m \u001b[1m4s\u001b[0m 2ms/step\n"
     ]
    },
    {
     "name": "stderr",
     "output_type": "stream",
     "text": [
      "2025-04-09 16:02:04.324 Thread 'MainThread': missing ScriptRunContext! This warning can be ignored when running in bare mode.\n",
      "2025-04-09 16:02:04.324 Thread 'MainThread': missing ScriptRunContext! This warning can be ignored when running in bare mode.\n",
      "2025-04-09 16:02:04.325 Thread 'MainThread': missing ScriptRunContext! This warning can be ignored when running in bare mode.\n"
     ]
    },
    {
     "name": "stdout",
     "output_type": "stream",
     "text": [
      "🧪 Iter 4: using symbols → ['SOL', 'CRO', 'KAVA', 'DOT', 'MATIC', 'APE', 'BICO', 'RVN', 'CTC', 'BNB', 'SC', 'NEAR', 'FET', 'POND', 'AR', 'SFP', 'STX', 'SHIB', 'HIVE', 'LTC', 'IOST', 'SUSHI', 'KNC', 'JST', 'FIL', 'ADA', 'GAS', 'BAL', 'BAND', 'LRC', 'OM', 'STORJ', 'GALA', 'ATOM', 'SWFTC', 'LINK', 'LUNA', 'QNT', 'ASTR', 'CHR', 'SNT', 'FLUX', 'NEO', 'POWR', 'MBL', 'DENT', 'AXS', 'CFX', 'IMX', 'PHA', 'SKL', 'ILV', 'ENS', 'ONE', 'OXT', 'NMR', 'CVX', 'BTC', 'INJ', 'ELF', 'MANA', 'ETH', 'CELR', 'DOGE', 'ICP', 'HOT', 'JOE', 'KDA', 'RAD', 'MASK', 'MINA', 'LPT', 'CRV', 'DODO', 'EGLD', 'HNT', 'COTI', 'PAXG', 'CSPR', 'AAVE', 'EOS', 'BORA', 'BSV', 'LEO', 'KSM', 'RNDR', 'REQ', 'PUNDIX', 'RUNE', 'LSK', 'OGN', 'AMP', 'MOVR', 'SXP', 'DCR', 'GT', 'NEXO', 'BTT', 'FTT', 'ICX', 'SPELL', 'DASH', 'ALGO', 'QTUM', 'RSR', 'GRT', 'AGLD', 'ETC', 'NANO', 'SNX', 'JASMY', 'RLC', 'CHZ', 'ONT', 'MIOTA', 'IQ', 'CAKE', 'CTSI', 'STG', 'PYR', 'AMPL', 'DYDX', 'ACH', 'HBAR', 'CVC', 'T', 'BEL', 'GNO', 'ROSE', 'MKR', 'CELO', 'ORBS', 'RAY', 'SLP', 'CKB', 'METIS', 'AVAX', 'AUCTION', 'IOTX', 'LDO', '1INCH', 'GMT', 'ONGAS', 'ENJ', 'COMP', 'CFG', 'BCH', 'DIA', 'C98', 'ANKR', 'DAI', 'GLM', 'BAT', 'SAND', 'FLOW', 'SUPER', 'AUDIO', 'DGB', 'API3', 'STPT']\n",
      "📊 Indicator Cols: ['RSI', 'MFI', 'APO', 'AROON_up', 'AROON_down', 'AROONOSC', 'ADX', 'MOM', 'ROC', 'WILLR', 'BOP', 'OBV', 'ADOSC', 'ATR', 'CORREL', 'LINEARREG_ANGLE', 'STDDEV', 'AVGPRICE', 'price_above_EMA', 'price_above_KAMA', 'volume', 'vol_chg_3d', 'volume_over_ATR', 'lagged_return_1d', 'Sentiment', 'RSI_sentiment', 'MFI_sentiment', 'reddit_sentiment', 'fear_greed_index', 'title_sentiment', 'momentum_ratio_3d', 'BOP_ATR', 'ADX_OBV', 'PPO_STD', 'BOP_sq', 'VAR_sq', 'STDDEV_sq', 'RSI_over_ATR', 'BOP_over_STDDEV', 'bollinger_percent', 'BOP_sq.1', 'log_VAR', 'USD_strength_index', 'CBOE_volatility_index', 'gas_price_gwei', 'treasury_yield_10yr', 'consumer_sentiment_index', 'CPI', 'FEDFUNDS', 'UNRATE']\n"
     ]
    },
    {
     "name": "stderr",
     "output_type": "stream",
     "text": [
      "2025-04-09 16:02:04.829 Thread 'Thread-119': missing ScriptRunContext! This warning can be ignored when running in bare mode.\n",
      "2025-04-09 16:02:04.839 Thread 'Thread-119': missing ScriptRunContext! This warning can be ignored when running in bare mode.\n",
      "2025-04-09 16:02:05.791 Thread 'MainThread': missing ScriptRunContext! This warning can be ignored when running in bare mode.\n",
      "2025-04-09 16:02:05.791 Thread 'MainThread': missing ScriptRunContext! This warning can be ignored when running in bare mode.\n"
     ]
    },
    {
     "name": "stdout",
     "output_type": "stream",
     "text": [
      "\u001b[1m1826/1826\u001b[0m \u001b[32m━━━━━━━━━━━━━━━━━━━━\u001b[0m\u001b[37m\u001b[0m \u001b[1m4s\u001b[0m 2ms/step\n"
     ]
    },
    {
     "name": "stderr",
     "output_type": "stream",
     "text": [
      "2025-04-09 16:02:10.796 Thread 'MainThread': missing ScriptRunContext! This warning can be ignored when running in bare mode.\n",
      "2025-04-09 16:02:10.796 Thread 'MainThread': missing ScriptRunContext! This warning can be ignored when running in bare mode.\n",
      "2025-04-09 16:02:10.796 Thread 'MainThread': missing ScriptRunContext! This warning can be ignored when running in bare mode.\n"
     ]
    },
    {
     "name": "stdout",
     "output_type": "stream",
     "text": [
      "🧪 Iter 5: using symbols → ['SOL', 'CRO', 'KAVA', 'DOT', 'MATIC', 'APE', 'BICO', 'RVN', 'CTC', 'BNB', 'SC', 'NEAR', 'FET', 'POND', 'AR', 'SFP', 'STX', 'SHIB', 'HIVE', 'LTC', 'IOST', 'SUSHI', 'KNC', 'JST', 'FIL', 'ADA', 'GAS', 'BAL', 'BAND', 'LRC', 'OM', 'STORJ', 'GALA', 'ATOM', 'SWFTC', 'LINK', 'LUNA', 'QNT', 'ASTR', 'CHR', 'SNT', 'FLUX', 'NEO', 'POWR', 'MBL', 'DENT', 'AXS', 'CFX', 'IMX', 'PHA', 'SKL', 'ILV', 'ENS', 'ONE', 'OXT', 'NMR', 'CVX', 'BTC', 'INJ', 'ELF', 'MANA', 'ETH', 'CELR', 'DOGE', 'ICP', 'HOT', 'JOE', 'KDA', 'RAD', 'MASK', 'MINA', 'LPT', 'CRV', 'DODO', 'EGLD', 'HNT', 'COTI', 'PAXG', 'CSPR', 'AAVE', 'EOS', 'BORA', 'BSV', 'LEO', 'KSM', 'RNDR', 'REQ', 'PUNDIX', 'RUNE', 'LSK', 'OGN', 'AMP', 'MOVR', 'SXP', 'DCR', 'GT', 'NEXO', 'BTT', 'FTT', 'ICX', 'SPELL', 'DASH', 'ALGO', 'QTUM', 'RSR', 'GRT', 'AGLD', 'ETC', 'NANO', 'SNX', 'JASMY', 'RLC', 'CHZ', 'ONT', 'MIOTA', 'IQ', 'CAKE', 'CTSI', 'STG', 'PYR', 'AMPL', 'DYDX', 'ACH', 'HBAR', 'CVC', 'T', 'BEL', 'GNO', 'ROSE', 'MKR', 'CELO', 'ORBS', 'RAY', 'SLP', 'CKB', 'METIS', 'AVAX', 'AUCTION', 'IOTX', 'LDO', '1INCH', 'GMT', 'ONGAS', 'ENJ', 'COMP', 'CFG', 'BCH', 'DIA', 'C98', 'ANKR', 'DAI', 'GLM', 'BAT', 'SAND', 'FLOW', 'SUPER', 'AUDIO', 'DGB', 'API3', 'STPT']\n",
      "📊 Indicator Cols: ['RSI', 'MFI', 'APO', 'AROON_up', 'AROON_down', 'AROONOSC', 'ADX', 'MOM', 'ROC', 'WILLR', 'BOP', 'OBV', 'ADOSC', 'ATR', 'CORREL', 'LINEARREG_ANGLE', 'STDDEV', 'AVGPRICE', 'price_above_EMA', 'price_above_KAMA', 'volume', 'vol_chg_3d', 'volume_over_ATR', 'lagged_return_1d', 'Sentiment', 'RSI_sentiment', 'MFI_sentiment', 'reddit_sentiment', 'fear_greed_index', 'title_sentiment', 'momentum_ratio_3d', 'BOP_ATR', 'ADX_OBV', 'PPO_STD', 'BOP_sq', 'VAR_sq', 'STDDEV_sq', 'RSI_over_ATR', 'BOP_over_STDDEV', 'bollinger_percent', 'BOP_sq.1', 'log_VAR', 'USD_strength_index', 'CBOE_volatility_index', 'gas_price_gwei', 'treasury_yield_10yr', 'consumer_sentiment_index', 'CPI', 'FEDFUNDS', 'UNRATE']\n"
     ]
    },
    {
     "name": "stderr",
     "output_type": "stream",
     "text": [
      "2025-04-09 16:02:11.320 Thread 'Thread-120': missing ScriptRunContext! This warning can be ignored when running in bare mode.\n",
      "2025-04-09 16:02:11.330 Thread 'Thread-120': missing ScriptRunContext! This warning can be ignored when running in bare mode.\n",
      "2025-04-09 16:02:12.274 Thread 'MainThread': missing ScriptRunContext! This warning can be ignored when running in bare mode.\n",
      "2025-04-09 16:02:12.274 Thread 'MainThread': missing ScriptRunContext! This warning can be ignored when running in bare mode.\n"
     ]
    },
    {
     "name": "stdout",
     "output_type": "stream",
     "text": [
      "\u001b[1m1802/1802\u001b[0m \u001b[32m━━━━━━━━━━━━━━━━━━━━\u001b[0m\u001b[37m\u001b[0m \u001b[1m5s\u001b[0m 3ms/step\n"
     ]
    },
    {
     "name": "stderr",
     "output_type": "stream",
     "text": [
      "2025-04-09 16:02:17.963 Thread 'MainThread': missing ScriptRunContext! This warning can be ignored when running in bare mode.\n",
      "2025-04-09 16:02:17.969 Thread 'MainThread': missing ScriptRunContext! This warning can be ignored when running in bare mode.\n",
      "2025-04-09 16:02:17.969 Thread 'MainThread': missing ScriptRunContext! This warning can be ignored when running in bare mode.\n"
     ]
    },
    {
     "name": "stdout",
     "output_type": "stream",
     "text": [
      "🧪 Iter 6: using symbols → ['SOL', 'CRO', 'KAVA', 'DOT', 'MATIC', 'APE', 'BICO', 'RVN', 'CTC', 'BNB', 'SC', 'NEAR', 'FET', 'POND', 'AR', 'SFP', 'STX', 'SHIB', 'HIVE', 'LTC', 'IOST', 'SUSHI', 'KNC', 'JST', 'FIL', 'ADA', 'GAS', 'BAL', 'BAND', 'LRC', 'OM', 'STORJ', 'GALA', 'ATOM', 'SWFTC', 'LINK', 'LUNA', 'QNT', 'ASTR', 'CHR', 'SNT', 'FLUX', 'NEO', 'POWR', 'MBL', 'DENT', 'AXS', 'CFX', 'IMX', 'PHA', 'SKL', 'ILV', 'ENS', 'ONE', 'OXT', 'NMR', 'CVX', 'BTC', 'INJ', 'ELF', 'MANA', 'ETH', 'CELR', 'DOGE', 'ICP', 'HOT', 'JOE', 'KDA', 'RAD', 'MASK', 'MINA', 'LPT', 'CRV', 'DODO', 'EGLD', 'HNT', 'COTI', 'PAXG', 'CSPR', 'AAVE', 'EOS', 'BORA', 'BSV', 'LEO', 'KSM', 'RNDR', 'REQ', 'PUNDIX', 'RUNE', 'LSK', 'OGN', 'AMP', 'MOVR', 'SXP', 'DCR', 'GT', 'NEXO', 'BTT', 'FTT', 'ICX', 'SPELL', 'DASH', 'ALGO', 'QTUM', 'RSR', 'GRT', 'AGLD', 'ETC', 'NANO', 'SNX', 'JASMY', 'RLC', 'CHZ', 'ONT', 'MIOTA', 'IQ', 'CAKE', 'CTSI', 'STG', 'PYR', 'AMPL', 'DYDX', 'ACH', 'HBAR', 'CVC', 'T', 'BEL', 'GNO', 'ROSE', 'MKR', 'CELO', 'ORBS', 'RAY', 'SLP', 'CKB', 'METIS', 'AVAX', 'AUCTION', 'IOTX', 'LDO', '1INCH', 'GMT', 'ONGAS', 'ENJ', 'COMP', 'CFG', 'BCH', 'DIA', 'C98', 'ANKR', 'DAI', 'GLM', 'BAT', 'SAND', 'FLOW', 'SUPER', 'AUDIO', 'DGB', 'API3', 'STPT']\n",
      "📊 Indicator Cols: ['RSI', 'MFI', 'APO', 'AROON_up', 'AROON_down', 'AROONOSC', 'ADX', 'MOM', 'ROC', 'WILLR', 'BOP', 'OBV', 'ADOSC', 'ATR', 'CORREL', 'LINEARREG_ANGLE', 'STDDEV', 'AVGPRICE', 'price_above_EMA', 'price_above_KAMA', 'volume', 'vol_chg_3d', 'volume_over_ATR', 'lagged_return_1d', 'Sentiment', 'RSI_sentiment', 'MFI_sentiment', 'reddit_sentiment', 'fear_greed_index', 'title_sentiment', 'momentum_ratio_3d', 'BOP_ATR', 'ADX_OBV', 'PPO_STD', 'BOP_sq', 'VAR_sq', 'STDDEV_sq', 'RSI_over_ATR', 'BOP_over_STDDEV', 'bollinger_percent', 'BOP_sq.1', 'log_VAR', 'USD_strength_index', 'CBOE_volatility_index', 'gas_price_gwei', 'treasury_yield_10yr', 'consumer_sentiment_index', 'CPI', 'FEDFUNDS', 'UNRATE']\n"
     ]
    },
    {
     "name": "stderr",
     "output_type": "stream",
     "text": [
      "2025-04-09 16:02:18.475 Thread 'Thread-121': missing ScriptRunContext! This warning can be ignored when running in bare mode.\n",
      "2025-04-09 16:02:18.480 Thread 'Thread-121': missing ScriptRunContext! This warning can be ignored when running in bare mode.\n",
      "2025-04-09 16:02:19.472 Thread 'MainThread': missing ScriptRunContext! This warning can be ignored when running in bare mode.\n",
      "2025-04-09 16:02:19.472 Thread 'MainThread': missing ScriptRunContext! This warning can be ignored when running in bare mode.\n"
     ]
    },
    {
     "name": "stdout",
     "output_type": "stream",
     "text": [
      "\u001b[1m1825/1825\u001b[0m \u001b[32m━━━━━━━━━━━━━━━━━━━━\u001b[0m\u001b[37m\u001b[0m \u001b[1m4s\u001b[0m 2ms/step\n"
     ]
    },
    {
     "name": "stderr",
     "output_type": "stream",
     "text": [
      "2025-04-09 16:02:24.813 Thread 'MainThread': missing ScriptRunContext! This warning can be ignored when running in bare mode.\n",
      "2025-04-09 16:02:24.813 Thread 'MainThread': missing ScriptRunContext! This warning can be ignored when running in bare mode.\n",
      "2025-04-09 16:02:24.813 Thread 'MainThread': missing ScriptRunContext! This warning can be ignored when running in bare mode.\n"
     ]
    },
    {
     "name": "stdout",
     "output_type": "stream",
     "text": [
      "🧪 Iter 7: using symbols → ['SOL', 'CRO', 'KAVA', 'DOT', 'MATIC', 'APE', 'BICO', 'RVN', 'CTC', 'BNB', 'SC', 'NEAR', 'FET', 'POND', 'AR', 'SFP', 'STX', 'SHIB', 'HIVE', 'LTC', 'IOST', 'SUSHI', 'KNC', 'JST', 'FIL', 'ADA', 'GAS', 'BAL', 'BAND', 'LRC', 'OM', 'STORJ', 'GALA', 'ATOM', 'SWFTC', 'LINK', 'LUNA', 'QNT', 'ASTR', 'CHR', 'SNT', 'FLUX', 'NEO', 'POWR', 'MBL', 'DENT', 'AXS', 'CFX', 'IMX', 'PHA', 'SKL', 'ILV', 'ENS', 'ONE', 'OXT', 'NMR', 'CVX', 'BTC', 'INJ', 'ELF', 'MANA', 'ETH', 'CELR', 'DOGE', 'ICP', 'HOT', 'JOE', 'KDA', 'RAD', 'MASK', 'MINA', 'LPT', 'CRV', 'DODO', 'EGLD', 'HNT', 'COTI', 'PAXG', 'CSPR', 'AAVE', 'EOS', 'BORA', 'BSV', 'LEO', 'KSM', 'RNDR', 'REQ', 'PUNDIX', 'RUNE', 'LSK', 'OGN', 'AMP', 'MOVR', 'SXP', 'DCR', 'GT', 'NEXO', 'BTT', 'FTT', 'ICX', 'SPELL', 'DASH', 'ALGO', 'QTUM', 'RSR', 'GRT', 'AGLD', 'ETC', 'NANO', 'SNX', 'JASMY', 'RLC', 'CHZ', 'ONT', 'MIOTA', 'IQ', 'CAKE', 'CTSI', 'STG', 'PYR', 'AMPL', 'DYDX', 'ACH', 'HBAR', 'CVC', 'T', 'BEL', 'GNO', 'ROSE', 'MKR', 'CELO', 'ORBS', 'RAY', 'SLP', 'CKB', 'METIS', 'AVAX', 'AUCTION', 'IOTX', 'LDO', '1INCH', 'GMT', 'ONGAS', 'ENJ', 'COMP', 'CFG', 'BCH', 'DIA', 'C98', 'ANKR', 'DAI', 'GLM', 'BAT', 'SAND', 'FLOW', 'SUPER', 'AUDIO', 'DGB', 'API3', 'STPT']\n",
      "📊 Indicator Cols: ['RSI', 'MFI', 'APO', 'AROON_up', 'AROON_down', 'AROONOSC', 'ADX', 'MOM', 'ROC', 'WILLR', 'BOP', 'OBV', 'ADOSC', 'ATR', 'CORREL', 'LINEARREG_ANGLE', 'STDDEV', 'AVGPRICE', 'price_above_EMA', 'price_above_KAMA', 'volume', 'vol_chg_3d', 'volume_over_ATR', 'lagged_return_1d', 'Sentiment', 'RSI_sentiment', 'MFI_sentiment', 'reddit_sentiment', 'fear_greed_index', 'title_sentiment', 'momentum_ratio_3d', 'BOP_ATR', 'ADX_OBV', 'PPO_STD', 'BOP_sq', 'VAR_sq', 'STDDEV_sq', 'RSI_over_ATR', 'BOP_over_STDDEV', 'bollinger_percent', 'BOP_sq.1', 'log_VAR', 'USD_strength_index', 'CBOE_volatility_index', 'gas_price_gwei', 'treasury_yield_10yr', 'consumer_sentiment_index', 'CPI', 'FEDFUNDS', 'UNRATE']\n"
     ]
    },
    {
     "name": "stderr",
     "output_type": "stream",
     "text": [
      "2025-04-09 16:02:25.335 Thread 'Thread-122': missing ScriptRunContext! This warning can be ignored when running in bare mode.\n",
      "2025-04-09 16:02:25.339 Thread 'Thread-122': missing ScriptRunContext! This warning can be ignored when running in bare mode.\n",
      "2025-04-09 16:02:26.330 Thread 'MainThread': missing ScriptRunContext! This warning can be ignored when running in bare mode.\n",
      "2025-04-09 16:02:26.335 Thread 'MainThread': missing ScriptRunContext! This warning can be ignored when running in bare mode.\n"
     ]
    },
    {
     "name": "stdout",
     "output_type": "stream",
     "text": [
      "\u001b[1m1781/1781\u001b[0m \u001b[32m━━━━━━━━━━━━━━━━━━━━\u001b[0m\u001b[37m\u001b[0m \u001b[1m4s\u001b[0m 2ms/step\n"
     ]
    },
    {
     "name": "stderr",
     "output_type": "stream",
     "text": [
      "2025-04-09 16:02:31.876 Thread 'MainThread': missing ScriptRunContext! This warning can be ignored when running in bare mode.\n",
      "2025-04-09 16:02:31.877 Thread 'MainThread': missing ScriptRunContext! This warning can be ignored when running in bare mode.\n",
      "2025-04-09 16:02:31.879 Thread 'MainThread': missing ScriptRunContext! This warning can be ignored when running in bare mode.\n"
     ]
    },
    {
     "name": "stdout",
     "output_type": "stream",
     "text": [
      "🧪 Iter 8: using symbols → ['SOL', 'CRO', 'KAVA', 'DOT', 'MATIC', 'APE', 'BICO', 'RVN', 'CTC', 'BNB', 'SC', 'NEAR', 'FET', 'POND', 'AR', 'SFP', 'STX', 'SHIB', 'HIVE', 'LTC', 'IOST', 'SUSHI', 'KNC', 'JST', 'FIL', 'ADA', 'GAS', 'BAL', 'BAND', 'LRC', 'OM', 'STORJ', 'GALA', 'ATOM', 'SWFTC', 'LINK', 'LUNA', 'QNT', 'ASTR', 'CHR', 'SNT', 'FLUX', 'NEO', 'POWR', 'MBL', 'DENT', 'AXS', 'CFX', 'IMX', 'PHA', 'SKL', 'ILV', 'ENS', 'ONE', 'OXT', 'NMR', 'CVX', 'BTC', 'INJ', 'ELF', 'MANA', 'ETH', 'CELR', 'DOGE', 'ICP', 'HOT', 'JOE', 'KDA', 'RAD', 'MASK', 'MINA', 'LPT', 'CRV', 'DODO', 'EGLD', 'HNT', 'COTI', 'PAXG', 'CSPR', 'AAVE', 'EOS', 'BORA', 'BSV', 'LEO', 'KSM', 'RNDR', 'REQ', 'PUNDIX', 'RUNE', 'LSK', 'OGN', 'AMP', 'MOVR', 'SXP', 'DCR', 'GT', 'NEXO', 'BTT', 'FTT', 'ICX', 'SPELL', 'DASH', 'ALGO', 'QTUM', 'RSR', 'GRT', 'AGLD', 'ETC', 'NANO', 'SNX', 'JASMY', 'RLC', 'CHZ', 'ONT', 'MIOTA', 'IQ', 'CAKE', 'CTSI', 'STG', 'PYR', 'AMPL', 'DYDX', 'ACH', 'HBAR', 'CVC', 'T', 'BEL', 'GNO', 'ROSE', 'MKR', 'CELO', 'ORBS', 'RAY', 'SLP', 'CKB', 'METIS', 'AVAX', 'AUCTION', 'IOTX', 'LDO', '1INCH', 'GMT', 'ONGAS', 'ENJ', 'COMP', 'CFG', 'BCH', 'DIA', 'C98', 'ANKR', 'DAI', 'GLM', 'BAT', 'SAND', 'FLOW', 'SUPER', 'AUDIO', 'DGB', 'API3', 'STPT']\n",
      "📊 Indicator Cols: ['RSI', 'MFI', 'APO', 'AROON_up', 'AROON_down', 'AROONOSC', 'ADX', 'MOM', 'ROC', 'WILLR', 'BOP', 'OBV', 'ADOSC', 'ATR', 'CORREL', 'LINEARREG_ANGLE', 'STDDEV', 'AVGPRICE', 'price_above_EMA', 'price_above_KAMA', 'volume', 'vol_chg_3d', 'volume_over_ATR', 'lagged_return_1d', 'Sentiment', 'RSI_sentiment', 'MFI_sentiment', 'reddit_sentiment', 'fear_greed_index', 'title_sentiment', 'momentum_ratio_3d', 'BOP_ATR', 'ADX_OBV', 'PPO_STD', 'BOP_sq', 'VAR_sq', 'STDDEV_sq', 'RSI_over_ATR', 'BOP_over_STDDEV', 'bollinger_percent', 'BOP_sq.1', 'log_VAR', 'USD_strength_index', 'CBOE_volatility_index', 'gas_price_gwei', 'treasury_yield_10yr', 'consumer_sentiment_index', 'CPI', 'FEDFUNDS', 'UNRATE']\n"
     ]
    },
    {
     "name": "stderr",
     "output_type": "stream",
     "text": [
      "2025-04-09 16:02:32.392 Thread 'Thread-123': missing ScriptRunContext! This warning can be ignored when running in bare mode.\n",
      "2025-04-09 16:02:32.396 Thread 'Thread-123': missing ScriptRunContext! This warning can be ignored when running in bare mode.\n",
      "2025-04-09 16:02:33.452 Thread 'MainThread': missing ScriptRunContext! This warning can be ignored when running in bare mode.\n",
      "2025-04-09 16:02:33.453 Thread 'MainThread': missing ScriptRunContext! This warning can be ignored when running in bare mode.\n"
     ]
    },
    {
     "name": "stdout",
     "output_type": "stream",
     "text": [
      "\u001b[1m1817/1817\u001b[0m \u001b[32m━━━━━━━━━━━━━━━━━━━━\u001b[0m\u001b[37m\u001b[0m \u001b[1m5s\u001b[0m 2ms/step\n"
     ]
    },
    {
     "name": "stderr",
     "output_type": "stream",
     "text": [
      "2025-04-09 16:02:38.992 Thread 'MainThread': missing ScriptRunContext! This warning can be ignored when running in bare mode.\n",
      "2025-04-09 16:02:38.998 Thread 'MainThread': missing ScriptRunContext! This warning can be ignored when running in bare mode.\n",
      "2025-04-09 16:02:38.998 Thread 'MainThread': missing ScriptRunContext! This warning can be ignored when running in bare mode.\n"
     ]
    },
    {
     "name": "stdout",
     "output_type": "stream",
     "text": [
      "🧪 Iter 9: using symbols → ['SOL', 'CRO', 'KAVA', 'DOT', 'MATIC', 'APE', 'BICO', 'RVN', 'CTC', 'BNB', 'SC', 'NEAR', 'FET', 'POND', 'AR', 'SFP', 'STX', 'SHIB', 'HIVE', 'LTC', 'IOST', 'SUSHI', 'KNC', 'JST', 'FIL', 'ADA', 'GAS', 'BAL', 'BAND', 'LRC', 'OM', 'STORJ', 'GALA', 'ATOM', 'SWFTC', 'LINK', 'LUNA', 'QNT', 'ASTR', 'CHR', 'SNT', 'FLUX', 'NEO', 'POWR', 'MBL', 'DENT', 'AXS', 'CFX', 'IMX', 'PHA', 'SKL', 'ILV', 'ENS', 'ONE', 'OXT', 'NMR', 'CVX', 'BTC', 'INJ', 'ELF', 'MANA', 'ETH', 'CELR', 'DOGE', 'ICP', 'HOT', 'JOE', 'KDA', 'RAD', 'MASK', 'MINA', 'LPT', 'CRV', 'DODO', 'EGLD', 'HNT', 'COTI', 'PAXG', 'CSPR', 'AAVE', 'EOS', 'BORA', 'BSV', 'LEO', 'KSM', 'RNDR', 'REQ', 'PUNDIX', 'RUNE', 'LSK', 'OGN', 'AMP', 'MOVR', 'SXP', 'DCR', 'GT', 'NEXO', 'BTT', 'FTT', 'ICX', 'SPELL', 'DASH', 'ALGO', 'QTUM', 'RSR', 'GRT', 'AGLD', 'ETC', 'NANO', 'SNX', 'JASMY', 'RLC', 'CHZ', 'ONT', 'MIOTA', 'IQ', 'CAKE', 'CTSI', 'STG', 'PYR', 'AMPL', 'DYDX', 'ACH', 'HBAR', 'CVC', 'T', 'BEL', 'GNO', 'ROSE', 'MKR', 'CELO', 'ORBS', 'RAY', 'SLP', 'CKB', 'METIS', 'AVAX', 'AUCTION', 'IOTX', 'LDO', '1INCH', 'GMT', 'ONGAS', 'ENJ', 'COMP', 'CFG', 'BCH', 'DIA', 'C98', 'ANKR', 'DAI', 'GLM', 'BAT', 'SAND', 'FLOW', 'SUPER', 'AUDIO', 'DGB', 'API3', 'STPT']\n",
      "📊 Indicator Cols: ['RSI', 'MFI', 'APO', 'AROON_up', 'AROON_down', 'AROONOSC', 'ADX', 'MOM', 'ROC', 'WILLR', 'BOP', 'OBV', 'ADOSC', 'ATR', 'CORREL', 'LINEARREG_ANGLE', 'STDDEV', 'AVGPRICE', 'price_above_EMA', 'price_above_KAMA', 'volume', 'vol_chg_3d', 'volume_over_ATR', 'lagged_return_1d', 'Sentiment', 'RSI_sentiment', 'MFI_sentiment', 'reddit_sentiment', 'fear_greed_index', 'title_sentiment', 'momentum_ratio_3d', 'BOP_ATR', 'ADX_OBV', 'PPO_STD', 'BOP_sq', 'VAR_sq', 'STDDEV_sq', 'RSI_over_ATR', 'BOP_over_STDDEV', 'bollinger_percent', 'BOP_sq.1', 'log_VAR', 'USD_strength_index', 'CBOE_volatility_index', 'gas_price_gwei', 'treasury_yield_10yr', 'consumer_sentiment_index', 'CPI', 'FEDFUNDS', 'UNRATE']\n"
     ]
    },
    {
     "name": "stderr",
     "output_type": "stream",
     "text": [
      "2025-04-09 16:02:39.503 Thread 'Thread-124': missing ScriptRunContext! This warning can be ignored when running in bare mode.\n",
      "2025-04-09 16:02:39.507 Thread 'Thread-124': missing ScriptRunContext! This warning can be ignored when running in bare mode.\n",
      "2025-04-09 16:02:40.366 Thread 'MainThread': missing ScriptRunContext! This warning can be ignored when running in bare mode.\n",
      "2025-04-09 16:02:40.368 Thread 'MainThread': missing ScriptRunContext! This warning can be ignored when running in bare mode.\n"
     ]
    },
    {
     "name": "stdout",
     "output_type": "stream",
     "text": [
      "\u001b[1m1794/1794\u001b[0m \u001b[32m━━━━━━━━━━━━━━━━━━━━\u001b[0m\u001b[37m\u001b[0m \u001b[1m5s\u001b[0m 3ms/step\n"
     ]
    },
    {
     "name": "stderr",
     "output_type": "stream",
     "text": [
      "2025-04-09 16:02:46.041 Thread 'MainThread': missing ScriptRunContext! This warning can be ignored when running in bare mode.\n",
      "2025-04-09 16:02:46.042 Thread 'MainThread': missing ScriptRunContext! This warning can be ignored when running in bare mode.\n",
      "2025-04-09 16:02:46.043 Thread 'MainThread': missing ScriptRunContext! This warning can be ignored when running in bare mode.\n"
     ]
    },
    {
     "name": "stdout",
     "output_type": "stream",
     "text": [
      "🧪 Iter 10: using symbols → ['SOL', 'CRO', 'KAVA', 'DOT', 'MATIC', 'APE', 'BICO', 'RVN', 'CTC', 'BNB', 'SC', 'NEAR', 'FET', 'POND', 'AR', 'SFP', 'STX', 'SHIB', 'HIVE', 'LTC', 'IOST', 'SUSHI', 'KNC', 'JST', 'FIL', 'ADA', 'GAS', 'BAL', 'BAND', 'LRC', 'OM', 'STORJ', 'GALA', 'ATOM', 'SWFTC', 'LINK', 'LUNA', 'QNT', 'ASTR', 'CHR', 'SNT', 'FLUX', 'NEO', 'POWR', 'MBL', 'DENT', 'AXS', 'CFX', 'IMX', 'PHA', 'SKL', 'ILV', 'ENS', 'ONE', 'OXT', 'NMR', 'CVX', 'BTC', 'INJ', 'ELF', 'MANA', 'ETH', 'CELR', 'DOGE', 'ICP', 'HOT', 'JOE', 'KDA', 'RAD', 'MASK', 'MINA', 'LPT', 'CRV', 'DODO', 'EGLD', 'HNT', 'COTI', 'PAXG', 'CSPR', 'AAVE', 'EOS', 'BORA', 'BSV', 'LEO', 'KSM', 'RNDR', 'REQ', 'PUNDIX', 'RUNE', 'LSK', 'OGN', 'AMP', 'MOVR', 'SXP', 'DCR', 'GT', 'NEXO', 'BTT', 'FTT', 'ICX', 'SPELL', 'DASH', 'ALGO', 'QTUM', 'RSR', 'GRT', 'AGLD', 'ETC', 'NANO', 'SNX', 'JASMY', 'RLC', 'CHZ', 'ONT', 'MIOTA', 'IQ', 'CAKE', 'CTSI', 'STG', 'PYR', 'AMPL', 'DYDX', 'ACH', 'HBAR', 'CVC', 'T', 'BEL', 'GNO', 'ROSE', 'MKR', 'CELO', 'ORBS', 'RAY', 'SLP', 'CKB', 'METIS', 'AVAX', 'AUCTION', 'IOTX', 'LDO', '1INCH', 'GMT', 'ONGAS', 'ENJ', 'COMP', 'CFG', 'BCH', 'DIA', 'C98', 'ANKR', 'DAI', 'GLM', 'BAT', 'SAND', 'FLOW', 'SUPER', 'AUDIO', 'DGB', 'API3', 'STPT']\n",
      "📊 Indicator Cols: ['RSI', 'MFI', 'APO', 'AROON_up', 'AROON_down', 'AROONOSC', 'ADX', 'MOM', 'ROC', 'WILLR', 'BOP', 'OBV', 'ADOSC', 'ATR', 'CORREL', 'LINEARREG_ANGLE', 'STDDEV', 'AVGPRICE', 'price_above_EMA', 'price_above_KAMA', 'volume', 'vol_chg_3d', 'volume_over_ATR', 'lagged_return_1d', 'Sentiment', 'RSI_sentiment', 'MFI_sentiment', 'reddit_sentiment', 'fear_greed_index', 'title_sentiment', 'momentum_ratio_3d', 'BOP_ATR', 'ADX_OBV', 'PPO_STD', 'BOP_sq', 'VAR_sq', 'STDDEV_sq', 'RSI_over_ATR', 'BOP_over_STDDEV', 'bollinger_percent', 'BOP_sq.1', 'log_VAR', 'USD_strength_index', 'CBOE_volatility_index', 'gas_price_gwei', 'treasury_yield_10yr', 'consumer_sentiment_index', 'CPI', 'FEDFUNDS', 'UNRATE']\n"
     ]
    },
    {
     "name": "stderr",
     "output_type": "stream",
     "text": [
      "2025-04-09 16:02:46.550 Thread 'Thread-125': missing ScriptRunContext! This warning can be ignored when running in bare mode.\n",
      "2025-04-09 16:02:46.555 Thread 'Thread-125': missing ScriptRunContext! This warning can be ignored when running in bare mode.\n",
      "2025-04-09 16:02:47.764 Thread 'MainThread': missing ScriptRunContext! This warning can be ignored when running in bare mode.\n",
      "2025-04-09 16:02:47.773 Thread 'MainThread': missing ScriptRunContext! This warning can be ignored when running in bare mode.\n"
     ]
    },
    {
     "name": "stdout",
     "output_type": "stream",
     "text": [
      "\u001b[1m1811/1811\u001b[0m \u001b[32m━━━━━━━━━━━━━━━━━━━━\u001b[0m\u001b[37m\u001b[0m \u001b[1m5s\u001b[0m 2ms/step\n"
     ]
    },
    {
     "name": "stderr",
     "output_type": "stream",
     "text": [
      "2025-04-09 16:02:53.253 Thread 'MainThread': missing ScriptRunContext! This warning can be ignored when running in bare mode.\n",
      "2025-04-09 16:02:53.255 Thread 'MainThread': missing ScriptRunContext! This warning can be ignored when running in bare mode.\n",
      "2025-04-09 16:02:53.256 Thread 'MainThread': missing ScriptRunContext! This warning can be ignored when running in bare mode.\n"
     ]
    },
    {
     "name": "stdout",
     "output_type": "stream",
     "text": [
      "🧪 Iter 11: using symbols → ['SOL', 'CRO', 'KAVA', 'DOT', 'MATIC', 'APE', 'BICO', 'RVN', 'CTC', 'BNB', 'SC', 'NEAR', 'FET', 'POND', 'AR', 'SFP', 'STX', 'SHIB', 'HIVE', 'LTC', 'IOST', 'SUSHI', 'KNC', 'JST', 'FIL', 'ADA', 'GAS', 'BAL', 'BAND', 'LRC', 'OM', 'STORJ', 'GALA', 'ATOM', 'SWFTC', 'LINK', 'LUNA', 'QNT', 'ASTR', 'CHR', 'SNT', 'FLUX', 'NEO', 'POWR', 'MBL', 'DENT', 'AXS', 'CFX', 'IMX', 'PHA', 'SKL', 'ILV', 'ENS', 'ONE', 'OXT', 'NMR', 'CVX', 'BTC', 'INJ', 'ELF', 'MANA', 'ETH', 'CELR', 'DOGE', 'ICP', 'HOT', 'JOE', 'KDA', 'RAD', 'MASK', 'MINA', 'LPT', 'CRV', 'DODO', 'EGLD', 'HNT', 'COTI', 'PAXG', 'CSPR', 'AAVE', 'EOS', 'BORA', 'BSV', 'LEO', 'KSM', 'RNDR', 'REQ', 'PUNDIX', 'RUNE', 'LSK', 'OGN', 'AMP', 'MOVR', 'SXP', 'DCR', 'GT', 'NEXO', 'BTT', 'FTT', 'ICX', 'SPELL', 'DASH', 'ALGO', 'QTUM', 'RSR', 'GRT', 'AGLD', 'ETC', 'NANO', 'SNX', 'JASMY', 'RLC', 'CHZ', 'ONT', 'MIOTA', 'IQ', 'CAKE', 'CTSI', 'STG', 'PYR', 'AMPL', 'DYDX', 'ACH', 'HBAR', 'CVC', 'T', 'BEL', 'GNO', 'ROSE', 'MKR', 'CELO', 'ORBS', 'RAY', 'SLP', 'CKB', 'METIS', 'AVAX', 'AUCTION', 'IOTX', 'LDO', '1INCH', 'GMT', 'ONGAS', 'ENJ', 'COMP', 'CFG', 'BCH', 'DIA', 'C98', 'ANKR', 'DAI', 'GLM', 'BAT', 'SAND', 'FLOW', 'SUPER', 'AUDIO', 'DGB', 'API3', 'STPT']\n",
      "📊 Indicator Cols: ['RSI', 'MFI', 'APO', 'AROON_up', 'AROON_down', 'AROONOSC', 'ADX', 'MOM', 'ROC', 'WILLR', 'BOP', 'OBV', 'ADOSC', 'ATR', 'CORREL', 'LINEARREG_ANGLE', 'STDDEV', 'AVGPRICE', 'price_above_EMA', 'price_above_KAMA', 'volume', 'vol_chg_3d', 'volume_over_ATR', 'lagged_return_1d', 'Sentiment', 'RSI_sentiment', 'MFI_sentiment', 'reddit_sentiment', 'fear_greed_index', 'title_sentiment', 'momentum_ratio_3d', 'BOP_ATR', 'ADX_OBV', 'PPO_STD', 'BOP_sq', 'VAR_sq', 'STDDEV_sq', 'RSI_over_ATR', 'BOP_over_STDDEV', 'bollinger_percent', 'BOP_sq.1', 'log_VAR', 'USD_strength_index', 'CBOE_volatility_index', 'gas_price_gwei', 'treasury_yield_10yr', 'consumer_sentiment_index', 'CPI', 'FEDFUNDS', 'UNRATE']\n"
     ]
    },
    {
     "name": "stderr",
     "output_type": "stream",
     "text": [
      "2025-04-09 16:02:53.761 Thread 'Thread-126': missing ScriptRunContext! This warning can be ignored when running in bare mode.\n",
      "2025-04-09 16:02:53.766 Thread 'Thread-126': missing ScriptRunContext! This warning can be ignored when running in bare mode.\n",
      "2025-04-09 16:02:54.827 Thread 'MainThread': missing ScriptRunContext! This warning can be ignored when running in bare mode.\n",
      "2025-04-09 16:02:54.829 Thread 'MainThread': missing ScriptRunContext! This warning can be ignored when running in bare mode.\n"
     ]
    },
    {
     "name": "stdout",
     "output_type": "stream",
     "text": [
      "\u001b[1m1833/1833\u001b[0m \u001b[32m━━━━━━━━━━━━━━━━━━━━\u001b[0m\u001b[37m\u001b[0m \u001b[1m5s\u001b[0m 3ms/step\n"
     ]
    },
    {
     "name": "stderr",
     "output_type": "stream",
     "text": [
      "2025-04-09 16:03:00.439 Thread 'MainThread': missing ScriptRunContext! This warning can be ignored when running in bare mode.\n",
      "2025-04-09 16:03:00.440 Thread 'MainThread': missing ScriptRunContext! This warning can be ignored when running in bare mode.\n",
      "2025-04-09 16:03:00.441 Thread 'MainThread': missing ScriptRunContext! This warning can be ignored when running in bare mode.\n"
     ]
    },
    {
     "name": "stdout",
     "output_type": "stream",
     "text": [
      "🧪 Iter 12: using symbols → ['SOL', 'CRO', 'KAVA', 'DOT', 'MATIC', 'APE', 'BICO', 'RVN', 'CTC', 'BNB', 'SC', 'NEAR', 'FET', 'POND', 'AR', 'SFP', 'STX', 'SHIB', 'HIVE', 'LTC', 'IOST', 'SUSHI', 'KNC', 'JST', 'FIL', 'ADA', 'GAS', 'BAL', 'BAND', 'LRC', 'OM', 'STORJ', 'GALA', 'ATOM', 'SWFTC', 'LINK', 'LUNA', 'QNT', 'ASTR', 'CHR', 'SNT', 'FLUX', 'NEO', 'POWR', 'MBL', 'DENT', 'AXS', 'CFX', 'IMX', 'PHA', 'SKL', 'ILV', 'ENS', 'ONE', 'OXT', 'NMR', 'CVX', 'BTC', 'INJ', 'ELF', 'MANA', 'ETH', 'CELR', 'DOGE', 'ICP', 'HOT', 'JOE', 'KDA', 'RAD', 'MASK', 'MINA', 'LPT', 'CRV', 'DODO', 'EGLD', 'HNT', 'COTI', 'PAXG', 'CSPR', 'AAVE', 'EOS', 'BORA', 'BSV', 'LEO', 'KSM', 'RNDR', 'REQ', 'PUNDIX', 'RUNE', 'LSK', 'OGN', 'AMP', 'MOVR', 'SXP', 'DCR', 'GT', 'NEXO', 'BTT', 'FTT', 'ICX', 'SPELL', 'DASH', 'ALGO', 'QTUM', 'RSR', 'GRT', 'AGLD', 'ETC', 'NANO', 'SNX', 'JASMY', 'RLC', 'CHZ', 'ONT', 'MIOTA', 'IQ', 'CAKE', 'CTSI', 'STG', 'PYR', 'AMPL', 'DYDX', 'ACH', 'HBAR', 'CVC', 'T', 'BEL', 'GNO', 'ROSE', 'MKR', 'CELO', 'ORBS', 'RAY', 'SLP', 'CKB', 'METIS', 'AVAX', 'AUCTION', 'IOTX', 'LDO', '1INCH', 'GMT', 'ONGAS', 'ENJ', 'COMP', 'CFG', 'BCH', 'DIA', 'C98', 'ANKR', 'DAI', 'GLM', 'BAT', 'SAND', 'FLOW', 'SUPER', 'AUDIO', 'DGB', 'API3', 'STPT']\n",
      "📊 Indicator Cols: ['RSI', 'MFI', 'APO', 'AROON_up', 'AROON_down', 'AROONOSC', 'ADX', 'MOM', 'ROC', 'WILLR', 'BOP', 'OBV', 'ADOSC', 'ATR', 'CORREL', 'LINEARREG_ANGLE', 'STDDEV', 'AVGPRICE', 'price_above_EMA', 'price_above_KAMA', 'volume', 'vol_chg_3d', 'volume_over_ATR', 'lagged_return_1d', 'Sentiment', 'RSI_sentiment', 'MFI_sentiment', 'reddit_sentiment', 'fear_greed_index', 'title_sentiment', 'momentum_ratio_3d', 'BOP_ATR', 'ADX_OBV', 'PPO_STD', 'BOP_sq', 'VAR_sq', 'STDDEV_sq', 'RSI_over_ATR', 'BOP_over_STDDEV', 'bollinger_percent', 'BOP_sq.1', 'log_VAR', 'USD_strength_index', 'CBOE_volatility_index', 'gas_price_gwei', 'treasury_yield_10yr', 'consumer_sentiment_index', 'CPI', 'FEDFUNDS', 'UNRATE']\n"
     ]
    },
    {
     "name": "stderr",
     "output_type": "stream",
     "text": [
      "2025-04-09 16:03:00.951 Thread 'Thread-127': missing ScriptRunContext! This warning can be ignored when running in bare mode.\n",
      "2025-04-09 16:03:00.954 Thread 'Thread-127': missing ScriptRunContext! This warning can be ignored when running in bare mode.\n",
      "2025-04-09 16:03:02.073 Thread 'MainThread': missing ScriptRunContext! This warning can be ignored when running in bare mode.\n",
      "2025-04-09 16:03:02.073 Thread 'MainThread': missing ScriptRunContext! This warning can be ignored when running in bare mode.\n"
     ]
    },
    {
     "name": "stdout",
     "output_type": "stream",
     "text": [
      "\u001b[1m1786/1786\u001b[0m \u001b[32m━━━━━━━━━━━━━━━━━━━━\u001b[0m\u001b[37m\u001b[0m \u001b[1m4s\u001b[0m 2ms/step\n"
     ]
    },
    {
     "name": "stderr",
     "output_type": "stream",
     "text": [
      "2025-04-09 16:03:07.508 Thread 'MainThread': missing ScriptRunContext! This warning can be ignored when running in bare mode.\n",
      "2025-04-09 16:03:07.508 Thread 'MainThread': missing ScriptRunContext! This warning can be ignored when running in bare mode.\n",
      "2025-04-09 16:03:07.511 Thread 'MainThread': missing ScriptRunContext! This warning can be ignored when running in bare mode.\n"
     ]
    },
    {
     "name": "stdout",
     "output_type": "stream",
     "text": [
      "🧪 Iter 13: using symbols → ['SOL', 'CRO', 'KAVA', 'DOT', 'MATIC', 'APE', 'BICO', 'RVN', 'CTC', 'BNB', 'SC', 'NEAR', 'FET', 'POND', 'AR', 'SFP', 'STX', 'SHIB', 'HIVE', 'LTC', 'IOST', 'SUSHI', 'KNC', 'JST', 'FIL', 'ADA', 'GAS', 'BAL', 'BAND', 'LRC', 'OM', 'STORJ', 'GALA', 'ATOM', 'SWFTC', 'LINK', 'LUNA', 'QNT', 'ASTR', 'CHR', 'SNT', 'FLUX', 'NEO', 'POWR', 'MBL', 'DENT', 'AXS', 'CFX', 'IMX', 'PHA', 'SKL', 'ILV', 'ENS', 'ONE', 'OXT', 'NMR', 'CVX', 'BTC', 'INJ', 'ELF', 'MANA', 'ETH', 'CELR', 'DOGE', 'ICP', 'HOT', 'JOE', 'KDA', 'RAD', 'MASK', 'MINA', 'LPT', 'CRV', 'DODO', 'EGLD', 'HNT', 'COTI', 'PAXG', 'CSPR', 'AAVE', 'EOS', 'BORA', 'BSV', 'LEO', 'KSM', 'RNDR', 'REQ', 'PUNDIX', 'RUNE', 'LSK', 'OGN', 'AMP', 'MOVR', 'SXP', 'DCR', 'GT', 'NEXO', 'BTT', 'FTT', 'ICX', 'SPELL', 'DASH', 'ALGO', 'QTUM', 'RSR', 'GRT', 'AGLD', 'ETC', 'NANO', 'SNX', 'JASMY', 'RLC', 'CHZ', 'ONT', 'MIOTA', 'IQ', 'CAKE', 'CTSI', 'STG', 'PYR', 'AMPL', 'DYDX', 'ACH', 'HBAR', 'CVC', 'T', 'BEL', 'GNO', 'ROSE', 'MKR', 'CELO', 'ORBS', 'RAY', 'SLP', 'CKB', 'METIS', 'AVAX', 'AUCTION', 'IOTX', 'LDO', '1INCH', 'GMT', 'ONGAS', 'ENJ', 'COMP', 'CFG', 'BCH', 'DIA', 'C98', 'ANKR', 'DAI', 'GLM', 'BAT', 'SAND', 'FLOW', 'SUPER', 'AUDIO', 'DGB', 'API3', 'STPT']\n",
      "📊 Indicator Cols: ['RSI', 'MFI', 'APO', 'AROON_up', 'AROON_down', 'AROONOSC', 'ADX', 'MOM', 'ROC', 'WILLR', 'BOP', 'OBV', 'ADOSC', 'ATR', 'CORREL', 'LINEARREG_ANGLE', 'STDDEV', 'AVGPRICE', 'price_above_EMA', 'price_above_KAMA', 'volume', 'vol_chg_3d', 'volume_over_ATR', 'lagged_return_1d', 'Sentiment', 'RSI_sentiment', 'MFI_sentiment', 'reddit_sentiment', 'fear_greed_index', 'title_sentiment', 'momentum_ratio_3d', 'BOP_ATR', 'ADX_OBV', 'PPO_STD', 'BOP_sq', 'VAR_sq', 'STDDEV_sq', 'RSI_over_ATR', 'BOP_over_STDDEV', 'bollinger_percent', 'BOP_sq.1', 'log_VAR', 'USD_strength_index', 'CBOE_volatility_index', 'gas_price_gwei', 'treasury_yield_10yr', 'consumer_sentiment_index', 'CPI', 'FEDFUNDS', 'UNRATE']\n"
     ]
    },
    {
     "name": "stderr",
     "output_type": "stream",
     "text": [
      "2025-04-09 16:03:08.028 Thread 'Thread-128': missing ScriptRunContext! This warning can be ignored when running in bare mode.\n",
      "2025-04-09 16:03:08.039 Thread 'Thread-128': missing ScriptRunContext! This warning can be ignored when running in bare mode.\n",
      "2025-04-09 16:03:08.870 Thread 'MainThread': missing ScriptRunContext! This warning can be ignored when running in bare mode.\n",
      "2025-04-09 16:03:08.870 Thread 'MainThread': missing ScriptRunContext! This warning can be ignored when running in bare mode.\n"
     ]
    },
    {
     "name": "stdout",
     "output_type": "stream",
     "text": [
      "\u001b[1m1766/1766\u001b[0m \u001b[32m━━━━━━━━━━━━━━━━━━━━\u001b[0m\u001b[37m\u001b[0m \u001b[1m4s\u001b[0m 2ms/step\n"
     ]
    },
    {
     "name": "stderr",
     "output_type": "stream",
     "text": [
      "2025-04-09 16:03:14.250 Thread 'MainThread': missing ScriptRunContext! This warning can be ignored when running in bare mode.\n",
      "2025-04-09 16:03:14.252 Thread 'MainThread': missing ScriptRunContext! This warning can be ignored when running in bare mode.\n",
      "2025-04-09 16:03:14.253 Thread 'MainThread': missing ScriptRunContext! This warning can be ignored when running in bare mode.\n"
     ]
    },
    {
     "name": "stdout",
     "output_type": "stream",
     "text": [
      "🧪 Iter 14: using symbols → ['SOL', 'CRO', 'KAVA', 'DOT', 'MATIC', 'APE', 'BICO', 'RVN', 'CTC', 'BNB', 'SC', 'NEAR', 'FET', 'POND', 'AR', 'SFP', 'STX', 'SHIB', 'HIVE', 'LTC', 'IOST', 'SUSHI', 'KNC', 'JST', 'FIL', 'ADA', 'GAS', 'BAL', 'BAND', 'LRC', 'OM', 'STORJ', 'GALA', 'ATOM', 'SWFTC', 'LINK', 'LUNA', 'QNT', 'ASTR', 'CHR', 'SNT', 'FLUX', 'NEO', 'POWR', 'MBL', 'DENT', 'AXS', 'CFX', 'IMX', 'PHA', 'SKL', 'ILV', 'ENS', 'ONE', 'OXT', 'NMR', 'CVX', 'BTC', 'INJ', 'ELF', 'MANA', 'ETH', 'CELR', 'DOGE', 'ICP', 'HOT', 'JOE', 'KDA', 'RAD', 'MASK', 'MINA', 'LPT', 'CRV', 'DODO', 'EGLD', 'HNT', 'COTI', 'PAXG', 'CSPR', 'AAVE', 'EOS', 'BORA', 'BSV', 'LEO', 'KSM', 'RNDR', 'REQ', 'PUNDIX', 'RUNE', 'LSK', 'OGN', 'AMP', 'MOVR', 'SXP', 'DCR', 'GT', 'NEXO', 'BTT', 'FTT', 'ICX', 'SPELL', 'DASH', 'ALGO', 'QTUM', 'RSR', 'GRT', 'AGLD', 'ETC', 'NANO', 'SNX', 'JASMY', 'RLC', 'CHZ', 'ONT', 'MIOTA', 'IQ', 'CAKE', 'CTSI', 'STG', 'PYR', 'AMPL', 'DYDX', 'ACH', 'HBAR', 'CVC', 'T', 'BEL', 'GNO', 'ROSE', 'MKR', 'CELO', 'ORBS', 'RAY', 'SLP', 'CKB', 'METIS', 'AVAX', 'AUCTION', 'IOTX', 'LDO', '1INCH', 'GMT', 'ONGAS', 'ENJ', 'COMP', 'CFG', 'BCH', 'DIA', 'C98', 'ANKR', 'DAI', 'GLM', 'BAT', 'SAND', 'FLOW', 'SUPER', 'AUDIO', 'DGB', 'API3', 'STPT']\n",
      "📊 Indicator Cols: ['RSI', 'MFI', 'APO', 'AROON_up', 'AROON_down', 'AROONOSC', 'ADX', 'MOM', 'ROC', 'WILLR', 'BOP', 'OBV', 'ADOSC', 'ATR', 'CORREL', 'LINEARREG_ANGLE', 'STDDEV', 'AVGPRICE', 'price_above_EMA', 'price_above_KAMA', 'volume', 'vol_chg_3d', 'volume_over_ATR', 'lagged_return_1d', 'Sentiment', 'RSI_sentiment', 'MFI_sentiment', 'reddit_sentiment', 'fear_greed_index', 'title_sentiment', 'momentum_ratio_3d', 'BOP_ATR', 'ADX_OBV', 'PPO_STD', 'BOP_sq', 'VAR_sq', 'STDDEV_sq', 'RSI_over_ATR', 'BOP_over_STDDEV', 'bollinger_percent', 'BOP_sq.1', 'log_VAR', 'USD_strength_index', 'CBOE_volatility_index', 'gas_price_gwei', 'treasury_yield_10yr', 'consumer_sentiment_index', 'CPI', 'FEDFUNDS', 'UNRATE']\n"
     ]
    },
    {
     "name": "stderr",
     "output_type": "stream",
     "text": [
      "2025-04-09 16:03:14.765 Thread 'Thread-129': missing ScriptRunContext! This warning can be ignored when running in bare mode.\n",
      "2025-04-09 16:03:14.772 Thread 'Thread-129': missing ScriptRunContext! This warning can be ignored when running in bare mode.\n",
      "2025-04-09 16:03:15.726 Thread 'MainThread': missing ScriptRunContext! This warning can be ignored when running in bare mode.\n",
      "2025-04-09 16:03:15.726 Thread 'MainThread': missing ScriptRunContext! This warning can be ignored when running in bare mode.\n"
     ]
    },
    {
     "name": "stdout",
     "output_type": "stream",
     "text": [
      "\u001b[1m1809/1809\u001b[0m \u001b[32m━━━━━━━━━━━━━━━━━━━━\u001b[0m\u001b[37m\u001b[0m \u001b[1m5s\u001b[0m 3ms/step\n"
     ]
    },
    {
     "name": "stderr",
     "output_type": "stream",
     "text": [
      "2025-04-09 16:03:21.335 Thread 'MainThread': missing ScriptRunContext! This warning can be ignored when running in bare mode.\n",
      "2025-04-09 16:03:21.340 Thread 'MainThread': missing ScriptRunContext! This warning can be ignored when running in bare mode.\n",
      "2025-04-09 16:03:21.340 Thread 'MainThread': missing ScriptRunContext! This warning can be ignored when running in bare mode.\n"
     ]
    },
    {
     "name": "stdout",
     "output_type": "stream",
     "text": [
      "🧪 Iter 15: using symbols → ['SOL', 'CRO', 'KAVA', 'DOT', 'MATIC', 'APE', 'BICO', 'RVN', 'CTC', 'BNB', 'SC', 'NEAR', 'FET', 'POND', 'AR', 'SFP', 'STX', 'SHIB', 'HIVE', 'LTC', 'IOST', 'SUSHI', 'KNC', 'JST', 'FIL', 'ADA', 'GAS', 'BAL', 'BAND', 'LRC', 'OM', 'STORJ', 'GALA', 'ATOM', 'SWFTC', 'LINK', 'LUNA', 'QNT', 'ASTR', 'CHR', 'SNT', 'FLUX', 'NEO', 'POWR', 'MBL', 'DENT', 'AXS', 'CFX', 'IMX', 'PHA', 'SKL', 'ILV', 'ENS', 'ONE', 'OXT', 'NMR', 'CVX', 'BTC', 'INJ', 'ELF', 'MANA', 'ETH', 'CELR', 'DOGE', 'ICP', 'HOT', 'JOE', 'KDA', 'RAD', 'MASK', 'MINA', 'LPT', 'CRV', 'DODO', 'EGLD', 'HNT', 'COTI', 'PAXG', 'CSPR', 'AAVE', 'EOS', 'BORA', 'BSV', 'LEO', 'KSM', 'RNDR', 'REQ', 'PUNDIX', 'RUNE', 'LSK', 'OGN', 'AMP', 'MOVR', 'SXP', 'DCR', 'GT', 'NEXO', 'BTT', 'FTT', 'ICX', 'SPELL', 'DASH', 'ALGO', 'QTUM', 'RSR', 'GRT', 'AGLD', 'ETC', 'NANO', 'SNX', 'JASMY', 'RLC', 'CHZ', 'ONT', 'MIOTA', 'IQ', 'CAKE', 'CTSI', 'STG', 'PYR', 'AMPL', 'DYDX', 'ACH', 'HBAR', 'CVC', 'T', 'BEL', 'GNO', 'ROSE', 'MKR', 'CELO', 'ORBS', 'RAY', 'SLP', 'CKB', 'METIS', 'AVAX', 'AUCTION', 'IOTX', 'LDO', '1INCH', 'GMT', 'ONGAS', 'ENJ', 'COMP', 'CFG', 'BCH', 'DIA', 'C98', 'ANKR', 'DAI', 'GLM', 'BAT', 'SAND', 'FLOW', 'SUPER', 'AUDIO', 'DGB', 'API3', 'STPT']\n",
      "📊 Indicator Cols: ['RSI', 'MFI', 'APO', 'AROON_up', 'AROON_down', 'AROONOSC', 'ADX', 'MOM', 'ROC', 'WILLR', 'BOP', 'OBV', 'ADOSC', 'ATR', 'CORREL', 'LINEARREG_ANGLE', 'STDDEV', 'AVGPRICE', 'price_above_EMA', 'price_above_KAMA', 'volume', 'vol_chg_3d', 'volume_over_ATR', 'lagged_return_1d', 'Sentiment', 'RSI_sentiment', 'MFI_sentiment', 'reddit_sentiment', 'fear_greed_index', 'title_sentiment', 'momentum_ratio_3d', 'BOP_ATR', 'ADX_OBV', 'PPO_STD', 'BOP_sq', 'VAR_sq', 'STDDEV_sq', 'RSI_over_ATR', 'BOP_over_STDDEV', 'bollinger_percent', 'BOP_sq.1', 'log_VAR', 'USD_strength_index', 'CBOE_volatility_index', 'gas_price_gwei', 'treasury_yield_10yr', 'consumer_sentiment_index', 'CPI', 'FEDFUNDS', 'UNRATE']\n"
     ]
    },
    {
     "name": "stderr",
     "output_type": "stream",
     "text": [
      "2025-04-09 16:03:21.854 Thread 'Thread-130': missing ScriptRunContext! This warning can be ignored when running in bare mode.\n",
      "2025-04-09 16:03:21.854 Thread 'Thread-130': missing ScriptRunContext! This warning can be ignored when running in bare mode.\n",
      "2025-04-09 16:03:22.838 Thread 'MainThread': missing ScriptRunContext! This warning can be ignored when running in bare mode.\n",
      "2025-04-09 16:03:22.838 Thread 'MainThread': missing ScriptRunContext! This warning can be ignored when running in bare mode.\n"
     ]
    },
    {
     "name": "stdout",
     "output_type": "stream",
     "text": [
      "\u001b[1m1798/1798\u001b[0m \u001b[32m━━━━━━━━━━━━━━━━━━━━\u001b[0m\u001b[37m\u001b[0m \u001b[1m5s\u001b[0m 3ms/step\n"
     ]
    },
    {
     "name": "stderr",
     "output_type": "stream",
     "text": [
      "2025-04-09 16:03:28.454 Thread 'MainThread': missing ScriptRunContext! This warning can be ignored when running in bare mode.\n",
      "2025-04-09 16:03:28.455 Thread 'MainThread': missing ScriptRunContext! This warning can be ignored when running in bare mode.\n",
      "2025-04-09 16:03:28.457 Thread 'MainThread': missing ScriptRunContext! This warning can be ignored when running in bare mode.\n"
     ]
    },
    {
     "name": "stdout",
     "output_type": "stream",
     "text": [
      "🧪 Iter 16: using symbols → ['SOL', 'CRO', 'KAVA', 'DOT', 'MATIC', 'APE', 'BICO', 'RVN', 'CTC', 'BNB', 'SC', 'NEAR', 'FET', 'POND', 'AR', 'SFP', 'STX', 'SHIB', 'HIVE', 'LTC', 'IOST', 'SUSHI', 'KNC', 'JST', 'FIL', 'ADA', 'GAS', 'BAL', 'BAND', 'LRC', 'OM', 'STORJ', 'GALA', 'ATOM', 'SWFTC', 'LINK', 'LUNA', 'QNT', 'ASTR', 'CHR', 'SNT', 'FLUX', 'NEO', 'POWR', 'MBL', 'DENT', 'AXS', 'CFX', 'IMX', 'PHA', 'SKL', 'ILV', 'ENS', 'ONE', 'OXT', 'NMR', 'CVX', 'BTC', 'INJ', 'ELF', 'MANA', 'ETH', 'CELR', 'DOGE', 'ICP', 'HOT', 'JOE', 'KDA', 'RAD', 'MASK', 'MINA', 'LPT', 'CRV', 'DODO', 'EGLD', 'HNT', 'COTI', 'PAXG', 'CSPR', 'AAVE', 'EOS', 'BORA', 'BSV', 'LEO', 'KSM', 'RNDR', 'REQ', 'PUNDIX', 'RUNE', 'LSK', 'OGN', 'AMP', 'MOVR', 'SXP', 'DCR', 'GT', 'NEXO', 'BTT', 'FTT', 'ICX', 'SPELL', 'DASH', 'ALGO', 'QTUM', 'RSR', 'GRT', 'AGLD', 'ETC', 'NANO', 'SNX', 'JASMY', 'RLC', 'CHZ', 'ONT', 'MIOTA', 'IQ', 'CAKE', 'CTSI', 'STG', 'PYR', 'AMPL', 'DYDX', 'ACH', 'HBAR', 'CVC', 'T', 'BEL', 'GNO', 'ROSE', 'MKR', 'CELO', 'ORBS', 'RAY', 'SLP', 'CKB', 'METIS', 'AVAX', 'AUCTION', 'IOTX', 'LDO', '1INCH', 'GMT', 'ONGAS', 'ENJ', 'COMP', 'CFG', 'BCH', 'DIA', 'C98', 'ANKR', 'DAI', 'GLM', 'BAT', 'SAND', 'FLOW', 'SUPER', 'AUDIO', 'DGB', 'API3', 'STPT']\n",
      "📊 Indicator Cols: ['RSI', 'MFI', 'APO', 'AROON_up', 'AROON_down', 'AROONOSC', 'ADX', 'MOM', 'ROC', 'WILLR', 'BOP', 'OBV', 'ADOSC', 'ATR', 'CORREL', 'LINEARREG_ANGLE', 'STDDEV', 'AVGPRICE', 'price_above_EMA', 'price_above_KAMA', 'volume', 'vol_chg_3d', 'volume_over_ATR', 'lagged_return_1d', 'Sentiment', 'RSI_sentiment', 'MFI_sentiment', 'reddit_sentiment', 'fear_greed_index', 'title_sentiment', 'momentum_ratio_3d', 'BOP_ATR', 'ADX_OBV', 'PPO_STD', 'BOP_sq', 'VAR_sq', 'STDDEV_sq', 'RSI_over_ATR', 'BOP_over_STDDEV', 'bollinger_percent', 'BOP_sq.1', 'log_VAR', 'USD_strength_index', 'CBOE_volatility_index', 'gas_price_gwei', 'treasury_yield_10yr', 'consumer_sentiment_index', 'CPI', 'FEDFUNDS', 'UNRATE']\n"
     ]
    },
    {
     "name": "stderr",
     "output_type": "stream",
     "text": [
      "2025-04-09 16:03:28.961 Thread 'Thread-131': missing ScriptRunContext! This warning can be ignored when running in bare mode.\n",
      "2025-04-09 16:03:28.970 Thread 'Thread-131': missing ScriptRunContext! This warning can be ignored when running in bare mode.\n",
      "2025-04-09 16:03:29.943 Thread 'MainThread': missing ScriptRunContext! This warning can be ignored when running in bare mode.\n",
      "2025-04-09 16:03:29.944 Thread 'MainThread': missing ScriptRunContext! This warning can be ignored when running in bare mode.\n"
     ]
    },
    {
     "name": "stdout",
     "output_type": "stream",
     "text": [
      "\u001b[1m1842/1842\u001b[0m \u001b[32m━━━━━━━━━━━━━━━━━━━━\u001b[0m\u001b[37m\u001b[0m \u001b[1m5s\u001b[0m 2ms/step\n",
      "🧪 Iter 17: using symbols → ['SOL', 'CRO', 'KAVA', 'DOT', 'MATIC', 'APE', 'BICO', 'RVN', 'CTC', 'BNB', 'SC', 'NEAR', 'FET', 'POND', 'AR', 'SFP', 'STX', 'SHIB', 'HIVE', 'LTC', 'IOST', 'SUSHI', 'KNC', 'JST', 'FIL', 'ADA', 'GAS', 'BAL', 'BAND', 'LRC', 'OM', 'STORJ', 'GALA', 'ATOM', 'SWFTC', 'LINK', 'LUNA', 'QNT', 'ASTR', 'CHR', 'SNT', 'FLUX', 'NEO', 'POWR', 'MBL', 'DENT', 'AXS', 'CFX', 'IMX', 'PHA', 'SKL', 'ILV', 'ENS', 'ONE', 'OXT', 'NMR', 'CVX', 'BTC', 'INJ', 'ELF', 'MANA', 'ETH', 'CELR', 'DOGE', 'ICP', 'HOT', 'JOE', 'KDA', 'RAD', 'MASK', 'MINA', 'LPT', 'CRV', 'DODO', 'EGLD', 'HNT', 'COTI', 'PAXG', 'CSPR', 'AAVE', 'EOS', 'BORA', 'BSV', 'LEO', 'KSM', 'RNDR', 'REQ', 'PUNDIX', 'RUNE', 'LSK', 'OGN', 'AMP', 'MOVR', 'SXP', 'DCR', 'GT', 'NEXO', 'BTT', 'FTT', 'ICX', 'SPELL', 'DASH', 'ALGO', 'QTUM', 'RSR', 'GRT', 'AGLD', 'ETC', 'NANO', 'SNX', 'JASMY', 'RLC', 'CHZ', 'ONT', 'MIOTA', 'IQ', 'CAKE', 'CTSI', 'STG', 'PYR', 'AMPL', 'DYDX', 'ACH', 'HBAR', 'CVC', 'T', 'BEL', 'GNO', 'ROSE', 'MKR', 'CELO', 'ORBS', 'RAY', 'SLP', 'CKB', 'METIS', 'AVAX', 'AUCTION', 'IOTX', 'LDO', '1INCH', 'GMT', 'ONGAS', 'ENJ', 'COMP', 'CFG', 'BCH', 'DIA', 'C98', 'ANKR', 'DAI', 'GLM', 'BAT', 'SAND', 'FLOW', 'SUPER', 'AUDIO', 'DGB', 'API3', 'STPT']\n",
      "📊 Indicator Cols: ['RSI', 'MFI', 'APO', 'AROON_up', 'AROON_down', 'AROONOSC', 'ADX', 'MOM', 'ROC', 'WILLR', 'BOP', 'OBV', 'ADOSC', 'ATR', 'CORREL', 'LINEARREG_ANGLE', 'STDDEV', 'AVGPRICE', 'price_above_EMA', 'price_above_KAMA', 'volume', 'vol_chg_3d', 'volume_over_ATR', 'lagged_return_1d', 'Sentiment', 'RSI_sentiment', 'MFI_sentiment', 'reddit_sentiment', 'fear_greed_index', 'title_sentiment', 'momentum_ratio_3d', 'BOP_ATR', 'ADX_OBV', 'PPO_STD', 'BOP_sq', 'VAR_sq', 'STDDEV_sq', 'RSI_over_ATR', 'BOP_over_STDDEV', 'bollinger_percent', 'BOP_sq.1', 'log_VAR', 'USD_strength_index', 'CBOE_volatility_index', 'gas_price_gwei', 'treasury_yield_10yr', 'consumer_sentiment_index', 'CPI', 'FEDFUNDS', 'UNRATE']\n"
     ]
    },
    {
     "name": "stderr",
     "output_type": "stream",
     "text": [
      "2025-04-09 16:03:36.014 Thread 'MainThread': missing ScriptRunContext! This warning can be ignored when running in bare mode.\n",
      "2025-04-09 16:03:36.019 Thread 'MainThread': missing ScriptRunContext! This warning can be ignored when running in bare mode.\n",
      "2025-04-09 16:03:36.019 Thread 'MainThread': missing ScriptRunContext! This warning can be ignored when running in bare mode.\n",
      "2025-04-09 16:03:36.526 Thread 'Thread-132': missing ScriptRunContext! This warning can be ignored when running in bare mode.\n",
      "2025-04-09 16:03:36.549 Thread 'Thread-132': missing ScriptRunContext! This warning can be ignored when running in bare mode.\n",
      "2025-04-09 16:03:37.467 Thread 'MainThread': missing ScriptRunContext! This warning can be ignored when running in bare mode.\n",
      "2025-04-09 16:03:37.469 Thread 'MainThread': missing ScriptRunContext! This warning can be ignored when running in bare mode.\n"
     ]
    },
    {
     "name": "stdout",
     "output_type": "stream",
     "text": [
      "\u001b[1m1820/1820\u001b[0m \u001b[32m━━━━━━━━━━━━━━━━━━━━\u001b[0m\u001b[37m\u001b[0m \u001b[1m5s\u001b[0m 3ms/step\n"
     ]
    },
    {
     "name": "stderr",
     "output_type": "stream",
     "text": [
      "2025-04-09 16:03:43.193 Thread 'MainThread': missing ScriptRunContext! This warning can be ignored when running in bare mode.\n",
      "2025-04-09 16:03:43.193 Thread 'MainThread': missing ScriptRunContext! This warning can be ignored when running in bare mode.\n",
      "2025-04-09 16:03:43.195 Thread 'MainThread': missing ScriptRunContext! This warning can be ignored when running in bare mode.\n"
     ]
    },
    {
     "name": "stdout",
     "output_type": "stream",
     "text": [
      "🧪 Iter 18: using symbols → ['SOL', 'CRO', 'KAVA', 'DOT', 'MATIC', 'APE', 'BICO', 'RVN', 'CTC', 'BNB', 'SC', 'NEAR', 'FET', 'POND', 'AR', 'SFP', 'STX', 'SHIB', 'HIVE', 'LTC', 'IOST', 'SUSHI', 'KNC', 'JST', 'FIL', 'ADA', 'GAS', 'BAL', 'BAND', 'LRC', 'OM', 'STORJ', 'GALA', 'ATOM', 'SWFTC', 'LINK', 'LUNA', 'QNT', 'ASTR', 'CHR', 'SNT', 'FLUX', 'NEO', 'POWR', 'MBL', 'DENT', 'AXS', 'CFX', 'IMX', 'PHA', 'SKL', 'ILV', 'ENS', 'ONE', 'OXT', 'NMR', 'CVX', 'BTC', 'INJ', 'ELF', 'MANA', 'ETH', 'CELR', 'DOGE', 'ICP', 'HOT', 'JOE', 'KDA', 'RAD', 'MASK', 'MINA', 'LPT', 'CRV', 'DODO', 'EGLD', 'HNT', 'COTI', 'PAXG', 'CSPR', 'AAVE', 'EOS', 'BORA', 'BSV', 'LEO', 'KSM', 'RNDR', 'REQ', 'PUNDIX', 'RUNE', 'LSK', 'OGN', 'AMP', 'MOVR', 'SXP', 'DCR', 'GT', 'NEXO', 'BTT', 'FTT', 'ICX', 'SPELL', 'DASH', 'ALGO', 'QTUM', 'RSR', 'GRT', 'AGLD', 'ETC', 'NANO', 'SNX', 'JASMY', 'RLC', 'CHZ', 'ONT', 'MIOTA', 'IQ', 'CAKE', 'CTSI', 'STG', 'PYR', 'AMPL', 'DYDX', 'ACH', 'HBAR', 'CVC', 'T', 'BEL', 'GNO', 'ROSE', 'MKR', 'CELO', 'ORBS', 'RAY', 'SLP', 'CKB', 'METIS', 'AVAX', 'AUCTION', 'IOTX', 'LDO', '1INCH', 'GMT', 'ONGAS', 'ENJ', 'COMP', 'CFG', 'BCH', 'DIA', 'C98', 'ANKR', 'DAI', 'GLM', 'BAT', 'SAND', 'FLOW', 'SUPER', 'AUDIO', 'DGB', 'API3', 'STPT']\n",
      "📊 Indicator Cols: ['RSI', 'MFI', 'APO', 'AROON_up', 'AROON_down', 'AROONOSC', 'ADX', 'MOM', 'ROC', 'WILLR', 'BOP', 'OBV', 'ADOSC', 'ATR', 'CORREL', 'LINEARREG_ANGLE', 'STDDEV', 'AVGPRICE', 'price_above_EMA', 'price_above_KAMA', 'volume', 'vol_chg_3d', 'volume_over_ATR', 'lagged_return_1d', 'Sentiment', 'RSI_sentiment', 'MFI_sentiment', 'reddit_sentiment', 'fear_greed_index', 'title_sentiment', 'momentum_ratio_3d', 'BOP_ATR', 'ADX_OBV', 'PPO_STD', 'BOP_sq', 'VAR_sq', 'STDDEV_sq', 'RSI_over_ATR', 'BOP_over_STDDEV', 'bollinger_percent', 'BOP_sq.1', 'log_VAR', 'USD_strength_index', 'CBOE_volatility_index', 'gas_price_gwei', 'treasury_yield_10yr', 'consumer_sentiment_index', 'CPI', 'FEDFUNDS', 'UNRATE']\n"
     ]
    },
    {
     "name": "stderr",
     "output_type": "stream",
     "text": [
      "2025-04-09 16:03:43.705 Thread 'Thread-133': missing ScriptRunContext! This warning can be ignored when running in bare mode.\n",
      "2025-04-09 16:03:43.710 Thread 'Thread-133': missing ScriptRunContext! This warning can be ignored when running in bare mode.\n",
      "2025-04-09 16:03:44.820 Thread 'MainThread': missing ScriptRunContext! This warning can be ignored when running in bare mode.\n",
      "2025-04-09 16:03:44.821 Thread 'MainThread': missing ScriptRunContext! This warning can be ignored when running in bare mode.\n"
     ]
    },
    {
     "name": "stdout",
     "output_type": "stream",
     "text": [
      "\u001b[1m1862/1862\u001b[0m \u001b[32m━━━━━━━━━━━━━━━━━━━━\u001b[0m\u001b[37m\u001b[0m \u001b[1m5s\u001b[0m 3ms/step\n"
     ]
    },
    {
     "name": "stderr",
     "output_type": "stream",
     "text": [
      "2025-04-09 16:03:50.801 Thread 'MainThread': missing ScriptRunContext! This warning can be ignored when running in bare mode.\n",
      "2025-04-09 16:03:50.801 Thread 'MainThread': missing ScriptRunContext! This warning can be ignored when running in bare mode.\n",
      "2025-04-09 16:03:50.801 Thread 'MainThread': missing ScriptRunContext! This warning can be ignored when running in bare mode.\n"
     ]
    },
    {
     "name": "stdout",
     "output_type": "stream",
     "text": [
      "🧪 Iter 19: using symbols → ['SOL', 'CRO', 'KAVA', 'DOT', 'MATIC', 'APE', 'BICO', 'RVN', 'CTC', 'BNB', 'SC', 'NEAR', 'FET', 'POND', 'AR', 'SFP', 'STX', 'SHIB', 'HIVE', 'LTC', 'IOST', 'SUSHI', 'KNC', 'JST', 'FIL', 'ADA', 'GAS', 'BAL', 'BAND', 'LRC', 'OM', 'STORJ', 'GALA', 'ATOM', 'SWFTC', 'LINK', 'LUNA', 'QNT', 'ASTR', 'CHR', 'SNT', 'FLUX', 'NEO', 'POWR', 'MBL', 'DENT', 'AXS', 'CFX', 'IMX', 'PHA', 'SKL', 'ILV', 'ENS', 'ONE', 'OXT', 'NMR', 'CVX', 'BTC', 'INJ', 'ELF', 'MANA', 'ETH', 'CELR', 'DOGE', 'ICP', 'HOT', 'JOE', 'KDA', 'RAD', 'MASK', 'MINA', 'LPT', 'CRV', 'DODO', 'EGLD', 'HNT', 'COTI', 'PAXG', 'CSPR', 'AAVE', 'EOS', 'BORA', 'BSV', 'LEO', 'KSM', 'RNDR', 'REQ', 'PUNDIX', 'RUNE', 'LSK', 'OGN', 'AMP', 'MOVR', 'SXP', 'DCR', 'GT', 'NEXO', 'BTT', 'FTT', 'ICX', 'SPELL', 'DASH', 'ALGO', 'QTUM', 'RSR', 'GRT', 'AGLD', 'ETC', 'NANO', 'SNX', 'JASMY', 'RLC', 'CHZ', 'ONT', 'MIOTA', 'IQ', 'CAKE', 'CTSI', 'STG', 'PYR', 'AMPL', 'DYDX', 'ACH', 'HBAR', 'CVC', 'T', 'BEL', 'GNO', 'ROSE', 'MKR', 'CELO', 'ORBS', 'RAY', 'SLP', 'CKB', 'METIS', 'AVAX', 'AUCTION', 'IOTX', 'LDO', '1INCH', 'GMT', 'ONGAS', 'ENJ', 'COMP', 'CFG', 'BCH', 'DIA', 'C98', 'ANKR', 'DAI', 'GLM', 'BAT', 'SAND', 'FLOW', 'SUPER', 'AUDIO', 'DGB', 'API3', 'STPT']\n",
      "📊 Indicator Cols: ['RSI', 'MFI', 'APO', 'AROON_up', 'AROON_down', 'AROONOSC', 'ADX', 'MOM', 'ROC', 'WILLR', 'BOP', 'OBV', 'ADOSC', 'ATR', 'CORREL', 'LINEARREG_ANGLE', 'STDDEV', 'AVGPRICE', 'price_above_EMA', 'price_above_KAMA', 'volume', 'vol_chg_3d', 'volume_over_ATR', 'lagged_return_1d', 'Sentiment', 'RSI_sentiment', 'MFI_sentiment', 'reddit_sentiment', 'fear_greed_index', 'title_sentiment', 'momentum_ratio_3d', 'BOP_ATR', 'ADX_OBV', 'PPO_STD', 'BOP_sq', 'VAR_sq', 'STDDEV_sq', 'RSI_over_ATR', 'BOP_over_STDDEV', 'bollinger_percent', 'BOP_sq.1', 'log_VAR', 'USD_strength_index', 'CBOE_volatility_index', 'gas_price_gwei', 'treasury_yield_10yr', 'consumer_sentiment_index', 'CPI', 'FEDFUNDS', 'UNRATE']\n"
     ]
    },
    {
     "name": "stderr",
     "output_type": "stream",
     "text": [
      "2025-04-09 16:03:51.314 Thread 'Thread-134': missing ScriptRunContext! This warning can be ignored when running in bare mode.\n",
      "2025-04-09 16:03:51.316 Thread 'Thread-134': missing ScriptRunContext! This warning can be ignored when running in bare mode.\n",
      "2025-04-09 16:03:52.224 Thread 'MainThread': missing ScriptRunContext! This warning can be ignored when running in bare mode.\n",
      "2025-04-09 16:03:52.224 Thread 'MainThread': missing ScriptRunContext! This warning can be ignored when running in bare mode.\n"
     ]
    },
    {
     "name": "stdout",
     "output_type": "stream",
     "text": [
      "\u001b[1m1841/1841\u001b[0m \u001b[32m━━━━━━━━━━━━━━━━━━━━\u001b[0m\u001b[37m\u001b[0m \u001b[1m5s\u001b[0m 3ms/step\n"
     ]
    },
    {
     "name": "stderr",
     "output_type": "stream",
     "text": [
      "2025-04-09 16:03:58.016 Thread 'MainThread': missing ScriptRunContext! This warning can be ignored when running in bare mode.\n",
      "2025-04-09 16:03:58.017 Thread 'MainThread': missing ScriptRunContext! This warning can be ignored when running in bare mode.\n",
      "2025-04-09 16:03:58.018 Thread 'MainThread': missing ScriptRunContext! This warning can be ignored when running in bare mode.\n"
     ]
    },
    {
     "name": "stdout",
     "output_type": "stream",
     "text": [
      "🧪 Iter 20: using symbols → ['SOL', 'CRO', 'KAVA', 'DOT', 'MATIC', 'APE', 'BICO', 'RVN', 'CTC', 'BNB', 'SC', 'NEAR', 'FET', 'POND', 'AR', 'SFP', 'STX', 'SHIB', 'HIVE', 'LTC', 'IOST', 'SUSHI', 'KNC', 'JST', 'FIL', 'ADA', 'GAS', 'BAL', 'BAND', 'LRC', 'OM', 'STORJ', 'GALA', 'ATOM', 'SWFTC', 'LINK', 'LUNA', 'QNT', 'ASTR', 'CHR', 'SNT', 'FLUX', 'NEO', 'POWR', 'MBL', 'DENT', 'AXS', 'CFX', 'IMX', 'PHA', 'SKL', 'ILV', 'ENS', 'ONE', 'OXT', 'NMR', 'CVX', 'BTC', 'INJ', 'ELF', 'MANA', 'ETH', 'CELR', 'DOGE', 'ICP', 'HOT', 'JOE', 'KDA', 'RAD', 'MASK', 'MINA', 'LPT', 'CRV', 'DODO', 'EGLD', 'HNT', 'COTI', 'PAXG', 'CSPR', 'AAVE', 'EOS', 'BORA', 'BSV', 'LEO', 'KSM', 'RNDR', 'REQ', 'PUNDIX', 'RUNE', 'LSK', 'OGN', 'AMP', 'MOVR', 'SXP', 'DCR', 'GT', 'NEXO', 'BTT', 'FTT', 'ICX', 'SPELL', 'DASH', 'ALGO', 'QTUM', 'RSR', 'GRT', 'AGLD', 'ETC', 'NANO', 'SNX', 'JASMY', 'RLC', 'CHZ', 'ONT', 'MIOTA', 'IQ', 'CAKE', 'CTSI', 'STG', 'PYR', 'AMPL', 'DYDX', 'ACH', 'HBAR', 'CVC', 'T', 'BEL', 'GNO', 'ROSE', 'MKR', 'CELO', 'ORBS', 'RAY', 'SLP', 'CKB', 'METIS', 'AVAX', 'AUCTION', 'IOTX', 'LDO', '1INCH', 'GMT', 'ONGAS', 'ENJ', 'COMP', 'CFG', 'BCH', 'DIA', 'C98', 'ANKR', 'DAI', 'GLM', 'BAT', 'SAND', 'FLOW', 'SUPER', 'AUDIO', 'DGB', 'API3', 'STPT']\n",
      "📊 Indicator Cols: ['RSI', 'MFI', 'APO', 'AROON_up', 'AROON_down', 'AROONOSC', 'ADX', 'MOM', 'ROC', 'WILLR', 'BOP', 'OBV', 'ADOSC', 'ATR', 'CORREL', 'LINEARREG_ANGLE', 'STDDEV', 'AVGPRICE', 'price_above_EMA', 'price_above_KAMA', 'volume', 'vol_chg_3d', 'volume_over_ATR', 'lagged_return_1d', 'Sentiment', 'RSI_sentiment', 'MFI_sentiment', 'reddit_sentiment', 'fear_greed_index', 'title_sentiment', 'momentum_ratio_3d', 'BOP_ATR', 'ADX_OBV', 'PPO_STD', 'BOP_sq', 'VAR_sq', 'STDDEV_sq', 'RSI_over_ATR', 'BOP_over_STDDEV', 'bollinger_percent', 'BOP_sq.1', 'log_VAR', 'USD_strength_index', 'CBOE_volatility_index', 'gas_price_gwei', 'treasury_yield_10yr', 'consumer_sentiment_index', 'CPI', 'FEDFUNDS', 'UNRATE']\n"
     ]
    },
    {
     "name": "stderr",
     "output_type": "stream",
     "text": [
      "2025-04-09 16:03:58.540 Thread 'Thread-135': missing ScriptRunContext! This warning can be ignored when running in bare mode.\n",
      "2025-04-09 16:03:58.545 Thread 'Thread-135': missing ScriptRunContext! This warning can be ignored when running in bare mode.\n",
      "2025-04-09 16:03:59.536 Thread 'MainThread': missing ScriptRunContext! This warning can be ignored when running in bare mode.\n",
      "2025-04-09 16:03:59.536 Thread 'MainThread': missing ScriptRunContext! This warning can be ignored when running in bare mode.\n"
     ]
    },
    {
     "name": "stdout",
     "output_type": "stream",
     "text": [
      "\u001b[1m1781/1781\u001b[0m \u001b[32m━━━━━━━━━━━━━━━━━━━━\u001b[0m\u001b[37m\u001b[0m \u001b[1m5s\u001b[0m 3ms/step\n"
     ]
    },
    {
     "name": "stderr",
     "output_type": "stream",
     "text": [
      "2025-04-09 16:04:05.264 Thread 'MainThread': missing ScriptRunContext! This warning can be ignored when running in bare mode.\n",
      "2025-04-09 16:04:05.264 Thread 'MainThread': missing ScriptRunContext! This warning can be ignored when running in bare mode.\n",
      "2025-04-09 16:04:05.264 Thread 'MainThread': missing ScriptRunContext! This warning can be ignored when running in bare mode.\n"
     ]
    },
    {
     "name": "stdout",
     "output_type": "stream",
     "text": [
      "🧪 Iter 21: using symbols → ['SOL', 'CRO', 'KAVA', 'DOT', 'MATIC', 'APE', 'BICO', 'RVN', 'CTC', 'BNB', 'SC', 'NEAR', 'FET', 'POND', 'AR', 'SFP', 'STX', 'SHIB', 'HIVE', 'LTC', 'IOST', 'SUSHI', 'KNC', 'JST', 'FIL', 'ADA', 'GAS', 'BAL', 'BAND', 'LRC', 'OM', 'STORJ', 'GALA', 'ATOM', 'SWFTC', 'LINK', 'LUNA', 'QNT', 'ASTR', 'CHR', 'SNT', 'FLUX', 'NEO', 'POWR', 'MBL', 'DENT', 'AXS', 'CFX', 'IMX', 'PHA', 'SKL', 'ILV', 'ENS', 'ONE', 'OXT', 'NMR', 'CVX', 'BTC', 'INJ', 'ELF', 'MANA', 'ETH', 'CELR', 'DOGE', 'ICP', 'HOT', 'JOE', 'KDA', 'RAD', 'MASK', 'MINA', 'LPT', 'CRV', 'DODO', 'EGLD', 'HNT', 'COTI', 'PAXG', 'CSPR', 'AAVE', 'EOS', 'BORA', 'BSV', 'LEO', 'KSM', 'RNDR', 'REQ', 'PUNDIX', 'RUNE', 'LSK', 'OGN', 'AMP', 'MOVR', 'SXP', 'DCR', 'GT', 'NEXO', 'BTT', 'FTT', 'ICX', 'SPELL', 'DASH', 'ALGO', 'QTUM', 'RSR', 'GRT', 'AGLD', 'ETC', 'NANO', 'SNX', 'JASMY', 'RLC', 'CHZ', 'ONT', 'MIOTA', 'IQ', 'CAKE', 'CTSI', 'STG', 'PYR', 'AMPL', 'DYDX', 'ACH', 'HBAR', 'CVC', 'T', 'BEL', 'GNO', 'ROSE', 'MKR', 'CELO', 'ORBS', 'RAY', 'SLP', 'CKB', 'METIS', 'AVAX', 'AUCTION', 'IOTX', 'LDO', '1INCH', 'GMT', 'ONGAS', 'ENJ', 'COMP', 'CFG', 'BCH', 'DIA', 'C98', 'ANKR', 'DAI', 'GLM', 'BAT', 'SAND', 'FLOW', 'SUPER', 'AUDIO', 'DGB', 'API3', 'STPT']\n",
      "📊 Indicator Cols: ['RSI', 'MFI', 'APO', 'AROON_up', 'AROON_down', 'AROONOSC', 'ADX', 'MOM', 'ROC', 'WILLR', 'BOP', 'OBV', 'ADOSC', 'ATR', 'CORREL', 'LINEARREG_ANGLE', 'STDDEV', 'AVGPRICE', 'price_above_EMA', 'price_above_KAMA', 'volume', 'vol_chg_3d', 'volume_over_ATR', 'lagged_return_1d', 'Sentiment', 'RSI_sentiment', 'MFI_sentiment', 'reddit_sentiment', 'fear_greed_index', 'title_sentiment', 'momentum_ratio_3d', 'BOP_ATR', 'ADX_OBV', 'PPO_STD', 'BOP_sq', 'VAR_sq', 'STDDEV_sq', 'RSI_over_ATR', 'BOP_over_STDDEV', 'bollinger_percent', 'BOP_sq.1', 'log_VAR', 'USD_strength_index', 'CBOE_volatility_index', 'gas_price_gwei', 'treasury_yield_10yr', 'consumer_sentiment_index', 'CPI', 'FEDFUNDS', 'UNRATE']\n"
     ]
    },
    {
     "name": "stderr",
     "output_type": "stream",
     "text": [
      "2025-04-09 16:04:05.775 Thread 'Thread-136': missing ScriptRunContext! This warning can be ignored when running in bare mode.\n",
      "2025-04-09 16:04:05.782 Thread 'Thread-136': missing ScriptRunContext! This warning can be ignored when running in bare mode.\n",
      "2025-04-09 16:04:06.746 Thread 'MainThread': missing ScriptRunContext! This warning can be ignored when running in bare mode.\n",
      "2025-04-09 16:04:06.758 Thread 'MainThread': missing ScriptRunContext! This warning can be ignored when running in bare mode.\n"
     ]
    },
    {
     "name": "stdout",
     "output_type": "stream",
     "text": [
      "\u001b[1m1815/1815\u001b[0m \u001b[32m━━━━━━━━━━━━━━━━━━━━\u001b[0m\u001b[37m\u001b[0m \u001b[1m5s\u001b[0m 2ms/step\n"
     ]
    },
    {
     "name": "stderr",
     "output_type": "stream",
     "text": [
      "2025-04-09 16:04:12.217 Thread 'MainThread': missing ScriptRunContext! This warning can be ignored when running in bare mode.\n",
      "2025-04-09 16:04:12.217 Thread 'MainThread': missing ScriptRunContext! This warning can be ignored when running in bare mode.\n",
      "2025-04-09 16:04:12.222 Thread 'MainThread': missing ScriptRunContext! This warning can be ignored when running in bare mode.\n"
     ]
    },
    {
     "name": "stdout",
     "output_type": "stream",
     "text": [
      "🧪 Iter 22: using symbols → ['SOL', 'CRO', 'KAVA', 'DOT', 'MATIC', 'APE', 'BICO', 'RVN', 'CTC', 'BNB', 'SC', 'NEAR', 'FET', 'POND', 'AR', 'SFP', 'STX', 'SHIB', 'HIVE', 'LTC', 'IOST', 'SUSHI', 'KNC', 'JST', 'FIL', 'ADA', 'GAS', 'BAL', 'BAND', 'LRC', 'OM', 'STORJ', 'GALA', 'ATOM', 'SWFTC', 'LINK', 'LUNA', 'QNT', 'ASTR', 'CHR', 'SNT', 'FLUX', 'NEO', 'POWR', 'MBL', 'DENT', 'AXS', 'CFX', 'IMX', 'PHA', 'SKL', 'ILV', 'ENS', 'ONE', 'OXT', 'NMR', 'CVX', 'BTC', 'INJ', 'ELF', 'MANA', 'ETH', 'CELR', 'DOGE', 'ICP', 'HOT', 'JOE', 'KDA', 'RAD', 'MASK', 'MINA', 'LPT', 'CRV', 'DODO', 'EGLD', 'HNT', 'COTI', 'PAXG', 'CSPR', 'AAVE', 'EOS', 'BORA', 'BSV', 'LEO', 'KSM', 'RNDR', 'REQ', 'PUNDIX', 'RUNE', 'LSK', 'OGN', 'AMP', 'MOVR', 'SXP', 'DCR', 'GT', 'NEXO', 'BTT', 'FTT', 'ICX', 'SPELL', 'DASH', 'ALGO', 'QTUM', 'RSR', 'GRT', 'AGLD', 'ETC', 'NANO', 'SNX', 'JASMY', 'RLC', 'CHZ', 'ONT', 'MIOTA', 'IQ', 'CAKE', 'CTSI', 'STG', 'PYR', 'AMPL', 'DYDX', 'ACH', 'HBAR', 'CVC', 'T', 'BEL', 'GNO', 'ROSE', 'MKR', 'CELO', 'ORBS', 'RAY', 'SLP', 'CKB', 'METIS', 'AVAX', 'AUCTION', 'IOTX', 'LDO', '1INCH', 'GMT', 'ONGAS', 'ENJ', 'COMP', 'CFG', 'BCH', 'DIA', 'C98', 'ANKR', 'DAI', 'GLM', 'BAT', 'SAND', 'FLOW', 'SUPER', 'AUDIO', 'DGB', 'API3', 'STPT']\n",
      "📊 Indicator Cols: ['RSI', 'MFI', 'APO', 'AROON_up', 'AROON_down', 'AROONOSC', 'ADX', 'MOM', 'ROC', 'WILLR', 'BOP', 'OBV', 'ADOSC', 'ATR', 'CORREL', 'LINEARREG_ANGLE', 'STDDEV', 'AVGPRICE', 'price_above_EMA', 'price_above_KAMA', 'volume', 'vol_chg_3d', 'volume_over_ATR', 'lagged_return_1d', 'Sentiment', 'RSI_sentiment', 'MFI_sentiment', 'reddit_sentiment', 'fear_greed_index', 'title_sentiment', 'momentum_ratio_3d', 'BOP_ATR', 'ADX_OBV', 'PPO_STD', 'BOP_sq', 'VAR_sq', 'STDDEV_sq', 'RSI_over_ATR', 'BOP_over_STDDEV', 'bollinger_percent', 'BOP_sq.1', 'log_VAR', 'USD_strength_index', 'CBOE_volatility_index', 'gas_price_gwei', 'treasury_yield_10yr', 'consumer_sentiment_index', 'CPI', 'FEDFUNDS', 'UNRATE']\n"
     ]
    },
    {
     "name": "stderr",
     "output_type": "stream",
     "text": [
      "2025-04-09 16:04:12.730 Thread 'Thread-137': missing ScriptRunContext! This warning can be ignored when running in bare mode.\n",
      "2025-04-09 16:04:12.733 Thread 'Thread-137': missing ScriptRunContext! This warning can be ignored when running in bare mode.\n",
      "2025-04-09 16:04:13.625 Thread 'MainThread': missing ScriptRunContext! This warning can be ignored when running in bare mode.\n",
      "2025-04-09 16:04:13.632 Thread 'MainThread': missing ScriptRunContext! This warning can be ignored when running in bare mode.\n"
     ]
    },
    {
     "name": "stdout",
     "output_type": "stream",
     "text": [
      "\u001b[1m1822/1822\u001b[0m \u001b[32m━━━━━━━━━━━━━━━━━━━━\u001b[0m\u001b[37m\u001b[0m \u001b[1m5s\u001b[0m 3ms/step\n"
     ]
    },
    {
     "name": "stderr",
     "output_type": "stream",
     "text": [
      "2025-04-09 16:04:19.453 Thread 'MainThread': missing ScriptRunContext! This warning can be ignored when running in bare mode.\n",
      "2025-04-09 16:04:19.454 Thread 'MainThread': missing ScriptRunContext! This warning can be ignored when running in bare mode.\n",
      "2025-04-09 16:04:19.455 Thread 'MainThread': missing ScriptRunContext! This warning can be ignored when running in bare mode.\n"
     ]
    },
    {
     "name": "stdout",
     "output_type": "stream",
     "text": [
      "🧪 Iter 23: using symbols → ['SOL', 'CRO', 'KAVA', 'DOT', 'MATIC', 'APE', 'BICO', 'RVN', 'CTC', 'BNB', 'SC', 'NEAR', 'FET', 'POND', 'AR', 'SFP', 'STX', 'SHIB', 'HIVE', 'LTC', 'IOST', 'SUSHI', 'KNC', 'JST', 'FIL', 'ADA', 'GAS', 'BAL', 'BAND', 'LRC', 'OM', 'STORJ', 'GALA', 'ATOM', 'SWFTC', 'LINK', 'LUNA', 'QNT', 'ASTR', 'CHR', 'SNT', 'FLUX', 'NEO', 'POWR', 'MBL', 'DENT', 'AXS', 'CFX', 'IMX', 'PHA', 'SKL', 'ILV', 'ENS', 'ONE', 'OXT', 'NMR', 'CVX', 'BTC', 'INJ', 'ELF', 'MANA', 'ETH', 'CELR', 'DOGE', 'ICP', 'HOT', 'JOE', 'KDA', 'RAD', 'MASK', 'MINA', 'LPT', 'CRV', 'DODO', 'EGLD', 'HNT', 'COTI', 'PAXG', 'CSPR', 'AAVE', 'EOS', 'BORA', 'BSV', 'LEO', 'KSM', 'RNDR', 'REQ', 'PUNDIX', 'RUNE', 'LSK', 'OGN', 'AMP', 'MOVR', 'SXP', 'DCR', 'GT', 'NEXO', 'BTT', 'FTT', 'ICX', 'SPELL', 'DASH', 'ALGO', 'QTUM', 'RSR', 'GRT', 'AGLD', 'ETC', 'NANO', 'SNX', 'JASMY', 'RLC', 'CHZ', 'ONT', 'MIOTA', 'IQ', 'CAKE', 'CTSI', 'STG', 'PYR', 'AMPL', 'DYDX', 'ACH', 'HBAR', 'CVC', 'T', 'BEL', 'GNO', 'ROSE', 'MKR', 'CELO', 'ORBS', 'RAY', 'SLP', 'CKB', 'METIS', 'AVAX', 'AUCTION', 'IOTX', 'LDO', '1INCH', 'GMT', 'ONGAS', 'ENJ', 'COMP', 'CFG', 'BCH', 'DIA', 'C98', 'ANKR', 'DAI', 'GLM', 'BAT', 'SAND', 'FLOW', 'SUPER', 'AUDIO', 'DGB', 'API3', 'STPT']\n",
      "📊 Indicator Cols: ['RSI', 'MFI', 'APO', 'AROON_up', 'AROON_down', 'AROONOSC', 'ADX', 'MOM', 'ROC', 'WILLR', 'BOP', 'OBV', 'ADOSC', 'ATR', 'CORREL', 'LINEARREG_ANGLE', 'STDDEV', 'AVGPRICE', 'price_above_EMA', 'price_above_KAMA', 'volume', 'vol_chg_3d', 'volume_over_ATR', 'lagged_return_1d', 'Sentiment', 'RSI_sentiment', 'MFI_sentiment', 'reddit_sentiment', 'fear_greed_index', 'title_sentiment', 'momentum_ratio_3d', 'BOP_ATR', 'ADX_OBV', 'PPO_STD', 'BOP_sq', 'VAR_sq', 'STDDEV_sq', 'RSI_over_ATR', 'BOP_over_STDDEV', 'bollinger_percent', 'BOP_sq.1', 'log_VAR', 'USD_strength_index', 'CBOE_volatility_index', 'gas_price_gwei', 'treasury_yield_10yr', 'consumer_sentiment_index', 'CPI', 'FEDFUNDS', 'UNRATE']\n"
     ]
    },
    {
     "name": "stderr",
     "output_type": "stream",
     "text": [
      "2025-04-09 16:04:19.960 Thread 'Thread-138': missing ScriptRunContext! This warning can be ignored when running in bare mode.\n",
      "2025-04-09 16:04:19.967 Thread 'Thread-138': missing ScriptRunContext! This warning can be ignored when running in bare mode.\n",
      "2025-04-09 16:04:20.965 Thread 'MainThread': missing ScriptRunContext! This warning can be ignored when running in bare mode.\n",
      "2025-04-09 16:04:20.965 Thread 'MainThread': missing ScriptRunContext! This warning can be ignored when running in bare mode.\n"
     ]
    },
    {
     "name": "stdout",
     "output_type": "stream",
     "text": [
      "\u001b[1m1814/1814\u001b[0m \u001b[32m━━━━━━━━━━━━━━━━━━━━\u001b[0m\u001b[37m\u001b[0m \u001b[1m5s\u001b[0m 2ms/step\n"
     ]
    },
    {
     "name": "stderr",
     "output_type": "stream",
     "text": [
      "2025-04-09 16:04:26.418 Thread 'MainThread': missing ScriptRunContext! This warning can be ignored when running in bare mode.\n",
      "2025-04-09 16:04:26.418 Thread 'MainThread': missing ScriptRunContext! This warning can be ignored when running in bare mode.\n",
      "2025-04-09 16:04:26.418 Thread 'MainThread': missing ScriptRunContext! This warning can be ignored when running in bare mode.\n"
     ]
    },
    {
     "name": "stdout",
     "output_type": "stream",
     "text": [
      "🧪 Iter 24: using symbols → ['SOL', 'CRO', 'KAVA', 'DOT', 'MATIC', 'APE', 'BICO', 'RVN', 'CTC', 'BNB', 'SC', 'NEAR', 'FET', 'POND', 'AR', 'SFP', 'STX', 'SHIB', 'HIVE', 'LTC', 'IOST', 'SUSHI', 'KNC', 'JST', 'FIL', 'ADA', 'GAS', 'BAL', 'BAND', 'LRC', 'OM', 'STORJ', 'GALA', 'ATOM', 'SWFTC', 'LINK', 'LUNA', 'QNT', 'ASTR', 'CHR', 'SNT', 'FLUX', 'NEO', 'POWR', 'MBL', 'DENT', 'AXS', 'CFX', 'IMX', 'PHA', 'SKL', 'ILV', 'ENS', 'ONE', 'OXT', 'NMR', 'CVX', 'BTC', 'INJ', 'ELF', 'MANA', 'ETH', 'CELR', 'DOGE', 'ICP', 'HOT', 'JOE', 'KDA', 'RAD', 'MASK', 'MINA', 'LPT', 'CRV', 'DODO', 'EGLD', 'HNT', 'COTI', 'PAXG', 'CSPR', 'AAVE', 'EOS', 'BORA', 'BSV', 'LEO', 'KSM', 'RNDR', 'REQ', 'PUNDIX', 'RUNE', 'LSK', 'OGN', 'AMP', 'MOVR', 'SXP', 'DCR', 'GT', 'NEXO', 'BTT', 'FTT', 'ICX', 'SPELL', 'DASH', 'ALGO', 'QTUM', 'RSR', 'GRT', 'AGLD', 'ETC', 'NANO', 'SNX', 'JASMY', 'RLC', 'CHZ', 'ONT', 'MIOTA', 'IQ', 'CAKE', 'CTSI', 'STG', 'PYR', 'AMPL', 'DYDX', 'ACH', 'HBAR', 'CVC', 'T', 'BEL', 'GNO', 'ROSE', 'MKR', 'CELO', 'ORBS', 'RAY', 'SLP', 'CKB', 'METIS', 'AVAX', 'AUCTION', 'IOTX', 'LDO', '1INCH', 'GMT', 'ONGAS', 'ENJ', 'COMP', 'CFG', 'BCH', 'DIA', 'C98', 'ANKR', 'DAI', 'GLM', 'BAT', 'SAND', 'FLOW', 'SUPER', 'AUDIO', 'DGB', 'API3', 'STPT']\n",
      "📊 Indicator Cols: ['RSI', 'MFI', 'APO', 'AROON_up', 'AROON_down', 'AROONOSC', 'ADX', 'MOM', 'ROC', 'WILLR', 'BOP', 'OBV', 'ADOSC', 'ATR', 'CORREL', 'LINEARREG_ANGLE', 'STDDEV', 'AVGPRICE', 'price_above_EMA', 'price_above_KAMA', 'volume', 'vol_chg_3d', 'volume_over_ATR', 'lagged_return_1d', 'Sentiment', 'RSI_sentiment', 'MFI_sentiment', 'reddit_sentiment', 'fear_greed_index', 'title_sentiment', 'momentum_ratio_3d', 'BOP_ATR', 'ADX_OBV', 'PPO_STD', 'BOP_sq', 'VAR_sq', 'STDDEV_sq', 'RSI_over_ATR', 'BOP_over_STDDEV', 'bollinger_percent', 'BOP_sq.1', 'log_VAR', 'USD_strength_index', 'CBOE_volatility_index', 'gas_price_gwei', 'treasury_yield_10yr', 'consumer_sentiment_index', 'CPI', 'FEDFUNDS', 'UNRATE']\n"
     ]
    },
    {
     "name": "stderr",
     "output_type": "stream",
     "text": [
      "2025-04-09 16:04:26.928 Thread 'Thread-139': missing ScriptRunContext! This warning can be ignored when running in bare mode.\n",
      "2025-04-09 16:04:26.928 Thread 'Thread-139': missing ScriptRunContext! This warning can be ignored when running in bare mode.\n",
      "2025-04-09 16:04:27.871 Thread 'MainThread': missing ScriptRunContext! This warning can be ignored when running in bare mode.\n",
      "2025-04-09 16:04:27.871 Thread 'MainThread': missing ScriptRunContext! This warning can be ignored when running in bare mode.\n"
     ]
    },
    {
     "name": "stdout",
     "output_type": "stream",
     "text": [
      "\u001b[1m1808/1808\u001b[0m \u001b[32m━━━━━━━━━━━━━━━━━━━━\u001b[0m\u001b[37m\u001b[0m \u001b[1m5s\u001b[0m 3ms/step\n"
     ]
    },
    {
     "name": "stderr",
     "output_type": "stream",
     "text": [
      "2025-04-09 16:04:33.486 Thread 'MainThread': missing ScriptRunContext! This warning can be ignored when running in bare mode.\n",
      "2025-04-09 16:04:33.496 Thread 'MainThread': missing ScriptRunContext! This warning can be ignored when running in bare mode.\n",
      "2025-04-09 16:04:33.497 Thread 'MainThread': missing ScriptRunContext! This warning can be ignored when running in bare mode.\n"
     ]
    },
    {
     "name": "stdout",
     "output_type": "stream",
     "text": [
      "🧪 Iter 25: using symbols → ['SOL', 'CRO', 'KAVA', 'DOT', 'MATIC', 'APE', 'BICO', 'RVN', 'CTC', 'BNB', 'SC', 'NEAR', 'FET', 'POND', 'AR', 'SFP', 'STX', 'SHIB', 'HIVE', 'LTC', 'IOST', 'SUSHI', 'KNC', 'JST', 'FIL', 'ADA', 'GAS', 'BAL', 'BAND', 'LRC', 'OM', 'STORJ', 'GALA', 'ATOM', 'SWFTC', 'LINK', 'LUNA', 'QNT', 'ASTR', 'CHR', 'SNT', 'FLUX', 'NEO', 'POWR', 'MBL', 'DENT', 'AXS', 'CFX', 'IMX', 'PHA', 'SKL', 'ILV', 'ENS', 'ONE', 'OXT', 'NMR', 'CVX', 'BTC', 'INJ', 'ELF', 'MANA', 'ETH', 'CELR', 'DOGE', 'ICP', 'HOT', 'JOE', 'KDA', 'RAD', 'MASK', 'MINA', 'LPT', 'CRV', 'DODO', 'EGLD', 'HNT', 'COTI', 'PAXG', 'CSPR', 'AAVE', 'EOS', 'BORA', 'BSV', 'LEO', 'KSM', 'RNDR', 'REQ', 'PUNDIX', 'RUNE', 'LSK', 'OGN', 'AMP', 'MOVR', 'SXP', 'DCR', 'GT', 'NEXO', 'BTT', 'FTT', 'ICX', 'SPELL', 'DASH', 'ALGO', 'QTUM', 'RSR', 'GRT', 'AGLD', 'ETC', 'NANO', 'SNX', 'JASMY', 'RLC', 'CHZ', 'ONT', 'MIOTA', 'IQ', 'CAKE', 'CTSI', 'STG', 'PYR', 'AMPL', 'DYDX', 'ACH', 'HBAR', 'CVC', 'T', 'BEL', 'GNO', 'ROSE', 'MKR', 'CELO', 'ORBS', 'RAY', 'SLP', 'CKB', 'METIS', 'AVAX', 'AUCTION', 'IOTX', 'LDO', '1INCH', 'GMT', 'ONGAS', 'ENJ', 'COMP', 'CFG', 'BCH', 'DIA', 'C98', 'ANKR', 'DAI', 'GLM', 'BAT', 'SAND', 'FLOW', 'SUPER', 'AUDIO', 'DGB', 'API3', 'STPT']\n",
      "📊 Indicator Cols: ['RSI', 'MFI', 'APO', 'AROON_up', 'AROON_down', 'AROONOSC', 'ADX', 'MOM', 'ROC', 'WILLR', 'BOP', 'OBV', 'ADOSC', 'ATR', 'CORREL', 'LINEARREG_ANGLE', 'STDDEV', 'AVGPRICE', 'price_above_EMA', 'price_above_KAMA', 'volume', 'vol_chg_3d', 'volume_over_ATR', 'lagged_return_1d', 'Sentiment', 'RSI_sentiment', 'MFI_sentiment', 'reddit_sentiment', 'fear_greed_index', 'title_sentiment', 'momentum_ratio_3d', 'BOP_ATR', 'ADX_OBV', 'PPO_STD', 'BOP_sq', 'VAR_sq', 'STDDEV_sq', 'RSI_over_ATR', 'BOP_over_STDDEV', 'bollinger_percent', 'BOP_sq.1', 'log_VAR', 'USD_strength_index', 'CBOE_volatility_index', 'gas_price_gwei', 'treasury_yield_10yr', 'consumer_sentiment_index', 'CPI', 'FEDFUNDS', 'UNRATE']\n"
     ]
    },
    {
     "name": "stderr",
     "output_type": "stream",
     "text": [
      "2025-04-09 16:04:34.002 Thread 'Thread-140': missing ScriptRunContext! This warning can be ignored when running in bare mode.\n",
      "2025-04-09 16:04:34.007 Thread 'Thread-140': missing ScriptRunContext! This warning can be ignored when running in bare mode.\n",
      "2025-04-09 16:04:34.964 Thread 'MainThread': missing ScriptRunContext! This warning can be ignored when running in bare mode.\n",
      "2025-04-09 16:04:34.964 Thread 'MainThread': missing ScriptRunContext! This warning can be ignored when running in bare mode.\n"
     ]
    },
    {
     "name": "stdout",
     "output_type": "stream",
     "text": [
      "\u001b[1m1863/1863\u001b[0m \u001b[32m━━━━━━━━━━━━━━━━━━━━\u001b[0m\u001b[37m\u001b[0m \u001b[1m5s\u001b[0m 3ms/step\n"
     ]
    },
    {
     "name": "stderr",
     "output_type": "stream",
     "text": [
      "2025-04-09 16:04:40.844 Thread 'MainThread': missing ScriptRunContext! This warning can be ignored when running in bare mode.\n",
      "2025-04-09 16:04:40.844 Thread 'MainThread': missing ScriptRunContext! This warning can be ignored when running in bare mode.\n",
      "2025-04-09 16:04:40.847 Thread 'MainThread': missing ScriptRunContext! This warning can be ignored when running in bare mode.\n"
     ]
    },
    {
     "name": "stdout",
     "output_type": "stream",
     "text": [
      "🧪 Iter 26: using symbols → ['SOL', 'CRO', 'KAVA', 'DOT', 'MATIC', 'APE', 'BICO', 'RVN', 'CTC', 'BNB', 'SC', 'NEAR', 'FET', 'POND', 'AR', 'SFP', 'STX', 'SHIB', 'HIVE', 'LTC', 'IOST', 'SUSHI', 'KNC', 'JST', 'FIL', 'ADA', 'GAS', 'BAL', 'BAND', 'LRC', 'OM', 'STORJ', 'GALA', 'ATOM', 'SWFTC', 'LINK', 'LUNA', 'QNT', 'ASTR', 'CHR', 'SNT', 'FLUX', 'NEO', 'POWR', 'MBL', 'DENT', 'AXS', 'CFX', 'IMX', 'PHA', 'SKL', 'ILV', 'ENS', 'ONE', 'OXT', 'NMR', 'CVX', 'BTC', 'INJ', 'ELF', 'MANA', 'ETH', 'CELR', 'DOGE', 'ICP', 'HOT', 'JOE', 'KDA', 'RAD', 'MASK', 'MINA', 'LPT', 'CRV', 'DODO', 'EGLD', 'HNT', 'COTI', 'PAXG', 'CSPR', 'AAVE', 'EOS', 'BORA', 'BSV', 'LEO', 'KSM', 'RNDR', 'REQ', 'PUNDIX', 'RUNE', 'LSK', 'OGN', 'AMP', 'MOVR', 'SXP', 'DCR', 'GT', 'NEXO', 'BTT', 'FTT', 'ICX', 'SPELL', 'DASH', 'ALGO', 'QTUM', 'RSR', 'GRT', 'AGLD', 'ETC', 'NANO', 'SNX', 'JASMY', 'RLC', 'CHZ', 'ONT', 'MIOTA', 'IQ', 'CAKE', 'CTSI', 'STG', 'PYR', 'AMPL', 'DYDX', 'ACH', 'HBAR', 'CVC', 'T', 'BEL', 'GNO', 'ROSE', 'MKR', 'CELO', 'ORBS', 'RAY', 'SLP', 'CKB', 'METIS', 'AVAX', 'AUCTION', 'IOTX', 'LDO', '1INCH', 'GMT', 'ONGAS', 'ENJ', 'COMP', 'CFG', 'BCH', 'DIA', 'C98', 'ANKR', 'DAI', 'GLM', 'BAT', 'SAND', 'FLOW', 'SUPER', 'AUDIO', 'DGB', 'API3', 'STPT']\n",
      "📊 Indicator Cols: ['RSI', 'MFI', 'APO', 'AROON_up', 'AROON_down', 'AROONOSC', 'ADX', 'MOM', 'ROC', 'WILLR', 'BOP', 'OBV', 'ADOSC', 'ATR', 'CORREL', 'LINEARREG_ANGLE', 'STDDEV', 'AVGPRICE', 'price_above_EMA', 'price_above_KAMA', 'volume', 'vol_chg_3d', 'volume_over_ATR', 'lagged_return_1d', 'Sentiment', 'RSI_sentiment', 'MFI_sentiment', 'reddit_sentiment', 'fear_greed_index', 'title_sentiment', 'momentum_ratio_3d', 'BOP_ATR', 'ADX_OBV', 'PPO_STD', 'BOP_sq', 'VAR_sq', 'STDDEV_sq', 'RSI_over_ATR', 'BOP_over_STDDEV', 'bollinger_percent', 'BOP_sq.1', 'log_VAR', 'USD_strength_index', 'CBOE_volatility_index', 'gas_price_gwei', 'treasury_yield_10yr', 'consumer_sentiment_index', 'CPI', 'FEDFUNDS', 'UNRATE']\n"
     ]
    },
    {
     "name": "stderr",
     "output_type": "stream",
     "text": [
      "2025-04-09 16:04:41.352 Thread 'Thread-141': missing ScriptRunContext! This warning can be ignored when running in bare mode.\n",
      "2025-04-09 16:04:41.363 Thread 'Thread-141': missing ScriptRunContext! This warning can be ignored when running in bare mode.\n",
      "2025-04-09 16:04:42.385 Thread 'MainThread': missing ScriptRunContext! This warning can be ignored when running in bare mode.\n",
      "2025-04-09 16:04:42.385 Thread 'MainThread': missing ScriptRunContext! This warning can be ignored when running in bare mode.\n"
     ]
    },
    {
     "name": "stdout",
     "output_type": "stream",
     "text": [
      "\u001b[1m1779/1779\u001b[0m \u001b[32m━━━━━━━━━━━━━━━━━━━━\u001b[0m\u001b[37m\u001b[0m \u001b[1m5s\u001b[0m 3ms/step\n"
     ]
    },
    {
     "name": "stderr",
     "output_type": "stream",
     "text": [
      "2025-04-09 16:04:48.142 Thread 'MainThread': missing ScriptRunContext! This warning can be ignored when running in bare mode.\n",
      "2025-04-09 16:04:48.146 Thread 'MainThread': missing ScriptRunContext! This warning can be ignored when running in bare mode.\n",
      "2025-04-09 16:04:48.148 Thread 'MainThread': missing ScriptRunContext! This warning can be ignored when running in bare mode.\n"
     ]
    },
    {
     "name": "stdout",
     "output_type": "stream",
     "text": [
      "🧪 Iter 27: using symbols → ['SOL', 'CRO', 'KAVA', 'DOT', 'MATIC', 'APE', 'BICO', 'RVN', 'CTC', 'BNB', 'SC', 'NEAR', 'FET', 'POND', 'AR', 'SFP', 'STX', 'SHIB', 'HIVE', 'LTC', 'IOST', 'SUSHI', 'KNC', 'JST', 'FIL', 'ADA', 'GAS', 'BAL', 'BAND', 'LRC', 'OM', 'STORJ', 'GALA', 'ATOM', 'SWFTC', 'LINK', 'LUNA', 'QNT', 'ASTR', 'CHR', 'SNT', 'FLUX', 'NEO', 'POWR', 'MBL', 'DENT', 'AXS', 'CFX', 'IMX', 'PHA', 'SKL', 'ILV', 'ENS', 'ONE', 'OXT', 'NMR', 'CVX', 'BTC', 'INJ', 'ELF', 'MANA', 'ETH', 'CELR', 'DOGE', 'ICP', 'HOT', 'JOE', 'KDA', 'RAD', 'MASK', 'MINA', 'LPT', 'CRV', 'DODO', 'EGLD', 'HNT', 'COTI', 'PAXG', 'CSPR', 'AAVE', 'EOS', 'BORA', 'BSV', 'LEO', 'KSM', 'RNDR', 'REQ', 'PUNDIX', 'RUNE', 'LSK', 'OGN', 'AMP', 'MOVR', 'SXP', 'DCR', 'GT', 'NEXO', 'BTT', 'FTT', 'ICX', 'SPELL', 'DASH', 'ALGO', 'QTUM', 'RSR', 'GRT', 'AGLD', 'ETC', 'NANO', 'SNX', 'JASMY', 'RLC', 'CHZ', 'ONT', 'MIOTA', 'IQ', 'CAKE', 'CTSI', 'STG', 'PYR', 'AMPL', 'DYDX', 'ACH', 'HBAR', 'CVC', 'T', 'BEL', 'GNO', 'ROSE', 'MKR', 'CELO', 'ORBS', 'RAY', 'SLP', 'CKB', 'METIS', 'AVAX', 'AUCTION', 'IOTX', 'LDO', '1INCH', 'GMT', 'ONGAS', 'ENJ', 'COMP', 'CFG', 'BCH', 'DIA', 'C98', 'ANKR', 'DAI', 'GLM', 'BAT', 'SAND', 'FLOW', 'SUPER', 'AUDIO', 'DGB', 'API3', 'STPT']\n",
      "📊 Indicator Cols: ['RSI', 'MFI', 'APO', 'AROON_up', 'AROON_down', 'AROONOSC', 'ADX', 'MOM', 'ROC', 'WILLR', 'BOP', 'OBV', 'ADOSC', 'ATR', 'CORREL', 'LINEARREG_ANGLE', 'STDDEV', 'AVGPRICE', 'price_above_EMA', 'price_above_KAMA', 'volume', 'vol_chg_3d', 'volume_over_ATR', 'lagged_return_1d', 'Sentiment', 'RSI_sentiment', 'MFI_sentiment', 'reddit_sentiment', 'fear_greed_index', 'title_sentiment', 'momentum_ratio_3d', 'BOP_ATR', 'ADX_OBV', 'PPO_STD', 'BOP_sq', 'VAR_sq', 'STDDEV_sq', 'RSI_over_ATR', 'BOP_over_STDDEV', 'bollinger_percent', 'BOP_sq.1', 'log_VAR', 'USD_strength_index', 'CBOE_volatility_index', 'gas_price_gwei', 'treasury_yield_10yr', 'consumer_sentiment_index', 'CPI', 'FEDFUNDS', 'UNRATE']\n"
     ]
    },
    {
     "name": "stderr",
     "output_type": "stream",
     "text": [
      "2025-04-09 16:04:48.659 Thread 'Thread-142': missing ScriptRunContext! This warning can be ignored when running in bare mode.\n",
      "2025-04-09 16:04:48.662 Thread 'Thread-142': missing ScriptRunContext! This warning can be ignored when running in bare mode.\n",
      "2025-04-09 16:04:49.633 Thread 'MainThread': missing ScriptRunContext! This warning can be ignored when running in bare mode.\n",
      "2025-04-09 16:04:49.634 Thread 'MainThread': missing ScriptRunContext! This warning can be ignored when running in bare mode.\n"
     ]
    },
    {
     "name": "stdout",
     "output_type": "stream",
     "text": [
      "\u001b[1m1803/1803\u001b[0m \u001b[32m━━━━━━━━━━━━━━━━━━━━\u001b[0m\u001b[37m\u001b[0m \u001b[1m5s\u001b[0m 3ms/step\n"
     ]
    },
    {
     "name": "stderr",
     "output_type": "stream",
     "text": [
      "2025-04-09 16:04:55.348 Thread 'MainThread': missing ScriptRunContext! This warning can be ignored when running in bare mode.\n",
      "2025-04-09 16:04:55.349 Thread 'MainThread': missing ScriptRunContext! This warning can be ignored when running in bare mode.\n",
      "2025-04-09 16:04:55.351 Thread 'MainThread': missing ScriptRunContext! This warning can be ignored when running in bare mode.\n"
     ]
    },
    {
     "name": "stdout",
     "output_type": "stream",
     "text": [
      "🧪 Iter 28: using symbols → ['SOL', 'CRO', 'KAVA', 'DOT', 'MATIC', 'APE', 'BICO', 'RVN', 'CTC', 'BNB', 'SC', 'NEAR', 'FET', 'POND', 'AR', 'SFP', 'STX', 'SHIB', 'HIVE', 'LTC', 'IOST', 'SUSHI', 'KNC', 'JST', 'FIL', 'ADA', 'GAS', 'BAL', 'BAND', 'LRC', 'OM', 'STORJ', 'GALA', 'ATOM', 'SWFTC', 'LINK', 'LUNA', 'QNT', 'ASTR', 'CHR', 'SNT', 'FLUX', 'NEO', 'POWR', 'MBL', 'DENT', 'AXS', 'CFX', 'IMX', 'PHA', 'SKL', 'ILV', 'ENS', 'ONE', 'OXT', 'NMR', 'CVX', 'BTC', 'INJ', 'ELF', 'MANA', 'ETH', 'CELR', 'DOGE', 'ICP', 'HOT', 'JOE', 'KDA', 'RAD', 'MASK', 'MINA', 'LPT', 'CRV', 'DODO', 'EGLD', 'HNT', 'COTI', 'PAXG', 'CSPR', 'AAVE', 'EOS', 'BORA', 'BSV', 'LEO', 'KSM', 'RNDR', 'REQ', 'PUNDIX', 'RUNE', 'LSK', 'OGN', 'AMP', 'MOVR', 'SXP', 'DCR', 'GT', 'NEXO', 'BTT', 'FTT', 'ICX', 'SPELL', 'DASH', 'ALGO', 'QTUM', 'RSR', 'GRT', 'AGLD', 'ETC', 'NANO', 'SNX', 'JASMY', 'RLC', 'CHZ', 'ONT', 'MIOTA', 'IQ', 'CAKE', 'CTSI', 'STG', 'PYR', 'AMPL', 'DYDX', 'ACH', 'HBAR', 'CVC', 'T', 'BEL', 'GNO', 'ROSE', 'MKR', 'CELO', 'ORBS', 'RAY', 'SLP', 'CKB', 'METIS', 'AVAX', 'AUCTION', 'IOTX', 'LDO', '1INCH', 'GMT', 'ONGAS', 'ENJ', 'COMP', 'CFG', 'BCH', 'DIA', 'C98', 'ANKR', 'DAI', 'GLM', 'BAT', 'SAND', 'FLOW', 'SUPER', 'AUDIO', 'DGB', 'API3', 'STPT']\n",
      "📊 Indicator Cols: ['RSI', 'MFI', 'APO', 'AROON_up', 'AROON_down', 'AROONOSC', 'ADX', 'MOM', 'ROC', 'WILLR', 'BOP', 'OBV', 'ADOSC', 'ATR', 'CORREL', 'LINEARREG_ANGLE', 'STDDEV', 'AVGPRICE', 'price_above_EMA', 'price_above_KAMA', 'volume', 'vol_chg_3d', 'volume_over_ATR', 'lagged_return_1d', 'Sentiment', 'RSI_sentiment', 'MFI_sentiment', 'reddit_sentiment', 'fear_greed_index', 'title_sentiment', 'momentum_ratio_3d', 'BOP_ATR', 'ADX_OBV', 'PPO_STD', 'BOP_sq', 'VAR_sq', 'STDDEV_sq', 'RSI_over_ATR', 'BOP_over_STDDEV', 'bollinger_percent', 'BOP_sq.1', 'log_VAR', 'USD_strength_index', 'CBOE_volatility_index', 'gas_price_gwei', 'treasury_yield_10yr', 'consumer_sentiment_index', 'CPI', 'FEDFUNDS', 'UNRATE']\n"
     ]
    },
    {
     "name": "stderr",
     "output_type": "stream",
     "text": [
      "2025-04-09 16:04:55.869 Thread 'Thread-143': missing ScriptRunContext! This warning can be ignored when running in bare mode.\n",
      "2025-04-09 16:04:55.873 Thread 'Thread-143': missing ScriptRunContext! This warning can be ignored when running in bare mode.\n",
      "2025-04-09 16:04:56.982 Thread 'MainThread': missing ScriptRunContext! This warning can be ignored when running in bare mode.\n",
      "2025-04-09 16:04:56.984 Thread 'MainThread': missing ScriptRunContext! This warning can be ignored when running in bare mode.\n"
     ]
    },
    {
     "name": "stdout",
     "output_type": "stream",
     "text": [
      "\u001b[1m1814/1814\u001b[0m \u001b[32m━━━━━━━━━━━━━━━━━━━━\u001b[0m\u001b[37m\u001b[0m \u001b[1m5s\u001b[0m 3ms/step\n"
     ]
    },
    {
     "name": "stderr",
     "output_type": "stream",
     "text": [
      "2025-04-09 16:05:03.107 Thread 'MainThread': missing ScriptRunContext! This warning can be ignored when running in bare mode.\n",
      "2025-04-09 16:05:03.108 Thread 'MainThread': missing ScriptRunContext! This warning can be ignored when running in bare mode.\n",
      "2025-04-09 16:05:03.110 Thread 'MainThread': missing ScriptRunContext! This warning can be ignored when running in bare mode.\n"
     ]
    },
    {
     "name": "stdout",
     "output_type": "stream",
     "text": [
      "🧪 Iter 29: using symbols → ['SOL', 'CRO', 'KAVA', 'DOT', 'MATIC', 'APE', 'BICO', 'RVN', 'CTC', 'BNB', 'SC', 'NEAR', 'FET', 'POND', 'AR', 'SFP', 'STX', 'SHIB', 'HIVE', 'LTC', 'IOST', 'SUSHI', 'KNC', 'JST', 'FIL', 'ADA', 'GAS', 'BAL', 'BAND', 'LRC', 'OM', 'STORJ', 'GALA', 'ATOM', 'SWFTC', 'LINK', 'LUNA', 'QNT', 'ASTR', 'CHR', 'SNT', 'FLUX', 'NEO', 'POWR', 'MBL', 'DENT', 'AXS', 'CFX', 'IMX', 'PHA', 'SKL', 'ILV', 'ENS', 'ONE', 'OXT', 'NMR', 'CVX', 'BTC', 'INJ', 'ELF', 'MANA', 'ETH', 'CELR', 'DOGE', 'ICP', 'HOT', 'JOE', 'KDA', 'RAD', 'MASK', 'MINA', 'LPT', 'CRV', 'DODO', 'EGLD', 'HNT', 'COTI', 'PAXG', 'CSPR', 'AAVE', 'EOS', 'BORA', 'BSV', 'LEO', 'KSM', 'RNDR', 'REQ', 'PUNDIX', 'RUNE', 'LSK', 'OGN', 'AMP', 'MOVR', 'SXP', 'DCR', 'GT', 'NEXO', 'BTT', 'FTT', 'ICX', 'SPELL', 'DASH', 'ALGO', 'QTUM', 'RSR', 'GRT', 'AGLD', 'ETC', 'NANO', 'SNX', 'JASMY', 'RLC', 'CHZ', 'ONT', 'MIOTA', 'IQ', 'CAKE', 'CTSI', 'STG', 'PYR', 'AMPL', 'DYDX', 'ACH', 'HBAR', 'CVC', 'T', 'BEL', 'GNO', 'ROSE', 'MKR', 'CELO', 'ORBS', 'RAY', 'SLP', 'CKB', 'METIS', 'AVAX', 'AUCTION', 'IOTX', 'LDO', '1INCH', 'GMT', 'ONGAS', 'ENJ', 'COMP', 'CFG', 'BCH', 'DIA', 'C98', 'ANKR', 'DAI', 'GLM', 'BAT', 'SAND', 'FLOW', 'SUPER', 'AUDIO', 'DGB', 'API3', 'STPT']\n",
      "📊 Indicator Cols: ['RSI', 'MFI', 'APO', 'AROON_up', 'AROON_down', 'AROONOSC', 'ADX', 'MOM', 'ROC', 'WILLR', 'BOP', 'OBV', 'ADOSC', 'ATR', 'CORREL', 'LINEARREG_ANGLE', 'STDDEV', 'AVGPRICE', 'price_above_EMA', 'price_above_KAMA', 'volume', 'vol_chg_3d', 'volume_over_ATR', 'lagged_return_1d', 'Sentiment', 'RSI_sentiment', 'MFI_sentiment', 'reddit_sentiment', 'fear_greed_index', 'title_sentiment', 'momentum_ratio_3d', 'BOP_ATR', 'ADX_OBV', 'PPO_STD', 'BOP_sq', 'VAR_sq', 'STDDEV_sq', 'RSI_over_ATR', 'BOP_over_STDDEV', 'bollinger_percent', 'BOP_sq.1', 'log_VAR', 'USD_strength_index', 'CBOE_volatility_index', 'gas_price_gwei', 'treasury_yield_10yr', 'consumer_sentiment_index', 'CPI', 'FEDFUNDS', 'UNRATE']\n"
     ]
    },
    {
     "name": "stderr",
     "output_type": "stream",
     "text": [
      "2025-04-09 16:05:03.621 Thread 'Thread-144': missing ScriptRunContext! This warning can be ignored when running in bare mode.\n",
      "2025-04-09 16:05:03.627 Thread 'Thread-144': missing ScriptRunContext! This warning can be ignored when running in bare mode.\n",
      "2025-04-09 16:05:04.700 Thread 'MainThread': missing ScriptRunContext! This warning can be ignored when running in bare mode.\n",
      "2025-04-09 16:05:04.701 Thread 'MainThread': missing ScriptRunContext! This warning can be ignored when running in bare mode.\n"
     ]
    },
    {
     "name": "stdout",
     "output_type": "stream",
     "text": [
      "\u001b[1m1817/1817\u001b[0m \u001b[32m━━━━━━━━━━━━━━━━━━━━\u001b[0m\u001b[37m\u001b[0m \u001b[1m5s\u001b[0m 3ms/step\n"
     ]
    },
    {
     "name": "stderr",
     "output_type": "stream",
     "text": [
      "2025-04-09 16:05:10.313 Thread 'MainThread': missing ScriptRunContext! This warning can be ignored when running in bare mode.\n",
      "2025-04-09 16:05:10.315 Thread 'MainThread': missing ScriptRunContext! This warning can be ignored when running in bare mode.\n",
      "2025-04-09 16:05:10.315 Thread 'MainThread': missing ScriptRunContext! This warning can be ignored when running in bare mode.\n"
     ]
    },
    {
     "name": "stdout",
     "output_type": "stream",
     "text": [
      "🧪 Iter 30: using symbols → ['SOL', 'CRO', 'KAVA', 'DOT', 'MATIC', 'APE', 'BICO', 'RVN', 'CTC', 'BNB', 'SC', 'NEAR', 'FET', 'POND', 'AR', 'SFP', 'STX', 'SHIB', 'HIVE', 'LTC', 'IOST', 'SUSHI', 'KNC', 'JST', 'FIL', 'ADA', 'GAS', 'BAL', 'BAND', 'LRC', 'OM', 'STORJ', 'GALA', 'ATOM', 'SWFTC', 'LINK', 'LUNA', 'QNT', 'ASTR', 'CHR', 'SNT', 'FLUX', 'NEO', 'POWR', 'MBL', 'DENT', 'AXS', 'CFX', 'IMX', 'PHA', 'SKL', 'ILV', 'ENS', 'ONE', 'OXT', 'NMR', 'CVX', 'BTC', 'INJ', 'ELF', 'MANA', 'ETH', 'CELR', 'DOGE', 'ICP', 'HOT', 'JOE', 'KDA', 'RAD', 'MASK', 'MINA', 'LPT', 'CRV', 'DODO', 'EGLD', 'HNT', 'COTI', 'PAXG', 'CSPR', 'AAVE', 'EOS', 'BORA', 'BSV', 'LEO', 'KSM', 'RNDR', 'REQ', 'PUNDIX', 'RUNE', 'LSK', 'OGN', 'AMP', 'MOVR', 'SXP', 'DCR', 'GT', 'NEXO', 'BTT', 'FTT', 'ICX', 'SPELL', 'DASH', 'ALGO', 'QTUM', 'RSR', 'GRT', 'AGLD', 'ETC', 'NANO', 'SNX', 'JASMY', 'RLC', 'CHZ', 'ONT', 'MIOTA', 'IQ', 'CAKE', 'CTSI', 'STG', 'PYR', 'AMPL', 'DYDX', 'ACH', 'HBAR', 'CVC', 'T', 'BEL', 'GNO', 'ROSE', 'MKR', 'CELO', 'ORBS', 'RAY', 'SLP', 'CKB', 'METIS', 'AVAX', 'AUCTION', 'IOTX', 'LDO', '1INCH', 'GMT', 'ONGAS', 'ENJ', 'COMP', 'CFG', 'BCH', 'DIA', 'C98', 'ANKR', 'DAI', 'GLM', 'BAT', 'SAND', 'FLOW', 'SUPER', 'AUDIO', 'DGB', 'API3', 'STPT']\n",
      "📊 Indicator Cols: ['RSI', 'MFI', 'APO', 'AROON_up', 'AROON_down', 'AROONOSC', 'ADX', 'MOM', 'ROC', 'WILLR', 'BOP', 'OBV', 'ADOSC', 'ATR', 'CORREL', 'LINEARREG_ANGLE', 'STDDEV', 'AVGPRICE', 'price_above_EMA', 'price_above_KAMA', 'volume', 'vol_chg_3d', 'volume_over_ATR', 'lagged_return_1d', 'Sentiment', 'RSI_sentiment', 'MFI_sentiment', 'reddit_sentiment', 'fear_greed_index', 'title_sentiment', 'momentum_ratio_3d', 'BOP_ATR', 'ADX_OBV', 'PPO_STD', 'BOP_sq', 'VAR_sq', 'STDDEV_sq', 'RSI_over_ATR', 'BOP_over_STDDEV', 'bollinger_percent', 'BOP_sq.1', 'log_VAR', 'USD_strength_index', 'CBOE_volatility_index', 'gas_price_gwei', 'treasury_yield_10yr', 'consumer_sentiment_index', 'CPI', 'FEDFUNDS', 'UNRATE']\n"
     ]
    },
    {
     "name": "stderr",
     "output_type": "stream",
     "text": [
      "2025-04-09 16:05:10.821 Thread 'Thread-145': missing ScriptRunContext! This warning can be ignored when running in bare mode.\n",
      "2025-04-09 16:05:10.832 Thread 'Thread-145': missing ScriptRunContext! This warning can be ignored when running in bare mode.\n",
      "2025-04-09 16:05:11.696 Thread 'MainThread': missing ScriptRunContext! This warning can be ignored when running in bare mode.\n",
      "2025-04-09 16:05:11.696 Thread 'MainThread': missing ScriptRunContext! This warning can be ignored when running in bare mode.\n"
     ]
    },
    {
     "name": "stdout",
     "output_type": "stream",
     "text": [
      "\u001b[1m1802/1802\u001b[0m \u001b[32m━━━━━━━━━━━━━━━━━━━━\u001b[0m\u001b[37m\u001b[0m \u001b[1m4s\u001b[0m 2ms/step\n"
     ]
    },
    {
     "name": "stderr",
     "output_type": "stream",
     "text": [
      "2025-04-09 16:05:16.949 Thread 'MainThread': missing ScriptRunContext! This warning can be ignored when running in bare mode.\n",
      "2025-04-09 16:05:16.949 Thread 'MainThread': missing ScriptRunContext! This warning can be ignored when running in bare mode.\n",
      "2025-04-09 16:05:16.949 Thread 'MainThread': missing ScriptRunContext! This warning can be ignored when running in bare mode.\n"
     ]
    },
    {
     "name": "stdout",
     "output_type": "stream",
     "text": [
      "🧪 Iter 31: using symbols → ['SOL', 'CRO', 'KAVA', 'DOT', 'MATIC', 'APE', 'BICO', 'RVN', 'CTC', 'BNB', 'SC', 'NEAR', 'FET', 'POND', 'AR', 'SFP', 'STX', 'SHIB', 'HIVE', 'LTC', 'IOST', 'SUSHI', 'KNC', 'JST', 'FIL', 'ADA', 'GAS', 'BAL', 'BAND', 'LRC', 'OM', 'STORJ', 'GALA', 'ATOM', 'SWFTC', 'LINK', 'LUNA', 'QNT', 'ASTR', 'CHR', 'SNT', 'FLUX', 'NEO', 'POWR', 'MBL', 'DENT', 'AXS', 'CFX', 'IMX', 'PHA', 'SKL', 'ILV', 'ENS', 'ONE', 'OXT', 'NMR', 'CVX', 'BTC', 'INJ', 'ELF', 'MANA', 'ETH', 'CELR', 'DOGE', 'ICP', 'HOT', 'JOE', 'KDA', 'RAD', 'MASK', 'MINA', 'LPT', 'CRV', 'DODO', 'EGLD', 'HNT', 'COTI', 'PAXG', 'CSPR', 'AAVE', 'EOS', 'BORA', 'BSV', 'LEO', 'KSM', 'RNDR', 'REQ', 'PUNDIX', 'RUNE', 'LSK', 'OGN', 'AMP', 'MOVR', 'SXP', 'DCR', 'GT', 'NEXO', 'BTT', 'FTT', 'ICX', 'SPELL', 'DASH', 'ALGO', 'QTUM', 'RSR', 'GRT', 'AGLD', 'ETC', 'NANO', 'SNX', 'JASMY', 'RLC', 'CHZ', 'ONT', 'MIOTA', 'IQ', 'CAKE', 'CTSI', 'STG', 'PYR', 'AMPL', 'DYDX', 'ACH', 'HBAR', 'CVC', 'T', 'BEL', 'GNO', 'ROSE', 'MKR', 'CELO', 'ORBS', 'RAY', 'SLP', 'CKB', 'METIS', 'AVAX', 'AUCTION', 'IOTX', 'LDO', '1INCH', 'GMT', 'ONGAS', 'ENJ', 'COMP', 'CFG', 'BCH', 'DIA', 'C98', 'ANKR', 'DAI', 'GLM', 'BAT', 'SAND', 'FLOW', 'SUPER', 'AUDIO', 'DGB', 'API3', 'STPT']\n",
      "📊 Indicator Cols: ['RSI', 'MFI', 'APO', 'AROON_up', 'AROON_down', 'AROONOSC', 'ADX', 'MOM', 'ROC', 'WILLR', 'BOP', 'OBV', 'ADOSC', 'ATR', 'CORREL', 'LINEARREG_ANGLE', 'STDDEV', 'AVGPRICE', 'price_above_EMA', 'price_above_KAMA', 'volume', 'vol_chg_3d', 'volume_over_ATR', 'lagged_return_1d', 'Sentiment', 'RSI_sentiment', 'MFI_sentiment', 'reddit_sentiment', 'fear_greed_index', 'title_sentiment', 'momentum_ratio_3d', 'BOP_ATR', 'ADX_OBV', 'PPO_STD', 'BOP_sq', 'VAR_sq', 'STDDEV_sq', 'RSI_over_ATR', 'BOP_over_STDDEV', 'bollinger_percent', 'BOP_sq.1', 'log_VAR', 'USD_strength_index', 'CBOE_volatility_index', 'gas_price_gwei', 'treasury_yield_10yr', 'consumer_sentiment_index', 'CPI', 'FEDFUNDS', 'UNRATE']\n"
     ]
    },
    {
     "name": "stderr",
     "output_type": "stream",
     "text": [
      "2025-04-09 16:05:17.454 Thread 'Thread-146': missing ScriptRunContext! This warning can be ignored when running in bare mode.\n",
      "2025-04-09 16:05:17.459 Thread 'Thread-146': missing ScriptRunContext! This warning can be ignored when running in bare mode.\n",
      "2025-04-09 16:05:18.433 Thread 'MainThread': missing ScriptRunContext! This warning can be ignored when running in bare mode.\n",
      "2025-04-09 16:05:18.434 Thread 'MainThread': missing ScriptRunContext! This warning can be ignored when running in bare mode.\n"
     ]
    },
    {
     "name": "stdout",
     "output_type": "stream",
     "text": [
      "\u001b[1m1830/1830\u001b[0m \u001b[32m━━━━━━━━━━━━━━━━━━━━\u001b[0m\u001b[37m\u001b[0m \u001b[1m5s\u001b[0m 2ms/step\n"
     ]
    },
    {
     "name": "stderr",
     "output_type": "stream",
     "text": [
      "2025-04-09 16:05:23.807 Thread 'MainThread': missing ScriptRunContext! This warning can be ignored when running in bare mode.\n",
      "2025-04-09 16:05:23.807 Thread 'MainThread': missing ScriptRunContext! This warning can be ignored when running in bare mode.\n",
      "2025-04-09 16:05:23.814 Thread 'MainThread': missing ScriptRunContext! This warning can be ignored when running in bare mode.\n"
     ]
    },
    {
     "name": "stdout",
     "output_type": "stream",
     "text": [
      "🧪 Iter 32: using symbols → ['SOL', 'CRO', 'KAVA', 'DOT', 'MATIC', 'APE', 'BICO', 'RVN', 'CTC', 'BNB', 'SC', 'NEAR', 'FET', 'POND', 'AR', 'SFP', 'STX', 'SHIB', 'HIVE', 'LTC', 'IOST', 'SUSHI', 'KNC', 'JST', 'FIL', 'ADA', 'GAS', 'BAL', 'BAND', 'LRC', 'OM', 'STORJ', 'GALA', 'ATOM', 'SWFTC', 'LINK', 'LUNA', 'QNT', 'ASTR', 'CHR', 'SNT', 'FLUX', 'NEO', 'POWR', 'MBL', 'DENT', 'AXS', 'CFX', 'IMX', 'PHA', 'SKL', 'ILV', 'ENS', 'ONE', 'OXT', 'NMR', 'CVX', 'BTC', 'INJ', 'ELF', 'MANA', 'ETH', 'CELR', 'DOGE', 'ICP', 'HOT', 'JOE', 'KDA', 'RAD', 'MASK', 'MINA', 'LPT', 'CRV', 'DODO', 'EGLD', 'HNT', 'COTI', 'PAXG', 'CSPR', 'AAVE', 'EOS', 'BORA', 'BSV', 'LEO', 'KSM', 'RNDR', 'REQ', 'PUNDIX', 'RUNE', 'LSK', 'OGN', 'AMP', 'MOVR', 'SXP', 'DCR', 'GT', 'NEXO', 'BTT', 'FTT', 'ICX', 'SPELL', 'DASH', 'ALGO', 'QTUM', 'RSR', 'GRT', 'AGLD', 'ETC', 'NANO', 'SNX', 'JASMY', 'RLC', 'CHZ', 'ONT', 'MIOTA', 'IQ', 'CAKE', 'CTSI', 'STG', 'PYR', 'AMPL', 'DYDX', 'ACH', 'HBAR', 'CVC', 'T', 'BEL', 'GNO', 'ROSE', 'MKR', 'CELO', 'ORBS', 'RAY', 'SLP', 'CKB', 'METIS', 'AVAX', 'AUCTION', 'IOTX', 'LDO', '1INCH', 'GMT', 'ONGAS', 'ENJ', 'COMP', 'CFG', 'BCH', 'DIA', 'C98', 'ANKR', 'DAI', 'GLM', 'BAT', 'SAND', 'FLOW', 'SUPER', 'AUDIO', 'DGB', 'API3', 'STPT']\n",
      "📊 Indicator Cols: ['RSI', 'MFI', 'APO', 'AROON_up', 'AROON_down', 'AROONOSC', 'ADX', 'MOM', 'ROC', 'WILLR', 'BOP', 'OBV', 'ADOSC', 'ATR', 'CORREL', 'LINEARREG_ANGLE', 'STDDEV', 'AVGPRICE', 'price_above_EMA', 'price_above_KAMA', 'volume', 'vol_chg_3d', 'volume_over_ATR', 'lagged_return_1d', 'Sentiment', 'RSI_sentiment', 'MFI_sentiment', 'reddit_sentiment', 'fear_greed_index', 'title_sentiment', 'momentum_ratio_3d', 'BOP_ATR', 'ADX_OBV', 'PPO_STD', 'BOP_sq', 'VAR_sq', 'STDDEV_sq', 'RSI_over_ATR', 'BOP_over_STDDEV', 'bollinger_percent', 'BOP_sq.1', 'log_VAR', 'USD_strength_index', 'CBOE_volatility_index', 'gas_price_gwei', 'treasury_yield_10yr', 'consumer_sentiment_index', 'CPI', 'FEDFUNDS', 'UNRATE']\n"
     ]
    },
    {
     "name": "stderr",
     "output_type": "stream",
     "text": [
      "2025-04-09 16:05:24.321 Thread 'Thread-147': missing ScriptRunContext! This warning can be ignored when running in bare mode.\n",
      "2025-04-09 16:05:24.324 Thread 'Thread-147': missing ScriptRunContext! This warning can be ignored when running in bare mode.\n",
      "2025-04-09 16:05:25.316 Thread 'MainThread': missing ScriptRunContext! This warning can be ignored when running in bare mode.\n",
      "2025-04-09 16:05:25.317 Thread 'MainThread': missing ScriptRunContext! This warning can be ignored when running in bare mode.\n"
     ]
    },
    {
     "name": "stdout",
     "output_type": "stream",
     "text": [
      "\u001b[1m1800/1800\u001b[0m \u001b[32m━━━━━━━━━━━━━━━━━━━━\u001b[0m\u001b[37m\u001b[0m \u001b[1m4s\u001b[0m 2ms/step\n"
     ]
    },
    {
     "name": "stderr",
     "output_type": "stream",
     "text": [
      "2025-04-09 16:05:30.687 Thread 'MainThread': missing ScriptRunContext! This warning can be ignored when running in bare mode.\n",
      "2025-04-09 16:05:30.689 Thread 'MainThread': missing ScriptRunContext! This warning can be ignored when running in bare mode.\n",
      "2025-04-09 16:05:30.691 Thread 'MainThread': missing ScriptRunContext! This warning can be ignored when running in bare mode.\n"
     ]
    },
    {
     "name": "stdout",
     "output_type": "stream",
     "text": [
      "🧪 Iter 33: using symbols → ['SOL', 'CRO', 'KAVA', 'DOT', 'MATIC', 'APE', 'BICO', 'RVN', 'CTC', 'BNB', 'SC', 'NEAR', 'FET', 'POND', 'AR', 'SFP', 'STX', 'SHIB', 'HIVE', 'LTC', 'IOST', 'SUSHI', 'KNC', 'JST', 'FIL', 'ADA', 'GAS', 'BAL', 'BAND', 'LRC', 'OM', 'STORJ', 'GALA', 'ATOM', 'SWFTC', 'LINK', 'LUNA', 'QNT', 'ASTR', 'CHR', 'SNT', 'FLUX', 'NEO', 'POWR', 'MBL', 'DENT', 'AXS', 'CFX', 'IMX', 'PHA', 'SKL', 'ILV', 'ENS', 'ONE', 'OXT', 'NMR', 'CVX', 'BTC', 'INJ', 'ELF', 'MANA', 'ETH', 'CELR', 'DOGE', 'ICP', 'HOT', 'JOE', 'KDA', 'RAD', 'MASK', 'MINA', 'LPT', 'CRV', 'DODO', 'EGLD', 'HNT', 'COTI', 'PAXG', 'CSPR', 'AAVE', 'EOS', 'BORA', 'BSV', 'LEO', 'KSM', 'RNDR', 'REQ', 'PUNDIX', 'RUNE', 'LSK', 'OGN', 'AMP', 'MOVR', 'SXP', 'DCR', 'GT', 'NEXO', 'BTT', 'FTT', 'ICX', 'SPELL', 'DASH', 'ALGO', 'QTUM', 'RSR', 'GRT', 'AGLD', 'ETC', 'NANO', 'SNX', 'JASMY', 'RLC', 'CHZ', 'ONT', 'MIOTA', 'IQ', 'CAKE', 'CTSI', 'STG', 'PYR', 'AMPL', 'DYDX', 'ACH', 'HBAR', 'CVC', 'T', 'BEL', 'GNO', 'ROSE', 'MKR', 'CELO', 'ORBS', 'RAY', 'SLP', 'CKB', 'METIS', 'AVAX', 'AUCTION', 'IOTX', 'LDO', '1INCH', 'GMT', 'ONGAS', 'ENJ', 'COMP', 'CFG', 'BCH', 'DIA', 'C98', 'ANKR', 'DAI', 'GLM', 'BAT', 'SAND', 'FLOW', 'SUPER', 'AUDIO', 'DGB', 'API3', 'STPT']\n",
      "📊 Indicator Cols: ['RSI', 'MFI', 'APO', 'AROON_up', 'AROON_down', 'AROONOSC', 'ADX', 'MOM', 'ROC', 'WILLR', 'BOP', 'OBV', 'ADOSC', 'ATR', 'CORREL', 'LINEARREG_ANGLE', 'STDDEV', 'AVGPRICE', 'price_above_EMA', 'price_above_KAMA', 'volume', 'vol_chg_3d', 'volume_over_ATR', 'lagged_return_1d', 'Sentiment', 'RSI_sentiment', 'MFI_sentiment', 'reddit_sentiment', 'fear_greed_index', 'title_sentiment', 'momentum_ratio_3d', 'BOP_ATR', 'ADX_OBV', 'PPO_STD', 'BOP_sq', 'VAR_sq', 'STDDEV_sq', 'RSI_over_ATR', 'BOP_over_STDDEV', 'bollinger_percent', 'BOP_sq.1', 'log_VAR', 'USD_strength_index', 'CBOE_volatility_index', 'gas_price_gwei', 'treasury_yield_10yr', 'consumer_sentiment_index', 'CPI', 'FEDFUNDS', 'UNRATE']\n"
     ]
    },
    {
     "name": "stderr",
     "output_type": "stream",
     "text": [
      "2025-04-09 16:05:31.200 Thread 'Thread-148': missing ScriptRunContext! This warning can be ignored when running in bare mode.\n",
      "2025-04-09 16:05:31.205 Thread 'Thread-148': missing ScriptRunContext! This warning can be ignored when running in bare mode.\n",
      "2025-04-09 16:05:32.175 Thread 'MainThread': missing ScriptRunContext! This warning can be ignored when running in bare mode.\n",
      "2025-04-09 16:05:32.176 Thread 'MainThread': missing ScriptRunContext! This warning can be ignored when running in bare mode.\n"
     ]
    },
    {
     "name": "stdout",
     "output_type": "stream",
     "text": [
      "\u001b[1m1861/1861\u001b[0m \u001b[32m━━━━━━━━━━━━━━━━━━━━\u001b[0m\u001b[37m\u001b[0m \u001b[1m5s\u001b[0m 2ms/step\n"
     ]
    },
    {
     "name": "stderr",
     "output_type": "stream",
     "text": [
      "2025-04-09 16:05:37.809 Thread 'MainThread': missing ScriptRunContext! This warning can be ignored when running in bare mode.\n",
      "2025-04-09 16:05:37.810 Thread 'MainThread': missing ScriptRunContext! This warning can be ignored when running in bare mode.\n",
      "2025-04-09 16:05:37.811 Thread 'MainThread': missing ScriptRunContext! This warning can be ignored when running in bare mode.\n"
     ]
    },
    {
     "name": "stdout",
     "output_type": "stream",
     "text": [
      "🧪 Iter 34: using symbols → ['SOL', 'CRO', 'KAVA', 'DOT', 'MATIC', 'APE', 'BICO', 'RVN', 'CTC', 'BNB', 'SC', 'NEAR', 'FET', 'POND', 'AR', 'SFP', 'STX', 'SHIB', 'HIVE', 'LTC', 'IOST', 'SUSHI', 'KNC', 'JST', 'FIL', 'ADA', 'GAS', 'BAL', 'BAND', 'LRC', 'OM', 'STORJ', 'GALA', 'ATOM', 'SWFTC', 'LINK', 'LUNA', 'QNT', 'ASTR', 'CHR', 'SNT', 'FLUX', 'NEO', 'POWR', 'MBL', 'DENT', 'AXS', 'CFX', 'IMX', 'PHA', 'SKL', 'ILV', 'ENS', 'ONE', 'OXT', 'NMR', 'CVX', 'BTC', 'INJ', 'ELF', 'MANA', 'ETH', 'CELR', 'DOGE', 'ICP', 'HOT', 'JOE', 'KDA', 'RAD', 'MASK', 'MINA', 'LPT', 'CRV', 'DODO', 'EGLD', 'HNT', 'COTI', 'PAXG', 'CSPR', 'AAVE', 'EOS', 'BORA', 'BSV', 'LEO', 'KSM', 'RNDR', 'REQ', 'PUNDIX', 'RUNE', 'LSK', 'OGN', 'AMP', 'MOVR', 'SXP', 'DCR', 'GT', 'NEXO', 'BTT', 'FTT', 'ICX', 'SPELL', 'DASH', 'ALGO', 'QTUM', 'RSR', 'GRT', 'AGLD', 'ETC', 'NANO', 'SNX', 'JASMY', 'RLC', 'CHZ', 'ONT', 'MIOTA', 'IQ', 'CAKE', 'CTSI', 'STG', 'PYR', 'AMPL', 'DYDX', 'ACH', 'HBAR', 'CVC', 'T', 'BEL', 'GNO', 'ROSE', 'MKR', 'CELO', 'ORBS', 'RAY', 'SLP', 'CKB', 'METIS', 'AVAX', 'AUCTION', 'IOTX', 'LDO', '1INCH', 'GMT', 'ONGAS', 'ENJ', 'COMP', 'CFG', 'BCH', 'DIA', 'C98', 'ANKR', 'DAI', 'GLM', 'BAT', 'SAND', 'FLOW', 'SUPER', 'AUDIO', 'DGB', 'API3', 'STPT']\n",
      "📊 Indicator Cols: ['RSI', 'MFI', 'APO', 'AROON_up', 'AROON_down', 'AROONOSC', 'ADX', 'MOM', 'ROC', 'WILLR', 'BOP', 'OBV', 'ADOSC', 'ATR', 'CORREL', 'LINEARREG_ANGLE', 'STDDEV', 'AVGPRICE', 'price_above_EMA', 'price_above_KAMA', 'volume', 'vol_chg_3d', 'volume_over_ATR', 'lagged_return_1d', 'Sentiment', 'RSI_sentiment', 'MFI_sentiment', 'reddit_sentiment', 'fear_greed_index', 'title_sentiment', 'momentum_ratio_3d', 'BOP_ATR', 'ADX_OBV', 'PPO_STD', 'BOP_sq', 'VAR_sq', 'STDDEV_sq', 'RSI_over_ATR', 'BOP_over_STDDEV', 'bollinger_percent', 'BOP_sq.1', 'log_VAR', 'USD_strength_index', 'CBOE_volatility_index', 'gas_price_gwei', 'treasury_yield_10yr', 'consumer_sentiment_index', 'CPI', 'FEDFUNDS', 'UNRATE']\n"
     ]
    },
    {
     "name": "stderr",
     "output_type": "stream",
     "text": [
      "2025-04-09 16:05:38.322 Thread 'Thread-149': missing ScriptRunContext! This warning can be ignored when running in bare mode.\n",
      "2025-04-09 16:05:38.341 Thread 'Thread-149': missing ScriptRunContext! This warning can be ignored when running in bare mode.\n",
      "2025-04-09 16:05:39.240 Thread 'MainThread': missing ScriptRunContext! This warning can be ignored when running in bare mode.\n",
      "2025-04-09 16:05:39.241 Thread 'MainThread': missing ScriptRunContext! This warning can be ignored when running in bare mode.\n"
     ]
    },
    {
     "name": "stdout",
     "output_type": "stream",
     "text": [
      "\u001b[1m1806/1806\u001b[0m \u001b[32m━━━━━━━━━━━━━━━━━━━━\u001b[0m\u001b[37m\u001b[0m \u001b[1m4s\u001b[0m 2ms/step\n"
     ]
    },
    {
     "name": "stderr",
     "output_type": "stream",
     "text": [
      "2025-04-09 16:05:44.603 Thread 'MainThread': missing ScriptRunContext! This warning can be ignored when running in bare mode.\n",
      "2025-04-09 16:05:44.606 Thread 'MainThread': missing ScriptRunContext! This warning can be ignored when running in bare mode.\n",
      "2025-04-09 16:05:44.607 Thread 'MainThread': missing ScriptRunContext! This warning can be ignored when running in bare mode.\n"
     ]
    },
    {
     "name": "stdout",
     "output_type": "stream",
     "text": [
      "🧪 Iter 35: using symbols → ['SOL', 'CRO', 'KAVA', 'DOT', 'MATIC', 'APE', 'BICO', 'RVN', 'CTC', 'BNB', 'SC', 'NEAR', 'FET', 'POND', 'AR', 'SFP', 'STX', 'SHIB', 'HIVE', 'LTC', 'IOST', 'SUSHI', 'KNC', 'JST', 'FIL', 'ADA', 'GAS', 'BAL', 'BAND', 'LRC', 'OM', 'STORJ', 'GALA', 'ATOM', 'SWFTC', 'LINK', 'LUNA', 'QNT', 'ASTR', 'CHR', 'SNT', 'FLUX', 'NEO', 'POWR', 'MBL', 'DENT', 'AXS', 'CFX', 'IMX', 'PHA', 'SKL', 'ILV', 'ENS', 'ONE', 'OXT', 'NMR', 'CVX', 'BTC', 'INJ', 'ELF', 'MANA', 'ETH', 'CELR', 'DOGE', 'ICP', 'HOT', 'JOE', 'KDA', 'RAD', 'MASK', 'MINA', 'LPT', 'CRV', 'DODO', 'EGLD', 'HNT', 'COTI', 'PAXG', 'CSPR', 'AAVE', 'EOS', 'BORA', 'BSV', 'LEO', 'KSM', 'RNDR', 'REQ', 'PUNDIX', 'RUNE', 'LSK', 'OGN', 'AMP', 'MOVR', 'SXP', 'DCR', 'GT', 'NEXO', 'BTT', 'FTT', 'ICX', 'SPELL', 'DASH', 'ALGO', 'QTUM', 'RSR', 'GRT', 'AGLD', 'ETC', 'NANO', 'SNX', 'JASMY', 'RLC', 'CHZ', 'ONT', 'MIOTA', 'IQ', 'CAKE', 'CTSI', 'STG', 'PYR', 'AMPL', 'DYDX', 'ACH', 'HBAR', 'CVC', 'T', 'BEL', 'GNO', 'ROSE', 'MKR', 'CELO', 'ORBS', 'RAY', 'SLP', 'CKB', 'METIS', 'AVAX', 'AUCTION', 'IOTX', 'LDO', '1INCH', 'GMT', 'ONGAS', 'ENJ', 'COMP', 'CFG', 'BCH', 'DIA', 'C98', 'ANKR', 'DAI', 'GLM', 'BAT', 'SAND', 'FLOW', 'SUPER', 'AUDIO', 'DGB', 'API3', 'STPT']\n",
      "📊 Indicator Cols: ['RSI', 'MFI', 'APO', 'AROON_up', 'AROON_down', 'AROONOSC', 'ADX', 'MOM', 'ROC', 'WILLR', 'BOP', 'OBV', 'ADOSC', 'ATR', 'CORREL', 'LINEARREG_ANGLE', 'STDDEV', 'AVGPRICE', 'price_above_EMA', 'price_above_KAMA', 'volume', 'vol_chg_3d', 'volume_over_ATR', 'lagged_return_1d', 'Sentiment', 'RSI_sentiment', 'MFI_sentiment', 'reddit_sentiment', 'fear_greed_index', 'title_sentiment', 'momentum_ratio_3d', 'BOP_ATR', 'ADX_OBV', 'PPO_STD', 'BOP_sq', 'VAR_sq', 'STDDEV_sq', 'RSI_over_ATR', 'BOP_over_STDDEV', 'bollinger_percent', 'BOP_sq.1', 'log_VAR', 'USD_strength_index', 'CBOE_volatility_index', 'gas_price_gwei', 'treasury_yield_10yr', 'consumer_sentiment_index', 'CPI', 'FEDFUNDS', 'UNRATE']\n"
     ]
    },
    {
     "name": "stderr",
     "output_type": "stream",
     "text": [
      "2025-04-09 16:05:45.115 Thread 'Thread-150': missing ScriptRunContext! This warning can be ignored when running in bare mode.\n",
      "2025-04-09 16:05:45.118 Thread 'Thread-150': missing ScriptRunContext! This warning can be ignored when running in bare mode.\n",
      "2025-04-09 16:05:46.059 Thread 'MainThread': missing ScriptRunContext! This warning can be ignored when running in bare mode.\n",
      "2025-04-09 16:05:46.060 Thread 'MainThread': missing ScriptRunContext! This warning can be ignored when running in bare mode.\n"
     ]
    },
    {
     "name": "stdout",
     "output_type": "stream",
     "text": [
      "\u001b[1m1821/1821\u001b[0m \u001b[32m━━━━━━━━━━━━━━━━━━━━\u001b[0m\u001b[37m\u001b[0m \u001b[1m5s\u001b[0m 2ms/step\n"
     ]
    },
    {
     "name": "stderr",
     "output_type": "stream",
     "text": [
      "2025-04-09 16:05:51.501 Thread 'MainThread': missing ScriptRunContext! This warning can be ignored when running in bare mode.\n",
      "2025-04-09 16:05:51.503 Thread 'MainThread': missing ScriptRunContext! This warning can be ignored when running in bare mode.\n",
      "2025-04-09 16:05:51.504 Thread 'MainThread': missing ScriptRunContext! This warning can be ignored when running in bare mode.\n"
     ]
    },
    {
     "name": "stdout",
     "output_type": "stream",
     "text": [
      "🧪 Iter 36: using symbols → ['SOL', 'CRO', 'KAVA', 'DOT', 'MATIC', 'APE', 'BICO', 'RVN', 'CTC', 'BNB', 'SC', 'NEAR', 'FET', 'POND', 'AR', 'SFP', 'STX', 'SHIB', 'HIVE', 'LTC', 'IOST', 'SUSHI', 'KNC', 'JST', 'FIL', 'ADA', 'GAS', 'BAL', 'BAND', 'LRC', 'OM', 'STORJ', 'GALA', 'ATOM', 'SWFTC', 'LINK', 'LUNA', 'QNT', 'ASTR', 'CHR', 'SNT', 'FLUX', 'NEO', 'POWR', 'MBL', 'DENT', 'AXS', 'CFX', 'IMX', 'PHA', 'SKL', 'ILV', 'ENS', 'ONE', 'OXT', 'NMR', 'CVX', 'BTC', 'INJ', 'ELF', 'MANA', 'ETH', 'CELR', 'DOGE', 'ICP', 'HOT', 'JOE', 'KDA', 'RAD', 'MASK', 'MINA', 'LPT', 'CRV', 'DODO', 'EGLD', 'HNT', 'COTI', 'PAXG', 'CSPR', 'AAVE', 'EOS', 'BORA', 'BSV', 'LEO', 'KSM', 'RNDR', 'REQ', 'PUNDIX', 'RUNE', 'LSK', 'OGN', 'AMP', 'MOVR', 'SXP', 'DCR', 'GT', 'NEXO', 'BTT', 'FTT', 'ICX', 'SPELL', 'DASH', 'ALGO', 'QTUM', 'RSR', 'GRT', 'AGLD', 'ETC', 'NANO', 'SNX', 'JASMY', 'RLC', 'CHZ', 'ONT', 'MIOTA', 'IQ', 'CAKE', 'CTSI', 'STG', 'PYR', 'AMPL', 'DYDX', 'ACH', 'HBAR', 'CVC', 'T', 'BEL', 'GNO', 'ROSE', 'MKR', 'CELO', 'ORBS', 'RAY', 'SLP', 'CKB', 'METIS', 'AVAX', 'AUCTION', 'IOTX', 'LDO', '1INCH', 'GMT', 'ONGAS', 'ENJ', 'COMP', 'CFG', 'BCH', 'DIA', 'C98', 'ANKR', 'DAI', 'GLM', 'BAT', 'SAND', 'FLOW', 'SUPER', 'AUDIO', 'DGB', 'API3', 'STPT']\n",
      "📊 Indicator Cols: ['RSI', 'MFI', 'APO', 'AROON_up', 'AROON_down', 'AROONOSC', 'ADX', 'MOM', 'ROC', 'WILLR', 'BOP', 'OBV', 'ADOSC', 'ATR', 'CORREL', 'LINEARREG_ANGLE', 'STDDEV', 'AVGPRICE', 'price_above_EMA', 'price_above_KAMA', 'volume', 'vol_chg_3d', 'volume_over_ATR', 'lagged_return_1d', 'Sentiment', 'RSI_sentiment', 'MFI_sentiment', 'reddit_sentiment', 'fear_greed_index', 'title_sentiment', 'momentum_ratio_3d', 'BOP_ATR', 'ADX_OBV', 'PPO_STD', 'BOP_sq', 'VAR_sq', 'STDDEV_sq', 'RSI_over_ATR', 'BOP_over_STDDEV', 'bollinger_percent', 'BOP_sq.1', 'log_VAR', 'USD_strength_index', 'CBOE_volatility_index', 'gas_price_gwei', 'treasury_yield_10yr', 'consumer_sentiment_index', 'CPI', 'FEDFUNDS', 'UNRATE']\n"
     ]
    },
    {
     "name": "stderr",
     "output_type": "stream",
     "text": [
      "2025-04-09 16:05:52.010 Thread 'Thread-151': missing ScriptRunContext! This warning can be ignored when running in bare mode.\n",
      "2025-04-09 16:05:52.022 Thread 'Thread-151': missing ScriptRunContext! This warning can be ignored when running in bare mode.\n",
      "2025-04-09 16:05:53.023 Thread 'MainThread': missing ScriptRunContext! This warning can be ignored when running in bare mode.\n",
      "2025-04-09 16:05:53.024 Thread 'MainThread': missing ScriptRunContext! This warning can be ignored when running in bare mode.\n"
     ]
    },
    {
     "name": "stdout",
     "output_type": "stream",
     "text": [
      "\u001b[1m1822/1822\u001b[0m \u001b[32m━━━━━━━━━━━━━━━━━━━━\u001b[0m\u001b[37m\u001b[0m \u001b[1m4s\u001b[0m 2ms/step\n"
     ]
    },
    {
     "name": "stderr",
     "output_type": "stream",
     "text": [
      "2025-04-09 16:05:58.246 Thread 'MainThread': missing ScriptRunContext! This warning can be ignored when running in bare mode.\n",
      "2025-04-09 16:05:58.248 Thread 'MainThread': missing ScriptRunContext! This warning can be ignored when running in bare mode.\n",
      "2025-04-09 16:05:58.249 Thread 'MainThread': missing ScriptRunContext! This warning can be ignored when running in bare mode.\n"
     ]
    },
    {
     "name": "stdout",
     "output_type": "stream",
     "text": [
      "🧪 Iter 37: using symbols → ['SOL', 'CRO', 'KAVA', 'DOT', 'MATIC', 'APE', 'BICO', 'RVN', 'CTC', 'BNB', 'SC', 'NEAR', 'FET', 'POND', 'AR', 'SFP', 'STX', 'SHIB', 'HIVE', 'LTC', 'IOST', 'SUSHI', 'KNC', 'JST', 'FIL', 'ADA', 'GAS', 'BAL', 'BAND', 'LRC', 'OM', 'STORJ', 'GALA', 'ATOM', 'SWFTC', 'LINK', 'LUNA', 'QNT', 'ASTR', 'CHR', 'SNT', 'FLUX', 'NEO', 'POWR', 'MBL', 'DENT', 'AXS', 'CFX', 'IMX', 'PHA', 'SKL', 'ILV', 'ENS', 'ONE', 'OXT', 'NMR', 'CVX', 'BTC', 'INJ', 'ELF', 'MANA', 'ETH', 'CELR', 'DOGE', 'ICP', 'HOT', 'JOE', 'KDA', 'RAD', 'MASK', 'MINA', 'LPT', 'CRV', 'DODO', 'EGLD', 'HNT', 'COTI', 'PAXG', 'CSPR', 'AAVE', 'EOS', 'BORA', 'BSV', 'LEO', 'KSM', 'RNDR', 'REQ', 'PUNDIX', 'RUNE', 'LSK', 'OGN', 'AMP', 'MOVR', 'SXP', 'DCR', 'GT', 'NEXO', 'BTT', 'FTT', 'ICX', 'SPELL', 'DASH', 'ALGO', 'QTUM', 'RSR', 'GRT', 'AGLD', 'ETC', 'NANO', 'SNX', 'JASMY', 'RLC', 'CHZ', 'ONT', 'MIOTA', 'IQ', 'CAKE', 'CTSI', 'STG', 'PYR', 'AMPL', 'DYDX', 'ACH', 'HBAR', 'CVC', 'T', 'BEL', 'GNO', 'ROSE', 'MKR', 'CELO', 'ORBS', 'RAY', 'SLP', 'CKB', 'METIS', 'AVAX', 'AUCTION', 'IOTX', 'LDO', '1INCH', 'GMT', 'ONGAS', 'ENJ', 'COMP', 'CFG', 'BCH', 'DIA', 'C98', 'ANKR', 'DAI', 'GLM', 'BAT', 'SAND', 'FLOW', 'SUPER', 'AUDIO', 'DGB', 'API3', 'STPT']\n",
      "📊 Indicator Cols: ['RSI', 'MFI', 'APO', 'AROON_up', 'AROON_down', 'AROONOSC', 'ADX', 'MOM', 'ROC', 'WILLR', 'BOP', 'OBV', 'ADOSC', 'ATR', 'CORREL', 'LINEARREG_ANGLE', 'STDDEV', 'AVGPRICE', 'price_above_EMA', 'price_above_KAMA', 'volume', 'vol_chg_3d', 'volume_over_ATR', 'lagged_return_1d', 'Sentiment', 'RSI_sentiment', 'MFI_sentiment', 'reddit_sentiment', 'fear_greed_index', 'title_sentiment', 'momentum_ratio_3d', 'BOP_ATR', 'ADX_OBV', 'PPO_STD', 'BOP_sq', 'VAR_sq', 'STDDEV_sq', 'RSI_over_ATR', 'BOP_over_STDDEV', 'bollinger_percent', 'BOP_sq.1', 'log_VAR', 'USD_strength_index', 'CBOE_volatility_index', 'gas_price_gwei', 'treasury_yield_10yr', 'consumer_sentiment_index', 'CPI', 'FEDFUNDS', 'UNRATE']\n"
     ]
    },
    {
     "name": "stderr",
     "output_type": "stream",
     "text": [
      "2025-04-09 16:05:58.753 Thread 'Thread-152': missing ScriptRunContext! This warning can be ignored when running in bare mode.\n",
      "2025-04-09 16:05:58.759 Thread 'Thread-152': missing ScriptRunContext! This warning can be ignored when running in bare mode.\n",
      "2025-04-09 16:05:59.763 Thread 'MainThread': missing ScriptRunContext! This warning can be ignored when running in bare mode.\n",
      "2025-04-09 16:05:59.765 Thread 'MainThread': missing ScriptRunContext! This warning can be ignored when running in bare mode.\n"
     ]
    },
    {
     "name": "stdout",
     "output_type": "stream",
     "text": [
      "\u001b[1m1827/1827\u001b[0m \u001b[32m━━━━━━━━━━━━━━━━━━━━\u001b[0m\u001b[37m\u001b[0m \u001b[1m4s\u001b[0m 2ms/step\n"
     ]
    },
    {
     "name": "stderr",
     "output_type": "stream",
     "text": [
      "2025-04-09 16:06:05.137 Thread 'MainThread': missing ScriptRunContext! This warning can be ignored when running in bare mode.\n",
      "2025-04-09 16:06:05.138 Thread 'MainThread': missing ScriptRunContext! This warning can be ignored when running in bare mode.\n",
      "2025-04-09 16:06:05.139 Thread 'MainThread': missing ScriptRunContext! This warning can be ignored when running in bare mode.\n"
     ]
    },
    {
     "name": "stdout",
     "output_type": "stream",
     "text": [
      "🧪 Iter 38: using symbols → ['SOL', 'CRO', 'KAVA', 'DOT', 'MATIC', 'APE', 'BICO', 'RVN', 'CTC', 'BNB', 'SC', 'NEAR', 'FET', 'POND', 'AR', 'SFP', 'STX', 'SHIB', 'HIVE', 'LTC', 'IOST', 'SUSHI', 'KNC', 'JST', 'FIL', 'ADA', 'GAS', 'BAL', 'BAND', 'LRC', 'OM', 'STORJ', 'GALA', 'ATOM', 'SWFTC', 'LINK', 'LUNA', 'QNT', 'ASTR', 'CHR', 'SNT', 'FLUX', 'NEO', 'POWR', 'MBL', 'DENT', 'AXS', 'CFX', 'IMX', 'PHA', 'SKL', 'ILV', 'ENS', 'ONE', 'OXT', 'NMR', 'CVX', 'BTC', 'INJ', 'ELF', 'MANA', 'ETH', 'CELR', 'DOGE', 'ICP', 'HOT', 'JOE', 'KDA', 'RAD', 'MASK', 'MINA', 'LPT', 'CRV', 'DODO', 'EGLD', 'HNT', 'COTI', 'PAXG', 'CSPR', 'AAVE', 'EOS', 'BORA', 'BSV', 'LEO', 'KSM', 'RNDR', 'REQ', 'PUNDIX', 'RUNE', 'LSK', 'OGN', 'AMP', 'MOVR', 'SXP', 'DCR', 'GT', 'NEXO', 'BTT', 'FTT', 'ICX', 'SPELL', 'DASH', 'ALGO', 'QTUM', 'RSR', 'GRT', 'AGLD', 'ETC', 'NANO', 'SNX', 'JASMY', 'RLC', 'CHZ', 'ONT', 'MIOTA', 'IQ', 'CAKE', 'CTSI', 'STG', 'PYR', 'AMPL', 'DYDX', 'ACH', 'HBAR', 'CVC', 'T', 'BEL', 'GNO', 'ROSE', 'MKR', 'CELO', 'ORBS', 'RAY', 'SLP', 'CKB', 'METIS', 'AVAX', 'AUCTION', 'IOTX', 'LDO', '1INCH', 'GMT', 'ONGAS', 'ENJ', 'COMP', 'CFG', 'BCH', 'DIA', 'C98', 'ANKR', 'DAI', 'GLM', 'BAT', 'SAND', 'FLOW', 'SUPER', 'AUDIO', 'DGB', 'API3', 'STPT']\n",
      "📊 Indicator Cols: ['RSI', 'MFI', 'APO', 'AROON_up', 'AROON_down', 'AROONOSC', 'ADX', 'MOM', 'ROC', 'WILLR', 'BOP', 'OBV', 'ADOSC', 'ATR', 'CORREL', 'LINEARREG_ANGLE', 'STDDEV', 'AVGPRICE', 'price_above_EMA', 'price_above_KAMA', 'volume', 'vol_chg_3d', 'volume_over_ATR', 'lagged_return_1d', 'Sentiment', 'RSI_sentiment', 'MFI_sentiment', 'reddit_sentiment', 'fear_greed_index', 'title_sentiment', 'momentum_ratio_3d', 'BOP_ATR', 'ADX_OBV', 'PPO_STD', 'BOP_sq', 'VAR_sq', 'STDDEV_sq', 'RSI_over_ATR', 'BOP_over_STDDEV', 'bollinger_percent', 'BOP_sq.1', 'log_VAR', 'USD_strength_index', 'CBOE_volatility_index', 'gas_price_gwei', 'treasury_yield_10yr', 'consumer_sentiment_index', 'CPI', 'FEDFUNDS', 'UNRATE']\n"
     ]
    },
    {
     "name": "stderr",
     "output_type": "stream",
     "text": [
      "2025-04-09 16:06:05.649 Thread 'Thread-153': missing ScriptRunContext! This warning can be ignored when running in bare mode.\n",
      "2025-04-09 16:06:05.651 Thread 'Thread-153': missing ScriptRunContext! This warning can be ignored when running in bare mode.\n",
      "2025-04-09 16:06:06.597 Thread 'MainThread': missing ScriptRunContext! This warning can be ignored when running in bare mode.\n",
      "2025-04-09 16:06:06.600 Thread 'MainThread': missing ScriptRunContext! This warning can be ignored when running in bare mode.\n"
     ]
    },
    {
     "name": "stdout",
     "output_type": "stream",
     "text": [
      "\u001b[1m1811/1811\u001b[0m \u001b[32m━━━━━━━━━━━━━━━━━━━━\u001b[0m\u001b[37m\u001b[0m \u001b[1m4s\u001b[0m 2ms/step\n"
     ]
    },
    {
     "name": "stderr",
     "output_type": "stream",
     "text": [
      "2025-04-09 16:06:11.931 Thread 'MainThread': missing ScriptRunContext! This warning can be ignored when running in bare mode.\n",
      "2025-04-09 16:06:11.932 Thread 'MainThread': missing ScriptRunContext! This warning can be ignored when running in bare mode.\n",
      "2025-04-09 16:06:11.933 Thread 'MainThread': missing ScriptRunContext! This warning can be ignored when running in bare mode.\n"
     ]
    },
    {
     "name": "stdout",
     "output_type": "stream",
     "text": [
      "🧪 Iter 39: using symbols → ['SOL', 'CRO', 'KAVA', 'DOT', 'MATIC', 'APE', 'BICO', 'RVN', 'CTC', 'BNB', 'SC', 'NEAR', 'FET', 'POND', 'AR', 'SFP', 'STX', 'SHIB', 'HIVE', 'LTC', 'IOST', 'SUSHI', 'KNC', 'JST', 'FIL', 'ADA', 'GAS', 'BAL', 'BAND', 'LRC', 'OM', 'STORJ', 'GALA', 'ATOM', 'SWFTC', 'LINK', 'LUNA', 'QNT', 'ASTR', 'CHR', 'SNT', 'FLUX', 'NEO', 'POWR', 'MBL', 'DENT', 'AXS', 'CFX', 'IMX', 'PHA', 'SKL', 'ILV', 'ENS', 'ONE', 'OXT', 'NMR', 'CVX', 'BTC', 'INJ', 'ELF', 'MANA', 'ETH', 'CELR', 'DOGE', 'ICP', 'HOT', 'JOE', 'KDA', 'RAD', 'MASK', 'MINA', 'LPT', 'CRV', 'DODO', 'EGLD', 'HNT', 'COTI', 'PAXG', 'CSPR', 'AAVE', 'EOS', 'BORA', 'BSV', 'LEO', 'KSM', 'RNDR', 'REQ', 'PUNDIX', 'RUNE', 'LSK', 'OGN', 'AMP', 'MOVR', 'SXP', 'DCR', 'GT', 'NEXO', 'BTT', 'FTT', 'ICX', 'SPELL', 'DASH', 'ALGO', 'QTUM', 'RSR', 'GRT', 'AGLD', 'ETC', 'NANO', 'SNX', 'JASMY', 'RLC', 'CHZ', 'ONT', 'MIOTA', 'IQ', 'CAKE', 'CTSI', 'STG', 'PYR', 'AMPL', 'DYDX', 'ACH', 'HBAR', 'CVC', 'T', 'BEL', 'GNO', 'ROSE', 'MKR', 'CELO', 'ORBS', 'RAY', 'SLP', 'CKB', 'METIS', 'AVAX', 'AUCTION', 'IOTX', 'LDO', '1INCH', 'GMT', 'ONGAS', 'ENJ', 'COMP', 'CFG', 'BCH', 'DIA', 'C98', 'ANKR', 'DAI', 'GLM', 'BAT', 'SAND', 'FLOW', 'SUPER', 'AUDIO', 'DGB', 'API3', 'STPT']\n",
      "📊 Indicator Cols: ['RSI', 'MFI', 'APO', 'AROON_up', 'AROON_down', 'AROONOSC', 'ADX', 'MOM', 'ROC', 'WILLR', 'BOP', 'OBV', 'ADOSC', 'ATR', 'CORREL', 'LINEARREG_ANGLE', 'STDDEV', 'AVGPRICE', 'price_above_EMA', 'price_above_KAMA', 'volume', 'vol_chg_3d', 'volume_over_ATR', 'lagged_return_1d', 'Sentiment', 'RSI_sentiment', 'MFI_sentiment', 'reddit_sentiment', 'fear_greed_index', 'title_sentiment', 'momentum_ratio_3d', 'BOP_ATR', 'ADX_OBV', 'PPO_STD', 'BOP_sq', 'VAR_sq', 'STDDEV_sq', 'RSI_over_ATR', 'BOP_over_STDDEV', 'bollinger_percent', 'BOP_sq.1', 'log_VAR', 'USD_strength_index', 'CBOE_volatility_index', 'gas_price_gwei', 'treasury_yield_10yr', 'consumer_sentiment_index', 'CPI', 'FEDFUNDS', 'UNRATE']\n"
     ]
    },
    {
     "name": "stderr",
     "output_type": "stream",
     "text": [
      "2025-04-09 16:06:12.441 Thread 'Thread-154': missing ScriptRunContext! This warning can be ignored when running in bare mode.\n",
      "2025-04-09 16:06:12.448 Thread 'Thread-154': missing ScriptRunContext! This warning can be ignored when running in bare mode.\n",
      "2025-04-09 16:06:13.443 Thread 'MainThread': missing ScriptRunContext! This warning can be ignored when running in bare mode.\n",
      "2025-04-09 16:06:13.443 Thread 'MainThread': missing ScriptRunContext! This warning can be ignored when running in bare mode.\n"
     ]
    },
    {
     "name": "stdout",
     "output_type": "stream",
     "text": [
      "\u001b[1m1782/1782\u001b[0m \u001b[32m━━━━━━━━━━━━━━━━━━━━\u001b[0m\u001b[37m\u001b[0m \u001b[1m4s\u001b[0m 2ms/step\n"
     ]
    },
    {
     "name": "stderr",
     "output_type": "stream",
     "text": [
      "2025-04-09 16:06:18.716 Thread 'MainThread': missing ScriptRunContext! This warning can be ignored when running in bare mode.\n",
      "2025-04-09 16:06:18.717 Thread 'MainThread': missing ScriptRunContext! This warning can be ignored when running in bare mode.\n",
      "2025-04-09 16:06:18.719 Thread 'MainThread': missing ScriptRunContext! This warning can be ignored when running in bare mode.\n"
     ]
    },
    {
     "name": "stdout",
     "output_type": "stream",
     "text": [
      "🧪 Iter 40: using symbols → ['SOL', 'CRO', 'KAVA', 'DOT', 'MATIC', 'APE', 'BICO', 'RVN', 'CTC', 'BNB', 'SC', 'NEAR', 'FET', 'POND', 'AR', 'SFP', 'STX', 'SHIB', 'HIVE', 'LTC', 'IOST', 'SUSHI', 'KNC', 'JST', 'FIL', 'ADA', 'GAS', 'BAL', 'BAND', 'LRC', 'OM', 'STORJ', 'GALA', 'ATOM', 'SWFTC', 'LINK', 'LUNA', 'QNT', 'ASTR', 'CHR', 'SNT', 'FLUX', 'NEO', 'POWR', 'MBL', 'DENT', 'AXS', 'CFX', 'IMX', 'PHA', 'SKL', 'ILV', 'ENS', 'ONE', 'OXT', 'NMR', 'CVX', 'BTC', 'INJ', 'ELF', 'MANA', 'ETH', 'CELR', 'DOGE', 'ICP', 'HOT', 'JOE', 'KDA', 'RAD', 'MASK', 'MINA', 'LPT', 'CRV', 'DODO', 'EGLD', 'HNT', 'COTI', 'PAXG', 'CSPR', 'AAVE', 'EOS', 'BORA', 'BSV', 'LEO', 'KSM', 'RNDR', 'REQ', 'PUNDIX', 'RUNE', 'LSK', 'OGN', 'AMP', 'MOVR', 'SXP', 'DCR', 'GT', 'NEXO', 'BTT', 'FTT', 'ICX', 'SPELL', 'DASH', 'ALGO', 'QTUM', 'RSR', 'GRT', 'AGLD', 'ETC', 'NANO', 'SNX', 'JASMY', 'RLC', 'CHZ', 'ONT', 'MIOTA', 'IQ', 'CAKE', 'CTSI', 'STG', 'PYR', 'AMPL', 'DYDX', 'ACH', 'HBAR', 'CVC', 'T', 'BEL', 'GNO', 'ROSE', 'MKR', 'CELO', 'ORBS', 'RAY', 'SLP', 'CKB', 'METIS', 'AVAX', 'AUCTION', 'IOTX', 'LDO', '1INCH', 'GMT', 'ONGAS', 'ENJ', 'COMP', 'CFG', 'BCH', 'DIA', 'C98', 'ANKR', 'DAI', 'GLM', 'BAT', 'SAND', 'FLOW', 'SUPER', 'AUDIO', 'DGB', 'API3', 'STPT']\n",
      "📊 Indicator Cols: ['RSI', 'MFI', 'APO', 'AROON_up', 'AROON_down', 'AROONOSC', 'ADX', 'MOM', 'ROC', 'WILLR', 'BOP', 'OBV', 'ADOSC', 'ATR', 'CORREL', 'LINEARREG_ANGLE', 'STDDEV', 'AVGPRICE', 'price_above_EMA', 'price_above_KAMA', 'volume', 'vol_chg_3d', 'volume_over_ATR', 'lagged_return_1d', 'Sentiment', 'RSI_sentiment', 'MFI_sentiment', 'reddit_sentiment', 'fear_greed_index', 'title_sentiment', 'momentum_ratio_3d', 'BOP_ATR', 'ADX_OBV', 'PPO_STD', 'BOP_sq', 'VAR_sq', 'STDDEV_sq', 'RSI_over_ATR', 'BOP_over_STDDEV', 'bollinger_percent', 'BOP_sq.1', 'log_VAR', 'USD_strength_index', 'CBOE_volatility_index', 'gas_price_gwei', 'treasury_yield_10yr', 'consumer_sentiment_index', 'CPI', 'FEDFUNDS', 'UNRATE']\n"
     ]
    },
    {
     "name": "stderr",
     "output_type": "stream",
     "text": [
      "2025-04-09 16:06:19.237 Thread 'Thread-155': missing ScriptRunContext! This warning can be ignored when running in bare mode.\n",
      "2025-04-09 16:06:19.240 Thread 'Thread-155': missing ScriptRunContext! This warning can be ignored when running in bare mode.\n",
      "2025-04-09 16:06:20.312 Thread 'MainThread': missing ScriptRunContext! This warning can be ignored when running in bare mode.\n",
      "2025-04-09 16:06:20.314 Thread 'MainThread': missing ScriptRunContext! This warning can be ignored when running in bare mode.\n"
     ]
    },
    {
     "name": "stdout",
     "output_type": "stream",
     "text": [
      "\u001b[1m1814/1814\u001b[0m \u001b[32m━━━━━━━━━━━━━━━━━━━━\u001b[0m\u001b[37m\u001b[0m \u001b[1m4s\u001b[0m 2ms/step\n"
     ]
    },
    {
     "name": "stderr",
     "output_type": "stream",
     "text": [
      "2025-04-09 16:06:25.522 Thread 'MainThread': missing ScriptRunContext! This warning can be ignored when running in bare mode.\n",
      "2025-04-09 16:06:25.524 Thread 'MainThread': missing ScriptRunContext! This warning can be ignored when running in bare mode.\n",
      "2025-04-09 16:06:25.526 Thread 'MainThread': missing ScriptRunContext! This warning can be ignored when running in bare mode.\n"
     ]
    },
    {
     "name": "stdout",
     "output_type": "stream",
     "text": [
      "🧪 Iter 41: using symbols → ['SOL', 'CRO', 'KAVA', 'DOT', 'MATIC', 'APE', 'BICO', 'RVN', 'CTC', 'BNB', 'SC', 'NEAR', 'FET', 'POND', 'AR', 'SFP', 'STX', 'SHIB', 'HIVE', 'LTC', 'IOST', 'SUSHI', 'KNC', 'JST', 'FIL', 'ADA', 'GAS', 'BAL', 'BAND', 'LRC', 'OM', 'STORJ', 'GALA', 'ATOM', 'SWFTC', 'LINK', 'LUNA', 'QNT', 'ASTR', 'CHR', 'SNT', 'FLUX', 'NEO', 'POWR', 'MBL', 'DENT', 'AXS', 'CFX', 'IMX', 'PHA', 'SKL', 'ILV', 'ENS', 'ONE', 'OXT', 'NMR', 'CVX', 'BTC', 'INJ', 'ELF', 'MANA', 'ETH', 'CELR', 'DOGE', 'ICP', 'HOT', 'JOE', 'KDA', 'RAD', 'MASK', 'MINA', 'LPT', 'CRV', 'DODO', 'EGLD', 'HNT', 'COTI', 'PAXG', 'CSPR', 'AAVE', 'EOS', 'BORA', 'BSV', 'LEO', 'KSM', 'RNDR', 'REQ', 'PUNDIX', 'RUNE', 'LSK', 'OGN', 'AMP', 'MOVR', 'SXP', 'DCR', 'GT', 'NEXO', 'BTT', 'FTT', 'ICX', 'SPELL', 'DASH', 'ALGO', 'QTUM', 'RSR', 'GRT', 'AGLD', 'ETC', 'NANO', 'SNX', 'JASMY', 'RLC', 'CHZ', 'ONT', 'MIOTA', 'IQ', 'CAKE', 'CTSI', 'STG', 'PYR', 'AMPL', 'DYDX', 'ACH', 'HBAR', 'CVC', 'T', 'BEL', 'GNO', 'ROSE', 'MKR', 'CELO', 'ORBS', 'RAY', 'SLP', 'CKB', 'METIS', 'AVAX', 'AUCTION', 'IOTX', 'LDO', '1INCH', 'GMT', 'ONGAS', 'ENJ', 'COMP', 'CFG', 'BCH', 'DIA', 'C98', 'ANKR', 'DAI', 'GLM', 'BAT', 'SAND', 'FLOW', 'SUPER', 'AUDIO', 'DGB', 'API3', 'STPT']\n",
      "📊 Indicator Cols: ['RSI', 'MFI', 'APO', 'AROON_up', 'AROON_down', 'AROONOSC', 'ADX', 'MOM', 'ROC', 'WILLR', 'BOP', 'OBV', 'ADOSC', 'ATR', 'CORREL', 'LINEARREG_ANGLE', 'STDDEV', 'AVGPRICE', 'price_above_EMA', 'price_above_KAMA', 'volume', 'vol_chg_3d', 'volume_over_ATR', 'lagged_return_1d', 'Sentiment', 'RSI_sentiment', 'MFI_sentiment', 'reddit_sentiment', 'fear_greed_index', 'title_sentiment', 'momentum_ratio_3d', 'BOP_ATR', 'ADX_OBV', 'PPO_STD', 'BOP_sq', 'VAR_sq', 'STDDEV_sq', 'RSI_over_ATR', 'BOP_over_STDDEV', 'bollinger_percent', 'BOP_sq.1', 'log_VAR', 'USD_strength_index', 'CBOE_volatility_index', 'gas_price_gwei', 'treasury_yield_10yr', 'consumer_sentiment_index', 'CPI', 'FEDFUNDS', 'UNRATE']\n"
     ]
    },
    {
     "name": "stderr",
     "output_type": "stream",
     "text": [
      "2025-04-09 16:06:26.039 Thread 'Thread-156': missing ScriptRunContext! This warning can be ignored when running in bare mode.\n",
      "2025-04-09 16:06:26.044 Thread 'Thread-156': missing ScriptRunContext! This warning can be ignored when running in bare mode.\n",
      "2025-04-09 16:06:27.042 Thread 'MainThread': missing ScriptRunContext! This warning can be ignored when running in bare mode.\n",
      "2025-04-09 16:06:27.043 Thread 'MainThread': missing ScriptRunContext! This warning can be ignored when running in bare mode.\n"
     ]
    },
    {
     "name": "stdout",
     "output_type": "stream",
     "text": [
      "\u001b[1m1813/1813\u001b[0m \u001b[32m━━━━━━━━━━━━━━━━━━━━\u001b[0m\u001b[37m\u001b[0m \u001b[1m4s\u001b[0m 2ms/step\n"
     ]
    },
    {
     "name": "stderr",
     "output_type": "stream",
     "text": [
      "2025-04-09 16:06:32.468 Thread 'MainThread': missing ScriptRunContext! This warning can be ignored when running in bare mode.\n",
      "2025-04-09 16:06:32.469 Thread 'MainThread': missing ScriptRunContext! This warning can be ignored when running in bare mode.\n",
      "2025-04-09 16:06:32.470 Thread 'MainThread': missing ScriptRunContext! This warning can be ignored when running in bare mode.\n"
     ]
    },
    {
     "name": "stdout",
     "output_type": "stream",
     "text": [
      "🧪 Iter 42: using symbols → ['SOL', 'CRO', 'KAVA', 'DOT', 'MATIC', 'APE', 'BICO', 'RVN', 'CTC', 'BNB', 'SC', 'NEAR', 'FET', 'POND', 'AR', 'SFP', 'STX', 'SHIB', 'HIVE', 'LTC', 'IOST', 'SUSHI', 'KNC', 'JST', 'FIL', 'ADA', 'GAS', 'BAL', 'BAND', 'LRC', 'OM', 'STORJ', 'GALA', 'ATOM', 'SWFTC', 'LINK', 'LUNA', 'QNT', 'ASTR', 'CHR', 'SNT', 'FLUX', 'NEO', 'POWR', 'MBL', 'DENT', 'AXS', 'CFX', 'IMX', 'PHA', 'SKL', 'ILV', 'ENS', 'ONE', 'OXT', 'NMR', 'CVX', 'BTC', 'INJ', 'ELF', 'MANA', 'ETH', 'CELR', 'DOGE', 'ICP', 'HOT', 'JOE', 'KDA', 'RAD', 'MASK', 'MINA', 'LPT', 'CRV', 'DODO', 'EGLD', 'HNT', 'COTI', 'PAXG', 'CSPR', 'AAVE', 'EOS', 'BORA', 'BSV', 'LEO', 'KSM', 'RNDR', 'REQ', 'PUNDIX', 'RUNE', 'LSK', 'OGN', 'AMP', 'MOVR', 'SXP', 'DCR', 'GT', 'NEXO', 'BTT', 'FTT', 'ICX', 'SPELL', 'DASH', 'ALGO', 'QTUM', 'RSR', 'GRT', 'AGLD', 'ETC', 'NANO', 'SNX', 'JASMY', 'RLC', 'CHZ', 'ONT', 'MIOTA', 'IQ', 'CAKE', 'CTSI', 'STG', 'PYR', 'AMPL', 'DYDX', 'ACH', 'HBAR', 'CVC', 'T', 'BEL', 'GNO', 'ROSE', 'MKR', 'CELO', 'ORBS', 'RAY', 'SLP', 'CKB', 'METIS', 'AVAX', 'AUCTION', 'IOTX', 'LDO', '1INCH', 'GMT', 'ONGAS', 'ENJ', 'COMP', 'CFG', 'BCH', 'DIA', 'C98', 'ANKR', 'DAI', 'GLM', 'BAT', 'SAND', 'FLOW', 'SUPER', 'AUDIO', 'DGB', 'API3', 'STPT']\n",
      "📊 Indicator Cols: ['RSI', 'MFI', 'APO', 'AROON_up', 'AROON_down', 'AROONOSC', 'ADX', 'MOM', 'ROC', 'WILLR', 'BOP', 'OBV', 'ADOSC', 'ATR', 'CORREL', 'LINEARREG_ANGLE', 'STDDEV', 'AVGPRICE', 'price_above_EMA', 'price_above_KAMA', 'volume', 'vol_chg_3d', 'volume_over_ATR', 'lagged_return_1d', 'Sentiment', 'RSI_sentiment', 'MFI_sentiment', 'reddit_sentiment', 'fear_greed_index', 'title_sentiment', 'momentum_ratio_3d', 'BOP_ATR', 'ADX_OBV', 'PPO_STD', 'BOP_sq', 'VAR_sq', 'STDDEV_sq', 'RSI_over_ATR', 'BOP_over_STDDEV', 'bollinger_percent', 'BOP_sq.1', 'log_VAR', 'USD_strength_index', 'CBOE_volatility_index', 'gas_price_gwei', 'treasury_yield_10yr', 'consumer_sentiment_index', 'CPI', 'FEDFUNDS', 'UNRATE']\n"
     ]
    },
    {
     "name": "stderr",
     "output_type": "stream",
     "text": [
      "2025-04-09 16:06:32.991 Thread 'Thread-157': missing ScriptRunContext! This warning can be ignored when running in bare mode.\n",
      "2025-04-09 16:06:32.995 Thread 'Thread-157': missing ScriptRunContext! This warning can be ignored when running in bare mode.\n",
      "2025-04-09 16:06:34.011 Thread 'MainThread': missing ScriptRunContext! This warning can be ignored when running in bare mode.\n",
      "2025-04-09 16:06:34.012 Thread 'MainThread': missing ScriptRunContext! This warning can be ignored when running in bare mode.\n"
     ]
    },
    {
     "name": "stdout",
     "output_type": "stream",
     "text": [
      "\u001b[1m1847/1847\u001b[0m \u001b[32m━━━━━━━━━━━━━━━━━━━━\u001b[0m\u001b[37m\u001b[0m \u001b[1m5s\u001b[0m 3ms/step\n"
     ]
    },
    {
     "name": "stderr",
     "output_type": "stream",
     "text": [
      "2025-04-09 16:06:39.781 Thread 'MainThread': missing ScriptRunContext! This warning can be ignored when running in bare mode.\n",
      "2025-04-09 16:06:39.782 Thread 'MainThread': missing ScriptRunContext! This warning can be ignored when running in bare mode.\n",
      "2025-04-09 16:06:39.782 Thread 'MainThread': missing ScriptRunContext! This warning can be ignored when running in bare mode.\n"
     ]
    },
    {
     "name": "stdout",
     "output_type": "stream",
     "text": [
      "🧪 Iter 43: using symbols → ['SOL', 'CRO', 'KAVA', 'DOT', 'MATIC', 'APE', 'BICO', 'RVN', 'CTC', 'BNB', 'SC', 'NEAR', 'FET', 'POND', 'AR', 'SFP', 'STX', 'SHIB', 'HIVE', 'LTC', 'IOST', 'SUSHI', 'KNC', 'JST', 'FIL', 'ADA', 'GAS', 'BAL', 'BAND', 'LRC', 'OM', 'STORJ', 'GALA', 'ATOM', 'SWFTC', 'LINK', 'LUNA', 'QNT', 'ASTR', 'CHR', 'SNT', 'FLUX', 'NEO', 'POWR', 'MBL', 'DENT', 'AXS', 'CFX', 'IMX', 'PHA', 'SKL', 'ILV', 'ENS', 'ONE', 'OXT', 'NMR', 'CVX', 'BTC', 'INJ', 'ELF', 'MANA', 'ETH', 'CELR', 'DOGE', 'ICP', 'HOT', 'JOE', 'KDA', 'RAD', 'MASK', 'MINA', 'LPT', 'CRV', 'DODO', 'EGLD', 'HNT', 'COTI', 'PAXG', 'CSPR', 'AAVE', 'EOS', 'BORA', 'BSV', 'LEO', 'KSM', 'RNDR', 'REQ', 'PUNDIX', 'RUNE', 'LSK', 'OGN', 'AMP', 'MOVR', 'SXP', 'DCR', 'GT', 'NEXO', 'BTT', 'FTT', 'ICX', 'SPELL', 'DASH', 'ALGO', 'QTUM', 'RSR', 'GRT', 'AGLD', 'ETC', 'NANO', 'SNX', 'JASMY', 'RLC', 'CHZ', 'ONT', 'MIOTA', 'IQ', 'CAKE', 'CTSI', 'STG', 'PYR', 'AMPL', 'DYDX', 'ACH', 'HBAR', 'CVC', 'T', 'BEL', 'GNO', 'ROSE', 'MKR', 'CELO', 'ORBS', 'RAY', 'SLP', 'CKB', 'METIS', 'AVAX', 'AUCTION', 'IOTX', 'LDO', '1INCH', 'GMT', 'ONGAS', 'ENJ', 'COMP', 'CFG', 'BCH', 'DIA', 'C98', 'ANKR', 'DAI', 'GLM', 'BAT', 'SAND', 'FLOW', 'SUPER', 'AUDIO', 'DGB', 'API3', 'STPT']\n",
      "📊 Indicator Cols: ['RSI', 'MFI', 'APO', 'AROON_up', 'AROON_down', 'AROONOSC', 'ADX', 'MOM', 'ROC', 'WILLR', 'BOP', 'OBV', 'ADOSC', 'ATR', 'CORREL', 'LINEARREG_ANGLE', 'STDDEV', 'AVGPRICE', 'price_above_EMA', 'price_above_KAMA', 'volume', 'vol_chg_3d', 'volume_over_ATR', 'lagged_return_1d', 'Sentiment', 'RSI_sentiment', 'MFI_sentiment', 'reddit_sentiment', 'fear_greed_index', 'title_sentiment', 'momentum_ratio_3d', 'BOP_ATR', 'ADX_OBV', 'PPO_STD', 'BOP_sq', 'VAR_sq', 'STDDEV_sq', 'RSI_over_ATR', 'BOP_over_STDDEV', 'bollinger_percent', 'BOP_sq.1', 'log_VAR', 'USD_strength_index', 'CBOE_volatility_index', 'gas_price_gwei', 'treasury_yield_10yr', 'consumer_sentiment_index', 'CPI', 'FEDFUNDS', 'UNRATE']\n"
     ]
    },
    {
     "name": "stderr",
     "output_type": "stream",
     "text": [
      "2025-04-09 16:06:40.290 Thread 'Thread-158': missing ScriptRunContext! This warning can be ignored when running in bare mode.\n",
      "2025-04-09 16:06:40.296 Thread 'Thread-158': missing ScriptRunContext! This warning can be ignored when running in bare mode.\n",
      "2025-04-09 16:06:41.354 Thread 'MainThread': missing ScriptRunContext! This warning can be ignored when running in bare mode.\n",
      "2025-04-09 16:06:41.355 Thread 'MainThread': missing ScriptRunContext! This warning can be ignored when running in bare mode.\n"
     ]
    },
    {
     "name": "stdout",
     "output_type": "stream",
     "text": [
      "\u001b[1m1806/1806\u001b[0m \u001b[32m━━━━━━━━━━━━━━━━━━━━\u001b[0m\u001b[37m\u001b[0m \u001b[1m5s\u001b[0m 3ms/step\n"
     ]
    },
    {
     "name": "stderr",
     "output_type": "stream",
     "text": [
      "2025-04-09 16:06:46.871 Thread 'MainThread': missing ScriptRunContext! This warning can be ignored when running in bare mode.\n",
      "2025-04-09 16:06:46.873 Thread 'MainThread': missing ScriptRunContext! This warning can be ignored when running in bare mode.\n",
      "2025-04-09 16:06:46.874 Thread 'MainThread': missing ScriptRunContext! This warning can be ignored when running in bare mode.\n"
     ]
    },
    {
     "name": "stdout",
     "output_type": "stream",
     "text": [
      "🧪 Iter 44: using symbols → ['SOL', 'CRO', 'KAVA', 'DOT', 'MATIC', 'APE', 'BICO', 'RVN', 'CTC', 'BNB', 'SC', 'NEAR', 'FET', 'POND', 'AR', 'SFP', 'STX', 'SHIB', 'HIVE', 'LTC', 'IOST', 'SUSHI', 'KNC', 'JST', 'FIL', 'ADA', 'GAS', 'BAL', 'BAND', 'LRC', 'OM', 'STORJ', 'GALA', 'ATOM', 'SWFTC', 'LINK', 'LUNA', 'QNT', 'ASTR', 'CHR', 'SNT', 'FLUX', 'NEO', 'POWR', 'MBL', 'DENT', 'AXS', 'CFX', 'IMX', 'PHA', 'SKL', 'ILV', 'ENS', 'ONE', 'OXT', 'NMR', 'CVX', 'BTC', 'INJ', 'ELF', 'MANA', 'ETH', 'CELR', 'DOGE', 'ICP', 'HOT', 'JOE', 'KDA', 'RAD', 'MASK', 'MINA', 'LPT', 'CRV', 'DODO', 'EGLD', 'HNT', 'COTI', 'PAXG', 'CSPR', 'AAVE', 'EOS', 'BORA', 'BSV', 'LEO', 'KSM', 'RNDR', 'REQ', 'PUNDIX', 'RUNE', 'LSK', 'OGN', 'AMP', 'MOVR', 'SXP', 'DCR', 'GT', 'NEXO', 'BTT', 'FTT', 'ICX', 'SPELL', 'DASH', 'ALGO', 'QTUM', 'RSR', 'GRT', 'AGLD', 'ETC', 'NANO', 'SNX', 'JASMY', 'RLC', 'CHZ', 'ONT', 'MIOTA', 'IQ', 'CAKE', 'CTSI', 'STG', 'PYR', 'AMPL', 'DYDX', 'ACH', 'HBAR', 'CVC', 'T', 'BEL', 'GNO', 'ROSE', 'MKR', 'CELO', 'ORBS', 'RAY', 'SLP', 'CKB', 'METIS', 'AVAX', 'AUCTION', 'IOTX', 'LDO', '1INCH', 'GMT', 'ONGAS', 'ENJ', 'COMP', 'CFG', 'BCH', 'DIA', 'C98', 'ANKR', 'DAI', 'GLM', 'BAT', 'SAND', 'FLOW', 'SUPER', 'AUDIO', 'DGB', 'API3', 'STPT']\n",
      "📊 Indicator Cols: ['RSI', 'MFI', 'APO', 'AROON_up', 'AROON_down', 'AROONOSC', 'ADX', 'MOM', 'ROC', 'WILLR', 'BOP', 'OBV', 'ADOSC', 'ATR', 'CORREL', 'LINEARREG_ANGLE', 'STDDEV', 'AVGPRICE', 'price_above_EMA', 'price_above_KAMA', 'volume', 'vol_chg_3d', 'volume_over_ATR', 'lagged_return_1d', 'Sentiment', 'RSI_sentiment', 'MFI_sentiment', 'reddit_sentiment', 'fear_greed_index', 'title_sentiment', 'momentum_ratio_3d', 'BOP_ATR', 'ADX_OBV', 'PPO_STD', 'BOP_sq', 'VAR_sq', 'STDDEV_sq', 'RSI_over_ATR', 'BOP_over_STDDEV', 'bollinger_percent', 'BOP_sq.1', 'log_VAR', 'USD_strength_index', 'CBOE_volatility_index', 'gas_price_gwei', 'treasury_yield_10yr', 'consumer_sentiment_index', 'CPI', 'FEDFUNDS', 'UNRATE']\n"
     ]
    },
    {
     "name": "stderr",
     "output_type": "stream",
     "text": [
      "2025-04-09 16:06:47.380 Thread 'Thread-159': missing ScriptRunContext! This warning can be ignored when running in bare mode.\n",
      "2025-04-09 16:06:47.384 Thread 'Thread-159': missing ScriptRunContext! This warning can be ignored when running in bare mode.\n",
      "2025-04-09 16:06:48.517 Thread 'MainThread': missing ScriptRunContext! This warning can be ignored when running in bare mode.\n",
      "2025-04-09 16:06:48.521 Thread 'MainThread': missing ScriptRunContext! This warning can be ignored when running in bare mode.\n"
     ]
    },
    {
     "name": "stdout",
     "output_type": "stream",
     "text": [
      "\u001b[1m1857/1857\u001b[0m \u001b[32m━━━━━━━━━━━━━━━━━━━━\u001b[0m\u001b[37m\u001b[0m \u001b[1m5s\u001b[0m 3ms/step\n"
     ]
    },
    {
     "name": "stderr",
     "output_type": "stream",
     "text": [
      "2025-04-09 16:06:54.678 Thread 'MainThread': missing ScriptRunContext! This warning can be ignored when running in bare mode.\n",
      "2025-04-09 16:06:54.678 Thread 'MainThread': missing ScriptRunContext! This warning can be ignored when running in bare mode.\n",
      "2025-04-09 16:06:54.680 Thread 'MainThread': missing ScriptRunContext! This warning can be ignored when running in bare mode.\n"
     ]
    },
    {
     "name": "stdout",
     "output_type": "stream",
     "text": [
      "🧪 Iter 45: using symbols → ['SOL', 'CRO', 'KAVA', 'DOT', 'MATIC', 'APE', 'BICO', 'RVN', 'CTC', 'BNB', 'SC', 'NEAR', 'FET', 'POND', 'AR', 'SFP', 'STX', 'SHIB', 'HIVE', 'LTC', 'IOST', 'SUSHI', 'KNC', 'JST', 'FIL', 'ADA', 'GAS', 'BAL', 'BAND', 'LRC', 'OM', 'STORJ', 'GALA', 'ATOM', 'SWFTC', 'LINK', 'LUNA', 'QNT', 'ASTR', 'CHR', 'SNT', 'FLUX', 'NEO', 'POWR', 'MBL', 'DENT', 'AXS', 'CFX', 'IMX', 'PHA', 'SKL', 'ILV', 'ENS', 'ONE', 'OXT', 'NMR', 'CVX', 'BTC', 'INJ', 'ELF', 'MANA', 'ETH', 'CELR', 'DOGE', 'ICP', 'HOT', 'JOE', 'KDA', 'RAD', 'MASK', 'MINA', 'LPT', 'CRV', 'DODO', 'EGLD', 'HNT', 'COTI', 'PAXG', 'CSPR', 'AAVE', 'EOS', 'BORA', 'BSV', 'LEO', 'KSM', 'RNDR', 'REQ', 'PUNDIX', 'RUNE', 'LSK', 'OGN', 'AMP', 'MOVR', 'SXP', 'DCR', 'GT', 'NEXO', 'BTT', 'FTT', 'ICX', 'SPELL', 'DASH', 'ALGO', 'QTUM', 'RSR', 'GRT', 'AGLD', 'ETC', 'NANO', 'SNX', 'JASMY', 'RLC', 'CHZ', 'ONT', 'MIOTA', 'IQ', 'CAKE', 'CTSI', 'STG', 'PYR', 'AMPL', 'DYDX', 'ACH', 'HBAR', 'CVC', 'T', 'BEL', 'GNO', 'ROSE', 'MKR', 'CELO', 'ORBS', 'RAY', 'SLP', 'CKB', 'METIS', 'AVAX', 'AUCTION', 'IOTX', 'LDO', '1INCH', 'GMT', 'ONGAS', 'ENJ', 'COMP', 'CFG', 'BCH', 'DIA', 'C98', 'ANKR', 'DAI', 'GLM', 'BAT', 'SAND', 'FLOW', 'SUPER', 'AUDIO', 'DGB', 'API3', 'STPT']\n",
      "📊 Indicator Cols: ['RSI', 'MFI', 'APO', 'AROON_up', 'AROON_down', 'AROONOSC', 'ADX', 'MOM', 'ROC', 'WILLR', 'BOP', 'OBV', 'ADOSC', 'ATR', 'CORREL', 'LINEARREG_ANGLE', 'STDDEV', 'AVGPRICE', 'price_above_EMA', 'price_above_KAMA', 'volume', 'vol_chg_3d', 'volume_over_ATR', 'lagged_return_1d', 'Sentiment', 'RSI_sentiment', 'MFI_sentiment', 'reddit_sentiment', 'fear_greed_index', 'title_sentiment', 'momentum_ratio_3d', 'BOP_ATR', 'ADX_OBV', 'PPO_STD', 'BOP_sq', 'VAR_sq', 'STDDEV_sq', 'RSI_over_ATR', 'BOP_over_STDDEV', 'bollinger_percent', 'BOP_sq.1', 'log_VAR', 'USD_strength_index', 'CBOE_volatility_index', 'gas_price_gwei', 'treasury_yield_10yr', 'consumer_sentiment_index', 'CPI', 'FEDFUNDS', 'UNRATE']\n"
     ]
    },
    {
     "name": "stderr",
     "output_type": "stream",
     "text": [
      "2025-04-09 16:06:55.195 Thread 'Thread-160': missing ScriptRunContext! This warning can be ignored when running in bare mode.\n",
      "2025-04-09 16:06:55.206 Thread 'Thread-160': missing ScriptRunContext! This warning can be ignored when running in bare mode.\n",
      "2025-04-09 16:06:56.129 Thread 'MainThread': missing ScriptRunContext! This warning can be ignored when running in bare mode.\n",
      "2025-04-09 16:06:56.130 Thread 'MainThread': missing ScriptRunContext! This warning can be ignored when running in bare mode.\n"
     ]
    },
    {
     "name": "stdout",
     "output_type": "stream",
     "text": [
      "\u001b[1m1818/1818\u001b[0m \u001b[32m━━━━━━━━━━━━━━━━━━━━\u001b[0m\u001b[37m\u001b[0m \u001b[1m5s\u001b[0m 3ms/step\n"
     ]
    },
    {
     "name": "stderr",
     "output_type": "stream",
     "text": [
      "2025-04-09 16:07:02.111 Thread 'MainThread': missing ScriptRunContext! This warning can be ignored when running in bare mode.\n",
      "2025-04-09 16:07:02.112 Thread 'MainThread': missing ScriptRunContext! This warning can be ignored when running in bare mode.\n",
      "2025-04-09 16:07:02.113 Thread 'MainThread': missing ScriptRunContext! This warning can be ignored when running in bare mode.\n"
     ]
    },
    {
     "name": "stdout",
     "output_type": "stream",
     "text": [
      "🧪 Iter 46: using symbols → ['SOL', 'CRO', 'KAVA', 'DOT', 'MATIC', 'APE', 'BICO', 'RVN', 'CTC', 'BNB', 'SC', 'NEAR', 'FET', 'POND', 'AR', 'SFP', 'STX', 'SHIB', 'HIVE', 'LTC', 'IOST', 'SUSHI', 'KNC', 'JST', 'FIL', 'ADA', 'GAS', 'BAL', 'BAND', 'LRC', 'OM', 'STORJ', 'GALA', 'ATOM', 'SWFTC', 'LINK', 'LUNA', 'QNT', 'ASTR', 'CHR', 'SNT', 'FLUX', 'NEO', 'POWR', 'MBL', 'DENT', 'AXS', 'CFX', 'IMX', 'PHA', 'SKL', 'ILV', 'ENS', 'ONE', 'OXT', 'NMR', 'CVX', 'BTC', 'INJ', 'ELF', 'MANA', 'ETH', 'CELR', 'DOGE', 'ICP', 'HOT', 'JOE', 'KDA', 'RAD', 'MASK', 'MINA', 'LPT', 'CRV', 'DODO', 'EGLD', 'HNT', 'COTI', 'PAXG', 'CSPR', 'AAVE', 'EOS', 'BORA', 'BSV', 'LEO', 'KSM', 'RNDR', 'REQ', 'PUNDIX', 'RUNE', 'LSK', 'OGN', 'AMP', 'MOVR', 'SXP', 'DCR', 'GT', 'NEXO', 'BTT', 'FTT', 'ICX', 'SPELL', 'DASH', 'ALGO', 'QTUM', 'RSR', 'GRT', 'AGLD', 'ETC', 'NANO', 'SNX', 'JASMY', 'RLC', 'CHZ', 'ONT', 'MIOTA', 'IQ', 'CAKE', 'CTSI', 'STG', 'PYR', 'AMPL', 'DYDX', 'ACH', 'HBAR', 'CVC', 'T', 'BEL', 'GNO', 'ROSE', 'MKR', 'CELO', 'ORBS', 'RAY', 'SLP', 'CKB', 'METIS', 'AVAX', 'AUCTION', 'IOTX', 'LDO', '1INCH', 'GMT', 'ONGAS', 'ENJ', 'COMP', 'CFG', 'BCH', 'DIA', 'C98', 'ANKR', 'DAI', 'GLM', 'BAT', 'SAND', 'FLOW', 'SUPER', 'AUDIO', 'DGB', 'API3', 'STPT']\n",
      "📊 Indicator Cols: ['RSI', 'MFI', 'APO', 'AROON_up', 'AROON_down', 'AROONOSC', 'ADX', 'MOM', 'ROC', 'WILLR', 'BOP', 'OBV', 'ADOSC', 'ATR', 'CORREL', 'LINEARREG_ANGLE', 'STDDEV', 'AVGPRICE', 'price_above_EMA', 'price_above_KAMA', 'volume', 'vol_chg_3d', 'volume_over_ATR', 'lagged_return_1d', 'Sentiment', 'RSI_sentiment', 'MFI_sentiment', 'reddit_sentiment', 'fear_greed_index', 'title_sentiment', 'momentum_ratio_3d', 'BOP_ATR', 'ADX_OBV', 'PPO_STD', 'BOP_sq', 'VAR_sq', 'STDDEV_sq', 'RSI_over_ATR', 'BOP_over_STDDEV', 'bollinger_percent', 'BOP_sq.1', 'log_VAR', 'USD_strength_index', 'CBOE_volatility_index', 'gas_price_gwei', 'treasury_yield_10yr', 'consumer_sentiment_index', 'CPI', 'FEDFUNDS', 'UNRATE']\n"
     ]
    },
    {
     "name": "stderr",
     "output_type": "stream",
     "text": [
      "2025-04-09 16:07:02.631 Thread 'Thread-161': missing ScriptRunContext! This warning can be ignored when running in bare mode.\n",
      "2025-04-09 16:07:02.639 Thread 'Thread-161': missing ScriptRunContext! This warning can be ignored when running in bare mode.\n",
      "2025-04-09 16:07:03.772 Thread 'MainThread': missing ScriptRunContext! This warning can be ignored when running in bare mode.\n",
      "2025-04-09 16:07:03.773 Thread 'MainThread': missing ScriptRunContext! This warning can be ignored when running in bare mode.\n"
     ]
    },
    {
     "name": "stdout",
     "output_type": "stream",
     "text": [
      "\u001b[1m1794/1794\u001b[0m \u001b[32m━━━━━━━━━━━━━━━━━━━━\u001b[0m\u001b[37m\u001b[0m \u001b[1m5s\u001b[0m 3ms/step\n"
     ]
    },
    {
     "name": "stderr",
     "output_type": "stream",
     "text": [
      "2025-04-09 16:07:09.451 Thread 'MainThread': missing ScriptRunContext! This warning can be ignored when running in bare mode.\n",
      "2025-04-09 16:07:09.452 Thread 'MainThread': missing ScriptRunContext! This warning can be ignored when running in bare mode.\n",
      "2025-04-09 16:07:09.453 Thread 'MainThread': missing ScriptRunContext! This warning can be ignored when running in bare mode.\n"
     ]
    },
    {
     "name": "stdout",
     "output_type": "stream",
     "text": [
      "🧪 Iter 47: using symbols → ['SOL', 'CRO', 'KAVA', 'DOT', 'MATIC', 'APE', 'BICO', 'RVN', 'CTC', 'BNB', 'SC', 'NEAR', 'FET', 'POND', 'AR', 'SFP', 'STX', 'SHIB', 'HIVE', 'LTC', 'IOST', 'SUSHI', 'KNC', 'JST', 'FIL', 'ADA', 'GAS', 'BAL', 'BAND', 'LRC', 'OM', 'STORJ', 'GALA', 'ATOM', 'SWFTC', 'LINK', 'LUNA', 'QNT', 'ASTR', 'CHR', 'SNT', 'FLUX', 'NEO', 'POWR', 'MBL', 'DENT', 'AXS', 'CFX', 'IMX', 'PHA', 'SKL', 'ILV', 'ENS', 'ONE', 'OXT', 'NMR', 'CVX', 'BTC', 'INJ', 'ELF', 'MANA', 'ETH', 'CELR', 'DOGE', 'ICP', 'HOT', 'JOE', 'KDA', 'RAD', 'MASK', 'MINA', 'LPT', 'CRV', 'DODO', 'EGLD', 'HNT', 'COTI', 'PAXG', 'CSPR', 'AAVE', 'EOS', 'BORA', 'BSV', 'LEO', 'KSM', 'RNDR', 'REQ', 'PUNDIX', 'RUNE', 'LSK', 'OGN', 'AMP', 'MOVR', 'SXP', 'DCR', 'GT', 'NEXO', 'BTT', 'FTT', 'ICX', 'SPELL', 'DASH', 'ALGO', 'QTUM', 'RSR', 'GRT', 'AGLD', 'ETC', 'NANO', 'SNX', 'JASMY', 'RLC', 'CHZ', 'ONT', 'MIOTA', 'IQ', 'CAKE', 'CTSI', 'STG', 'PYR', 'AMPL', 'DYDX', 'ACH', 'HBAR', 'CVC', 'T', 'BEL', 'GNO', 'ROSE', 'MKR', 'CELO', 'ORBS', 'RAY', 'SLP', 'CKB', 'METIS', 'AVAX', 'AUCTION', 'IOTX', 'LDO', '1INCH', 'GMT', 'ONGAS', 'ENJ', 'COMP', 'CFG', 'BCH', 'DIA', 'C98', 'ANKR', 'DAI', 'GLM', 'BAT', 'SAND', 'FLOW', 'SUPER', 'AUDIO', 'DGB', 'API3', 'STPT']\n",
      "📊 Indicator Cols: ['RSI', 'MFI', 'APO', 'AROON_up', 'AROON_down', 'AROONOSC', 'ADX', 'MOM', 'ROC', 'WILLR', 'BOP', 'OBV', 'ADOSC', 'ATR', 'CORREL', 'LINEARREG_ANGLE', 'STDDEV', 'AVGPRICE', 'price_above_EMA', 'price_above_KAMA', 'volume', 'vol_chg_3d', 'volume_over_ATR', 'lagged_return_1d', 'Sentiment', 'RSI_sentiment', 'MFI_sentiment', 'reddit_sentiment', 'fear_greed_index', 'title_sentiment', 'momentum_ratio_3d', 'BOP_ATR', 'ADX_OBV', 'PPO_STD', 'BOP_sq', 'VAR_sq', 'STDDEV_sq', 'RSI_over_ATR', 'BOP_over_STDDEV', 'bollinger_percent', 'BOP_sq.1', 'log_VAR', 'USD_strength_index', 'CBOE_volatility_index', 'gas_price_gwei', 'treasury_yield_10yr', 'consumer_sentiment_index', 'CPI', 'FEDFUNDS', 'UNRATE']\n"
     ]
    },
    {
     "name": "stderr",
     "output_type": "stream",
     "text": [
      "2025-04-09 16:07:09.956 Thread 'Thread-162': missing ScriptRunContext! This warning can be ignored when running in bare mode.\n",
      "2025-04-09 16:07:09.959 Thread 'Thread-162': missing ScriptRunContext! This warning can be ignored when running in bare mode.\n",
      "2025-04-09 16:07:11.007 Thread 'MainThread': missing ScriptRunContext! This warning can be ignored when running in bare mode.\n",
      "2025-04-09 16:07:11.009 Thread 'MainThread': missing ScriptRunContext! This warning can be ignored when running in bare mode.\n"
     ]
    },
    {
     "name": "stdout",
     "output_type": "stream",
     "text": [
      "\u001b[1m1808/1808\u001b[0m \u001b[32m━━━━━━━━━━━━━━━━━━━━\u001b[0m\u001b[37m\u001b[0m \u001b[1m4s\u001b[0m 2ms/step\n"
     ]
    },
    {
     "name": "stderr",
     "output_type": "stream",
     "text": [
      "2025-04-09 16:07:16.218 Thread 'MainThread': missing ScriptRunContext! This warning can be ignored when running in bare mode.\n",
      "2025-04-09 16:07:16.218 Thread 'MainThread': missing ScriptRunContext! This warning can be ignored when running in bare mode.\n",
      "2025-04-09 16:07:16.220 Thread 'MainThread': missing ScriptRunContext! This warning can be ignored when running in bare mode.\n"
     ]
    },
    {
     "name": "stdout",
     "output_type": "stream",
     "text": [
      "🧪 Iter 48: using symbols → ['SOL', 'CRO', 'KAVA', 'DOT', 'MATIC', 'APE', 'BICO', 'RVN', 'CTC', 'BNB', 'SC', 'NEAR', 'FET', 'POND', 'AR', 'SFP', 'STX', 'SHIB', 'HIVE', 'LTC', 'IOST', 'SUSHI', 'KNC', 'JST', 'FIL', 'ADA', 'GAS', 'BAL', 'BAND', 'LRC', 'OM', 'STORJ', 'GALA', 'ATOM', 'SWFTC', 'LINK', 'LUNA', 'QNT', 'ASTR', 'CHR', 'SNT', 'FLUX', 'NEO', 'POWR', 'MBL', 'DENT', 'AXS', 'CFX', 'IMX', 'PHA', 'SKL', 'ILV', 'ENS', 'ONE', 'OXT', 'NMR', 'CVX', 'BTC', 'INJ', 'ELF', 'MANA', 'ETH', 'CELR', 'DOGE', 'ICP', 'HOT', 'JOE', 'KDA', 'RAD', 'MASK', 'MINA', 'LPT', 'CRV', 'DODO', 'EGLD', 'HNT', 'COTI', 'PAXG', 'CSPR', 'AAVE', 'EOS', 'BORA', 'BSV', 'LEO', 'KSM', 'RNDR', 'REQ', 'PUNDIX', 'RUNE', 'LSK', 'OGN', 'AMP', 'MOVR', 'SXP', 'DCR', 'GT', 'NEXO', 'BTT', 'FTT', 'ICX', 'SPELL', 'DASH', 'ALGO', 'QTUM', 'RSR', 'GRT', 'AGLD', 'ETC', 'NANO', 'SNX', 'JASMY', 'RLC', 'CHZ', 'ONT', 'MIOTA', 'IQ', 'CAKE', 'CTSI', 'STG', 'PYR', 'AMPL', 'DYDX', 'ACH', 'HBAR', 'CVC', 'T', 'BEL', 'GNO', 'ROSE', 'MKR', 'CELO', 'ORBS', 'RAY', 'SLP', 'CKB', 'METIS', 'AVAX', 'AUCTION', 'IOTX', 'LDO', '1INCH', 'GMT', 'ONGAS', 'ENJ', 'COMP', 'CFG', 'BCH', 'DIA', 'C98', 'ANKR', 'DAI', 'GLM', 'BAT', 'SAND', 'FLOW', 'SUPER', 'AUDIO', 'DGB', 'API3', 'STPT']\n",
      "📊 Indicator Cols: ['RSI', 'MFI', 'APO', 'AROON_up', 'AROON_down', 'AROONOSC', 'ADX', 'MOM', 'ROC', 'WILLR', 'BOP', 'OBV', 'ADOSC', 'ATR', 'CORREL', 'LINEARREG_ANGLE', 'STDDEV', 'AVGPRICE', 'price_above_EMA', 'price_above_KAMA', 'volume', 'vol_chg_3d', 'volume_over_ATR', 'lagged_return_1d', 'Sentiment', 'RSI_sentiment', 'MFI_sentiment', 'reddit_sentiment', 'fear_greed_index', 'title_sentiment', 'momentum_ratio_3d', 'BOP_ATR', 'ADX_OBV', 'PPO_STD', 'BOP_sq', 'VAR_sq', 'STDDEV_sq', 'RSI_over_ATR', 'BOP_over_STDDEV', 'bollinger_percent', 'BOP_sq.1', 'log_VAR', 'USD_strength_index', 'CBOE_volatility_index', 'gas_price_gwei', 'treasury_yield_10yr', 'consumer_sentiment_index', 'CPI', 'FEDFUNDS', 'UNRATE']\n"
     ]
    },
    {
     "name": "stderr",
     "output_type": "stream",
     "text": [
      "2025-04-09 16:07:16.730 Thread 'Thread-163': missing ScriptRunContext! This warning can be ignored when running in bare mode.\n",
      "2025-04-09 16:07:16.734 Thread 'Thread-163': missing ScriptRunContext! This warning can be ignored when running in bare mode.\n",
      "2025-04-09 16:07:17.682 Thread 'MainThread': missing ScriptRunContext! This warning can be ignored when running in bare mode.\n",
      "2025-04-09 16:07:17.684 Thread 'MainThread': missing ScriptRunContext! This warning can be ignored when running in bare mode.\n"
     ]
    },
    {
     "name": "stdout",
     "output_type": "stream",
     "text": [
      "\u001b[1m1832/1832\u001b[0m \u001b[32m━━━━━━━━━━━━━━━━━━━━\u001b[0m\u001b[37m\u001b[0m \u001b[1m5s\u001b[0m 3ms/step\n"
     ]
    },
    {
     "name": "stderr",
     "output_type": "stream",
     "text": [
      "2025-04-09 16:07:23.608 Thread 'MainThread': missing ScriptRunContext! This warning can be ignored when running in bare mode.\n",
      "2025-04-09 16:07:23.609 Thread 'MainThread': missing ScriptRunContext! This warning can be ignored when running in bare mode.\n",
      "2025-04-09 16:07:23.610 Thread 'MainThread': missing ScriptRunContext! This warning can be ignored when running in bare mode.\n"
     ]
    },
    {
     "name": "stdout",
     "output_type": "stream",
     "text": [
      "🧪 Iter 49: using symbols → ['SOL', 'CRO', 'KAVA', 'DOT', 'MATIC', 'APE', 'BICO', 'RVN', 'CTC', 'BNB', 'SC', 'NEAR', 'FET', 'POND', 'AR', 'SFP', 'STX', 'SHIB', 'HIVE', 'LTC', 'IOST', 'SUSHI', 'KNC', 'JST', 'FIL', 'ADA', 'GAS', 'BAL', 'BAND', 'LRC', 'OM', 'STORJ', 'GALA', 'ATOM', 'SWFTC', 'LINK', 'LUNA', 'QNT', 'ASTR', 'CHR', 'SNT', 'FLUX', 'NEO', 'POWR', 'MBL', 'DENT', 'AXS', 'CFX', 'IMX', 'PHA', 'SKL', 'ILV', 'ENS', 'ONE', 'OXT', 'NMR', 'CVX', 'BTC', 'INJ', 'ELF', 'MANA', 'ETH', 'CELR', 'DOGE', 'ICP', 'HOT', 'JOE', 'KDA', 'RAD', 'MASK', 'MINA', 'LPT', 'CRV', 'DODO', 'EGLD', 'HNT', 'COTI', 'PAXG', 'CSPR', 'AAVE', 'EOS', 'BORA', 'BSV', 'LEO', 'KSM', 'RNDR', 'REQ', 'PUNDIX', 'RUNE', 'LSK', 'OGN', 'AMP', 'MOVR', 'SXP', 'DCR', 'GT', 'NEXO', 'BTT', 'FTT', 'ICX', 'SPELL', 'DASH', 'ALGO', 'QTUM', 'RSR', 'GRT', 'AGLD', 'ETC', 'NANO', 'SNX', 'JASMY', 'RLC', 'CHZ', 'ONT', 'MIOTA', 'IQ', 'CAKE', 'CTSI', 'STG', 'PYR', 'AMPL', 'DYDX', 'ACH', 'HBAR', 'CVC', 'T', 'BEL', 'GNO', 'ROSE', 'MKR', 'CELO', 'ORBS', 'RAY', 'SLP', 'CKB', 'METIS', 'AVAX', 'AUCTION', 'IOTX', 'LDO', '1INCH', 'GMT', 'ONGAS', 'ENJ', 'COMP', 'CFG', 'BCH', 'DIA', 'C98', 'ANKR', 'DAI', 'GLM', 'BAT', 'SAND', 'FLOW', 'SUPER', 'AUDIO', 'DGB', 'API3', 'STPT']\n",
      "📊 Indicator Cols: ['RSI', 'MFI', 'APO', 'AROON_up', 'AROON_down', 'AROONOSC', 'ADX', 'MOM', 'ROC', 'WILLR', 'BOP', 'OBV', 'ADOSC', 'ATR', 'CORREL', 'LINEARREG_ANGLE', 'STDDEV', 'AVGPRICE', 'price_above_EMA', 'price_above_KAMA', 'volume', 'vol_chg_3d', 'volume_over_ATR', 'lagged_return_1d', 'Sentiment', 'RSI_sentiment', 'MFI_sentiment', 'reddit_sentiment', 'fear_greed_index', 'title_sentiment', 'momentum_ratio_3d', 'BOP_ATR', 'ADX_OBV', 'PPO_STD', 'BOP_sq', 'VAR_sq', 'STDDEV_sq', 'RSI_over_ATR', 'BOP_over_STDDEV', 'bollinger_percent', 'BOP_sq.1', 'log_VAR', 'USD_strength_index', 'CBOE_volatility_index', 'gas_price_gwei', 'treasury_yield_10yr', 'consumer_sentiment_index', 'CPI', 'FEDFUNDS', 'UNRATE']\n"
     ]
    },
    {
     "name": "stderr",
     "output_type": "stream",
     "text": [
      "2025-04-09 16:07:24.115 Thread 'Thread-164': missing ScriptRunContext! This warning can be ignored when running in bare mode.\n",
      "2025-04-09 16:07:24.119 Thread 'Thread-164': missing ScriptRunContext! This warning can be ignored when running in bare mode.\n",
      "2025-04-09 16:07:25.092 Thread 'MainThread': missing ScriptRunContext! This warning can be ignored when running in bare mode.\n",
      "2025-04-09 16:07:25.093 Thread 'MainThread': missing ScriptRunContext! This warning can be ignored when running in bare mode.\n"
     ]
    },
    {
     "name": "stdout",
     "output_type": "stream",
     "text": [
      "\u001b[1m1838/1838\u001b[0m \u001b[32m━━━━━━━━━━━━━━━━━━━━\u001b[0m\u001b[37m\u001b[0m \u001b[1m5s\u001b[0m 3ms/step\n",
      "\n",
      "✅ Computing BMA Weights...\n",
      "📊 Final BMA Weights:\n",
      "Linear Regression: 0.0724\n",
      "Lasso Regression: 0.0712\n",
      "Ridge Regression: 0.0723\n",
      "Elastic Net: 0.0725\n",
      "PCR: 0.0724\n",
      "PLS: 0.0716\n",
      "Random Forest: 0.0747\n",
      "XGBoost: 0.1024\n",
      "CatBoost: 0.1235\n",
      "Feedforward NN: 0.1087\n",
      "LSTM: 0.1583\n",
      "\n",
      "🔄 Retraining all models on full training data...\n",
      "✅ Linear Regression\n",
      "Linear Regression → Train: 160000, 160000 | Test: 40000, 40000\n",
      "✅ Lasso Regression\n",
      "Lasso Regression → Train: 160000, 160000 | Test: 40000, 40000\n",
      "✅ Ridge Regression\n"
     ]
    },
    {
     "name": "stderr",
     "output_type": "stream",
     "text": [
      "c:\\Users\\Justin\\anaconda3\\envs\\crypto-env\\lib\\site-packages\\sklearn\\linear_model\\_ridge.py:215: LinAlgWarning: Ill-conditioned matrix (rcond=3.66414e-09): result may not be accurate.\n",
      "  return linalg.solve(A, Xy, assume_a=\"pos\", overwrite_a=True).T\n"
     ]
    },
    {
     "name": "stdout",
     "output_type": "stream",
     "text": [
      "Ridge Regression → Train: 160000, 160000 | Test: 40000, 40000\n",
      "✅ Elastic Net\n",
      "Elastic Net → Train: 160000, 160000 | Test: 40000, 40000\n",
      "✅ PCR\n",
      "PCR → Train: 160000, 160000 | Test: 40000, 40000\n",
      "✅ PLS\n",
      "PLS → Train: 160000, 160000 | Test: 40000, 40000\n",
      "✅ Random Forest\n",
      "🔁 Loading pre-trained model from disk... 🔁\n",
      "Random Forest → Train: 160000, 160000 | Test: 40000, 40000\n",
      "✅ XGBoost\n",
      "XGBoost → Train: 160000, 160000 | Test: 40000, 40000\n",
      "✅ CatBoost\n",
      "CatBoost → Train: 160000, 160000 | Test: 40000, 40000\n",
      "✅ Feedforward NN\n",
      "Training Feedforward NN...\n",
      "trained_models\\FFNN_30860c006e13696fbd4dafcab8179fa0.keras\n",
      "🔁 Loading pre-trained model from disk... 🔁\n",
      "\u001b[1m1250/1250\u001b[0m \u001b[32m━━━━━━━━━━━━━━━━━━━━\u001b[0m\u001b[37m\u001b[0m \u001b[1m2s\u001b[0m 1ms/step\n",
      "\u001b[1m5000/5000\u001b[0m \u001b[32m━━━━━━━━━━━━━━━━━━━━\u001b[0m\u001b[37m\u001b[0m \u001b[1m7s\u001b[0m 1ms/step\n",
      "Feedforward NN → Train: 160000, 160000 | Test: 40000, 40000\n",
      "✅ LSTM\n",
      "\u001b[1m1244/1244\u001b[0m \u001b[32m━━━━━━━━━━━━━━━━━━━━\u001b[0m\u001b[37m\u001b[0m \u001b[1m4s\u001b[0m 3ms/step\n",
      "\u001b[1m4975/4975\u001b[0m \u001b[32m━━━━━━━━━━━━━━━━━━━━\u001b[0m\u001b[37m\u001b[0m \u001b[1m14s\u001b[0m 3ms/step\n",
      "LSTM → Train: 159200, 159200 | Test: 39800, 39800\n",
      "\n",
      "📈 Computing BMA Ensemble Prediction...\n",
      "\n",
      "📝 Saving Results...\n",
      "✅ All results saved to dataset/bma_results.csv and dataset/bma_weights.csv\n"
     ]
    }
   ],
   "source": [
    "import os\n",
    "import numpy as np\n",
    "import pandas as pd\n",
    "import random\n",
    "from pathlib import Path\n",
    "\n",
    "from utils.data_loader import load_data, prepare_model_data, get_available_symbols\n",
    "from utils.models import train_model\n",
    "from utils.metrics import calculate_metrics\n",
    "\n",
    "# from sklearn.metrics import mean_squared_error\n",
    "from sklearn.metrics import r2_score\n",
    "\n",
    "from tensorflow.keras.models import load_model\n",
    "\n",
    "HARDCODED_LSTM_PATH = \"trained_models/LSTM_8662e15cd642d63553f08b7b8bca0bb5.keras\"\n",
    "pretrained_lstm_model = load_model(HARDCODED_LSTM_PATH)\n",
    "\n",
    "# Helper functions -----------------------------------------\n",
    "def predict_with_lstm(model, df, feature_cols, target_col, lookback, symbols):\n",
    "    from utils.data_loader import reshape_lstm_data\n",
    "    X, y = reshape_lstm_data(df, feature_cols, target_col, lookback, symbols)\n",
    "    y_pred = model.predict(X).ravel()\n",
    "    return y_pred, y\n",
    "\n",
    "def block_bootstrap_indices(n_obs, block_size=100, n_blocks=None):\n",
    "    if n_blocks is None:\n",
    "        n_blocks = n_obs // block_size\n",
    "    start_points = np.random.randint(0, n_obs - block_size, size=n_blocks)\n",
    "    blocks = [np.arange(start, start + block_size) for start in start_points]\n",
    "    boot_idx = np.concatenate(blocks)\n",
    "    boot_idx = boot_idx[boot_idx < n_obs]  # Ensure valid range\n",
    "    oob_idx = np.setdiff1d(np.arange(n_obs), boot_idx)\n",
    "    return boot_idx, oob_idx\n",
    "\n",
    "\n",
    "# Reproducibility ----------------------------------------------\n",
    "SEED = 42\n",
    "np.random.seed(SEED)\n",
    "random.seed(SEED)\n",
    "\n",
    "# Define models and hyperparameters ------------------------------\n",
    "models_config = {\n",
    "    \"Linear Regression\": {},\n",
    "    \"Lasso Regression\": {\"alpha\": 0.001},\n",
    "    \"Ridge Regression\": {\"alpha\": 0.01},\n",
    "    \"Elastic Net\": {\"alpha\": 0.001, \"l1_ratio\": 0.05},\n",
    "    \"PCR\": {},\n",
    "    \"PLS\": {},\n",
    "    \"Random Forest\": {\"n_estimators\": 200, \"max_depth\": 5},\n",
    "    \"XGBoost\": {\"n_estimators\": 200, \"learning_rate\": 0.1, \"max_depth\": 3},\n",
    "    \"CatBoost\": {\"iterations\": 200, \"learning_rate\": 0.1, \"depth\": 6},\n",
    "    \"Feedforward NN\": {\"epochs\": 200},\n",
    "    \"LSTM\": {\"epochs\": 200, \"lookback\": 5}\n",
    "}\n",
    "\n",
    "model_names = list(models_config.keys())\n",
    "N_BOOTSTRAP = 50\n",
    "\n",
    "# Main execution ----------------------------------------------\n",
    "def main():\n",
    "    print(\"🔄 Loading data...\")\n",
    "    df = load_data()\n",
    "    test_size = 0.2\n",
    "\n",
    "    print(\"📐 Preparing model data...\")\n",
    "    # Prepare for tabular models\n",
    "    indicator_cols, _, _, _, X_train, X_test, y_train, y_test, symbols = prepare_model_data(df, \"Linear Regression\", test_size)\n",
    "\n",
    "    # Prepare for LSTM\n",
    "    indicator_cols_lstm, df_train, df_test, _, _, _, _, _, _ = prepare_model_data(df, \"LSTM\", test_size)\n",
    "\n",
    "    symbols_all = get_available_symbols(df)\n",
    "\n",
    "    oob_errors = {m: [] for m in model_names}\n",
    "    n_train = len(y_train)\n",
    "    indices = np.arange(n_train)\n",
    "\n",
    "    print(\"🚀 Starting bootstrapped training...\")\n",
    "    for m in model_names:\n",
    "        print(f\"🔁 Model: {m}\")\n",
    "        for b in range(N_BOOTSTRAP):\n",
    "            boot_idx, oob_idx = block_bootstrap_indices(n_train, block_size=100)\n",
    "\n",
    "            if oob_idx.size == 0:\n",
    "                continue\n",
    "\n",
    "            if m == \"LSTM\":\n",
    "\n",
    "                lookback = models_config[m][\"lookback\"]\n",
    "\n",
    "                df_boot = df_train.iloc[boot_idx].copy()\n",
    "                df_oob = df_train.iloc[oob_idx].copy()\n",
    "\n",
    "                # Ensure time and symbol sort\n",
    "                df_boot.sort_values([\"symbol\", \"timestamp\"], inplace=True)\n",
    "                df_oob.sort_values([\"symbol\", \"timestamp\"], inplace=True)\n",
    "\n",
    "\n",
    "                boot_symbols = df_boot[\"symbol\"].unique()\n",
    "                oob_symbols = df_oob[\"symbol\"].unique()\n",
    "                valid_symbols = list(set(boot_symbols) & set(oob_symbols))\n",
    "\n",
    "                try:\n",
    "                    df_boot_valid = df_boot[df_boot[\"symbol\"].isin(valid_symbols)].copy()\n",
    "                    df_oob_valid = df_oob[df_oob[\"symbol\"].isin(valid_symbols)].copy()\n",
    "\n",
    "                    if df_boot_valid.empty or df_oob_valid.empty or len(valid_symbols) == 0:\n",
    "                        print(f\"⚠️ Skipping LSTM iter {b} — no overlapping valid data.\")\n",
    "                        continue\n",
    "\n",
    "                    print(f\"🧪 Iter {b}: using symbols → {valid_symbols}\")\n",
    "                    print(f\"📊 Indicator Cols: {indicator_cols_lstm}\")\n",
    "\n",
    "                    y_pred_oob, y_true_oob = predict_with_lstm(pretrained_lstm_model, df_oob_valid, indicator_cols_lstm, \"target\", lookback, valid_symbols)\n",
    "\n",
    "                    # Filter df_oob to only include valid_symbols\n",
    "                    df_oob_valid = df_oob_valid.sort_values([\"symbol\", \"timestamp\"]).reset_index(drop=True)\n",
    "\n",
    "                except Exception as e:\n",
    "                    print(f\"❌ LSTM error in iter {b}: {e}\")\n",
    "                    continue\n",
    "            else:\n",
    "                try:\n",
    "                    X_boot, y_boot = X_train[boot_idx], y_train[boot_idx]\n",
    "                    X_oob, y_true_oob = X_train[oob_idx], y_train[oob_idx]\n",
    "                    _, y_pred_oob = train_model(m, X_boot, y_boot, X_oob, models_config[m])\n",
    "                except Exception as e:\n",
    "                    print(f\"❌ Error training {m} in iter {b}: {e}\")\n",
    "                    continue\n",
    "\n",
    "            try:\n",
    "                r2 = r2_score(y_true_oob, y_pred_oob)\n",
    "                oob_errors[m].append(1-r2)\n",
    "            except Exception as e:\n",
    "                print(f\"⚠️ Error computing MSE for {m}: {e}\")\n",
    "\n",
    "    print(\"\\n✅ Computing BMA Weights...\")\n",
    "\n",
    "    avg_r2_error = {m: np.mean(oob_errors[m]) if oob_errors[m] else np.inf for m in model_names}\n",
    "    lambda_param = 1.45\n",
    "    raw_weights = {m: np.exp(-lambda_param * avg_r2_error[m]) for m in model_names}\n",
    "    total_weight = sum(raw_weights.values())\n",
    "    bma_weights = {m: (raw_weights[m] / total_weight if total_weight != 0 else 0) for m in model_names}\n",
    "\n",
    "    print(\"📊 Final BMA Weights:\")\n",
    "    for m, w in bma_weights.items():\n",
    "        print(f\"{m}: {w:.4f}\")\n",
    "\n",
    "    print(\"\\n🔄 Retraining all models on full training data...\")\n",
    "    individual_train_preds = {}\n",
    "    individual_test_preds = {}\n",
    "    metrics_train = {}\n",
    "    metrics_test = {}\n",
    "\n",
    "    for m in model_names:\n",
    "        print(f\"✅ {m}\")\n",
    "        try:\n",
    "            if m == \"LSTM\":\n",
    "\n",
    "                y_test_pred, y_test_real = predict_with_lstm(pretrained_lstm_model, df_test, indicator_cols_lstm, \"target\", lookback, symbols_all)\n",
    "                y_train_pred, y_train_real = predict_with_lstm(pretrained_lstm_model, df_train, indicator_cols_lstm, \"target\", lookback, symbols_all)\n",
    "\n",
    "            else:\n",
    "                model, y_test_pred = train_model(m, X_train, y_train, X_test, models_config[m])\n",
    "                y_train_pred = model.predict(X_train)\n",
    "                y_train_real = y_train[:len(y_train_pred)]\n",
    "                y_test_real = y_test[:len(y_test_pred)]\n",
    "\n",
    "            individual_train_preds[m] = y_train_pred\n",
    "            individual_test_preds[m] = y_test_pred\n",
    "\n",
    "            metrics_train[m] = calculate_metrics(y_train_real, y_train_pred)\n",
    "            metrics_test[m] = calculate_metrics(y_test_real, y_test_pred)\n",
    "            individual_train_preds[f\"{m}_y\"] = y_train_real\n",
    "            individual_test_preds[f\"{m}_y\"] = y_test_real\n",
    "\n",
    "            print(f\"{m} → Train: {len(y_train_pred)}, {len(y_train_real)} | Test: {len(y_test_pred)}, {len(y_test_real)}\")\n",
    "\n",
    "\n",
    "        except Exception as e:\n",
    "            print(f\"Error in final training of {m}: {e}\")\n",
    "\n",
    "    # print(\"\\n📈 Computing BMA Ensemble Prediction...\")\n",
    "\n",
    "    # Find LSTM-aligned y values first\n",
    "    aligned_y_train = individual_train_preds[\"LSTM_y\"]\n",
    "    aligned_y_test = individual_test_preds[\"LSTM_y\"]\n",
    "\n",
    "    train_len = len(aligned_y_train)\n",
    "    test_len = len(aligned_y_test)\n",
    "\n",
    "    ensemble_train_pred = np.zeros(train_len, dtype=float)\n",
    "    ensemble_test_pred = np.zeros(test_len, dtype=float)\n",
    "\n",
    "    # Get lengths of aligned LSTM predictions\n",
    "    train_len = len(aligned_y_train)\n",
    "    test_len = len(aligned_y_test)\n",
    "\n",
    "    for m in model_names:\n",
    "        if m in individual_test_preds:\n",
    "\n",
    "            train_pred = individual_train_preds[m]\n",
    "            test_pred = individual_test_preds[m]\n",
    "            if train_pred.ndim > 1:\n",
    "                train_pred = train_pred.ravel()\n",
    "            if test_pred.ndim > 1:\n",
    "                test_pred = test_pred.ravel()\n",
    "\n",
    "            # Truncate safely\n",
    "            train_pred = train_pred[:train_len]\n",
    "            test_pred = test_pred[:test_len]\n",
    "\n",
    "            # Also align weight contribution\n",
    "            ensemble_train_pred += bma_weights[m] * train_pred[:train_len]\n",
    "            ensemble_test_pred += bma_weights[m] * test_pred[:test_len]\n",
    "\n",
    "    for m in model_names:\n",
    "        if f\"{m}_y\" in individual_test_preds:\n",
    "            aligned_y_test = individual_test_preds[f\"{m}_y\"]\n",
    "            aligned_y_train = individual_train_preds[f\"{m}_y\"]\n",
    "            break\n",
    "\n",
    "    aligned_y_train = aligned_y_train[:train_len]\n",
    "    aligned_y_test = aligned_y_test[:test_len]\n",
    "\n",
    "    ensemble_metrics_train = calculate_metrics(aligned_y_train, ensemble_train_pred)\n",
    "    ensemble_metrics_test = calculate_metrics(aligned_y_test, ensemble_test_pred)\n",
    "\n",
    "\n",
    "    # print(\"\\n📝 Saving Results...\")\n",
    "    results = []\n",
    "    for m in model_names:\n",
    "        results.append({\n",
    "            \"model\": m,\n",
    "            \"BMA_weight\": round(bma_weights[m], 4),\n",
    "            \"Train_R2\": metrics_train.get(m, {}).get(\"R²\"),\n",
    "            \"Train_MAE\": metrics_train.get(m, {}).get(\"MAE\"),\n",
    "            \"Train_MSE\": metrics_train.get(m, {}).get(\"MSE\"),\n",
    "            \"Test_R2\": metrics_test.get(m, {}).get(\"R²\"),\n",
    "            \"Test_MAE\": metrics_test.get(m, {}).get(\"MAE\"),\n",
    "            \"Test_MSE\": metrics_test.get(m, {}).get(\"MSE\"),\n",
    "        })\n",
    "\n",
    "    results.append({\n",
    "        \"model\": \"BMA Ensemble\",\n",
    "        \"BMA_weight\": 1.0,\n",
    "        \"Train_R2\": ensemble_metrics_train[\"R²\"],\n",
    "        \"Train_MAE\": ensemble_metrics_train[\"MAE\"],\n",
    "        \"Train_MSE\": ensemble_metrics_train[\"MSE\"],\n",
    "        \"Test_R2\": ensemble_metrics_test[\"R²\"],\n",
    "        \"Test_MAE\": ensemble_metrics_test[\"MAE\"],\n",
    "        \"Test_MSE\": ensemble_metrics_test[\"MSE\"],\n",
    "    })\n",
    "\n",
    "    results_df = pd.DataFrame(results)\n",
    "    results_df.to_csv(\"dataset/bma_results.csv\", index=False)\n",
    "\n",
    "    weights_df = pd.DataFrame(bma_weights.items(), columns=[\"model\", \"weight\"])\n",
    "    weights_df.to_csv(\"dataset/bma_weights.csv\", index=False)\n",
    "\n",
    "    print(\"✅ All results saved to dataset/bma_results.csv and dataset/bma_weights.csv\")\n",
    "\n",
    "if __name__ == \"__main__\":\n",
    "    main()"
   ]
  },
  {
   "cell_type": "markdown",
   "metadata": {},
   "source": [
    "# Assessing Ensemble Model"
   ]
  },
  {
   "cell_type": "code",
   "execution_count": 32,
   "metadata": {},
   "outputs": [],
   "source": [
    "weights_df = pd.read_csv(\"dataset/bma_weights.csv\")"
   ]
  },
  {
   "cell_type": "code",
   "execution_count": 40,
   "metadata": {},
   "outputs": [
    {
     "data": {
      "text/plain": [
       "{'Linear Regression': 0.0723927896093014,\n",
       " 'Lasso Regression': 0.0711897365167291,\n",
       " 'Ridge Regression': 0.0722880134091308,\n",
       " 'Elastic Net': 0.0725299089160883,\n",
       " 'PCR': 0.0723696126816597,\n",
       " 'PLS': 0.0716172984284922,\n",
       " 'Random Forest': 0.0746992932667025,\n",
       " 'XGBoost': 0.1024169740435287,\n",
       " 'CatBoost': 0.1234987744389836,\n",
       " 'Feedforward NN': 0.1087275184355272,\n",
       " 'LSTM': 0.1582700802538562}"
      ]
     },
     "execution_count": 40,
     "metadata": {},
     "output_type": "execute_result"
    }
   ],
   "source": [
    "bma_weights = dict(zip(weights_df[\"model\"], weights_df[\"weight\"]))\n",
    "\n",
    "bma_weights"
   ]
  },
  {
   "cell_type": "code",
   "execution_count": 34,
   "metadata": {},
   "outputs": [
    {
     "data": {
      "text/plain": [
       "['Linear Regression',\n",
       " 'Lasso Regression',\n",
       " 'Ridge Regression',\n",
       " 'Elastic Net',\n",
       " 'PCR',\n",
       " 'PLS',\n",
       " 'Random Forest',\n",
       " 'XGBoost',\n",
       " 'CatBoost',\n",
       " 'Feedforward NN',\n",
       " 'LSTM']"
      ]
     },
     "execution_count": 34,
     "metadata": {},
     "output_type": "execute_result"
    }
   ],
   "source": [
    "model_names"
   ]
  },
  {
   "cell_type": "code",
   "execution_count": 36,
   "metadata": {},
   "outputs": [
    {
     "data": {
      "text/plain": [
       "{'Linear Regression': {},\n",
       " 'Lasso Regression': {'alpha': 0.001},\n",
       " 'Ridge Regression': {'alpha': 0.01},\n",
       " 'Elastic Net': {'alpha': 0.001, 'l1_ratio': 0.05},\n",
       " 'PCR': {},\n",
       " 'PLS': {},\n",
       " 'Random Forest': {'n_estimators': 200, 'max_depth': 5},\n",
       " 'XGBoost': {'n_estimators': 200, 'learning_rate': 0.1, 'max_depth': 3},\n",
       " 'CatBoost': {'iterations': 200, 'learning_rate': 0.1, 'depth': 6},\n",
       " 'Feedforward NN': {'epochs': 200},\n",
       " 'LSTM': {'epochs': 200, 'lookback': 5}}"
      ]
     },
     "execution_count": 36,
     "metadata": {},
     "output_type": "execute_result"
    }
   ],
   "source": [
    "models_config"
   ]
  },
  {
   "cell_type": "code",
   "execution_count": 37,
   "metadata": {},
   "outputs": [
    {
     "data": {
      "text/plain": [
       "<Sequential name=sequential, built=True>"
      ]
     },
     "execution_count": 37,
     "metadata": {},
     "output_type": "execute_result"
    }
   ],
   "source": [
    "pretrained_lstm_model"
   ]
  },
  {
   "cell_type": "code",
   "execution_count": 44,
   "metadata": {},
   "outputs": [],
   "source": [
    "df = load_data()\n",
    "test_size = 0.2\n",
    "\n",
    "indicator_cols, _, _, _, X_train, X_test, y_train, y_test, symbols = prepare_model_data(df, \"Linear Regression\", test_size)\n",
    "\n",
    "# Prepare for LSTM\n",
    "indicator_cols_lstm, df_train, df_test, _, _, _, _, _, _ = prepare_model_data(df, \"LSTM\", test_size)\n",
    "\n",
    "symbols_all = get_available_symbols(df)\n",
    "\n",
    "lookback = models_config['LSTM'][\"lookback\"]"
   ]
  },
  {
   "cell_type": "code",
   "execution_count": null,
   "metadata": {},
   "outputs": [
    {
     "name": "stdout",
     "output_type": "stream",
     "text": [
      "✅ Linear Regression\n",
      "Linear Regression → Train: 160000, 160000 | Test: 40000, 40000\n",
      "✅ Lasso Regression\n",
      "Lasso Regression → Train: 160000, 160000 | Test: 40000, 40000\n",
      "✅ Ridge Regression\n"
     ]
    },
    {
     "name": "stderr",
     "output_type": "stream",
     "text": [
      "c:\\Users\\Justin\\anaconda3\\envs\\crypto-env\\lib\\site-packages\\sklearn\\linear_model\\_ridge.py:215: LinAlgWarning: Ill-conditioned matrix (rcond=3.66414e-09): result may not be accurate.\n",
      "  return linalg.solve(A, Xy, assume_a=\"pos\", overwrite_a=True).T\n"
     ]
    },
    {
     "name": "stdout",
     "output_type": "stream",
     "text": [
      "Ridge Regression → Train: 160000, 160000 | Test: 40000, 40000\n",
      "✅ Elastic Net\n",
      "Elastic Net → Train: 160000, 160000 | Test: 40000, 40000\n",
      "✅ PCR\n",
      "PCR → Train: 160000, 160000 | Test: 40000, 40000\n",
      "✅ PLS\n",
      "PLS → Train: 160000, 160000 | Test: 40000, 40000\n",
      "✅ Random Forest\n",
      "🔁 Loading pre-trained model from disk... 🔁\n",
      "Random Forest → Train: 160000, 160000 | Test: 40000, 40000\n",
      "✅ XGBoost\n",
      "XGBoost → Train: 160000, 160000 | Test: 40000, 40000\n",
      "✅ CatBoost\n",
      "CatBoost → Train: 160000, 160000 | Test: 40000, 40000\n",
      "✅ Feedforward NN\n",
      "Training Feedforward NN...\n",
      "trained_models\\FFNN_30860c006e13696fbd4dafcab8179fa0.keras\n",
      "🔁 Loading pre-trained model from disk... 🔁\n",
      "\u001b[1m1250/1250\u001b[0m \u001b[32m━━━━━━━━━━━━━━━━━━━━\u001b[0m\u001b[37m\u001b[0m \u001b[1m2s\u001b[0m 1ms/step\n",
      "\u001b[1m5000/5000\u001b[0m \u001b[32m━━━━━━━━━━━━━━━━━━━━\u001b[0m\u001b[37m\u001b[0m \u001b[1m7s\u001b[0m 1ms/step\n",
      "Feedforward NN → Train: 160000, 160000 | Test: 40000, 40000\n",
      "✅ LSTM\n",
      "\u001b[1m1244/1244\u001b[0m \u001b[32m━━━━━━━━━━━━━━━━━━━━\u001b[0m\u001b[37m\u001b[0m \u001b[1m3s\u001b[0m 3ms/step\n",
      "\u001b[1m4975/4975\u001b[0m \u001b[32m━━━━━━━━━━━━━━━━━━━━\u001b[0m\u001b[37m\u001b[0m \u001b[1m12s\u001b[0m 2ms/step\n",
      "LSTM → Train: 159200, 159200 | Test: 39800, 39800\n",
      "\n",
      "📈 Computing BMA Ensemble Prediction...\n"
     ]
    }
   ],
   "source": [
    "individual_train_preds = {}\n",
    "individual_test_preds = {}\n",
    "metrics_train = {}\n",
    "metrics_test = {}\n",
    "\n",
    "for m in model_names:\n",
    "    print(f\"✅ {m}\")\n",
    "    try:\n",
    "        if m == \"LSTM\":\n",
    "\n",
    "            y_test_pred, y_test_real = predict_with_lstm(pretrained_lstm_model, df_test, indicator_cols_lstm, \"target\", lookback, symbols_all)\n",
    "            y_train_pred, y_train_real = predict_with_lstm(pretrained_lstm_model, df_train, indicator_cols_lstm, \"target\", lookback, symbols_all)\n",
    "\n",
    "        else:\n",
    "            model, y_test_pred = train_model(m, X_train, y_train, X_test, models_config[m])\n",
    "            y_train_pred = model.predict(X_train)\n",
    "            # y_train_real, y_test_real = y_train, y_test\n",
    "            y_train_real = y_train[:len(y_train_pred)]\n",
    "            y_test_real = y_test[:len(y_test_pred)]\n",
    "\n",
    "        individual_train_preds[m] = y_train_pred\n",
    "        individual_test_preds[m] = y_test_pred\n",
    "\n",
    "        metrics_train[m] = calculate_metrics(y_train_real, y_train_pred)\n",
    "        metrics_test[m] = calculate_metrics(y_test_real, y_test_pred)\n",
    "        individual_train_preds[f\"{m}_y\"] = y_train_real\n",
    "        individual_test_preds[f\"{m}_y\"] = y_test_real\n",
    "\n",
    "        print(f\"{m} → Train: {len(y_train_pred)}, {len(y_train_real)} | Test: {len(y_test_pred)}, {len(y_test_real)}\")\n",
    "\n",
    "\n",
    "    except Exception as e:\n",
    "        print(f\"❌ Error in final training of {m}: {e}\")\n",
    "\n",
    "print(\"\\n📈 Computing BMA Ensemble Prediction...\")\n",
    "\n",
    "# Find LSTM-aligned y values first\n",
    "aligned_y_train = individual_train_preds[\"LSTM_y\"]\n",
    "aligned_y_test = individual_test_preds[\"LSTM_y\"]\n",
    "\n",
    "train_len = len(aligned_y_train)\n",
    "test_len = len(aligned_y_test)\n",
    "\n",
    "ensemble_train_pred = np.zeros(train_len, dtype=float)\n",
    "ensemble_test_pred = np.zeros(test_len, dtype=float)\n",
    "\n",
    "\n",
    "\n",
    "# Get lengths of aligned LSTM predictions\n",
    "train_len = len(aligned_y_train)\n",
    "test_len = len(aligned_y_test)\n",
    "\n",
    "for m in model_names:\n",
    "    if m in individual_test_preds:\n",
    "\n",
    "        train_pred = individual_train_preds[m]\n",
    "        test_pred = individual_test_preds[m]\n",
    "        if train_pred.ndim > 1:\n",
    "            train_pred = train_pred.ravel()\n",
    "        if test_pred.ndim > 1:\n",
    "            test_pred = test_pred.ravel()\n",
    "\n",
    "        # Truncate safely\n",
    "        train_pred = train_pred[:train_len]\n",
    "        test_pred = test_pred[:test_len]\n",
    "\n",
    "        # Also align weight contribution\n",
    "        # if len(train_pred) == train_len and len(test_pred) == test_len:\n",
    "        ensemble_train_pred += bma_weights[m] * train_pred[:train_len]\n",
    "        ensemble_test_pred += bma_weights[m] * test_pred[:test_len]\n",
    "        # else:\n",
    "        #     print(f\"⚠️ Skipping model {m} due to length mismatch.\")\n",
    "\n",
    "for m in model_names:\n",
    "    if f\"{m}_y\" in individual_test_preds:\n",
    "        aligned_y_test = individual_test_preds[f\"{m}_y\"]\n",
    "        aligned_y_train = individual_train_preds[f\"{m}_y\"]\n",
    "        break\n",
    "\n",
    "aligned_y_train = aligned_y_train[:train_len]\n",
    "aligned_y_test = aligned_y_test[:test_len]"
   ]
  },
  {
   "cell_type": "code",
   "execution_count": null,
   "metadata": {},
   "outputs": [
    {
     "name": "stdout",
     "output_type": "stream",
     "text": [
      "\n",
      "📉 Residual Diagnostics for: BMA Ensemble\n"
     ]
    },
    {
     "data": {
      "image/png": "[encoded data removed]",
      "text/plain": [
       "<Figure size 1200x500 with 2 Axes>"
      ]
     },
     "metadata": {},
     "output_type": "display_data"
    },
    {
     "name": "stderr",
     "output_type": "stream",
     "text": [
      "c:\\Users\\Justin\\anaconda3\\envs\\crypto-env\\lib\\site-packages\\scipy\\stats\\_axis_nan_policy.py:586: UserWarning: scipy.stats.shapiro: For N > 5000, computed p-value may not be accurate. Current N is 39800.\n",
      "  res = hypotest_fun_out(*samples, **kwds)\n"
     ]
    },
    {
     "name": "stdout",
     "output_type": "stream",
     "text": [
      "Shapiro-Wilk Test: W = 0.9356, p = 0.0000\n",
      "Jarque-Bera Test: JB = 18736.8649, p = 0.0000\n",
      "Ljung-Box Test (lag 10):\n",
      "       lb_stat     lb_pvalue\n",
      "10  239.187543  1.014739e-45\n",
      "Durbin-Watson: 2.1315\n"
     ]
    }
   ],
   "source": [
    "import matplotlib.pyplot as plt\n",
    "import seaborn as sns\n",
    "from scipy.stats import shapiro, jarque_bera, probplot\n",
    "from statsmodels.stats.diagnostic import acorr_ljungbox\n",
    "from statsmodels.stats.stattools import durbin_watson\n",
    "import numpy as np\n",
    "\n",
    "# Residuals for BMA Ensemble\n",
    "residuals = np.array(aligned_y_test) - np.array(ensemble_test_pred)\n",
    "\n",
    "print(\"\\n📉 Residual Diagnostics for: BMA Ensemble\")\n",
    "\n",
    "# 1. Histogram + QQ Plot\n",
    "fig, ax = plt.subplots(1, 2, figsize=(12, 5))\n",
    "\n",
    "sns.histplot(residuals, kde=True, ax=ax[0])\n",
    "ax[0].set_title(\"BMA Residual Histogram\")\n",
    "\n",
    "probplot(residuals, dist=\"norm\", plot=ax[1])\n",
    "ax[1].set_title(\"BMA QQ Plot\")\n",
    "\n",
    "plt.tight_layout()\n",
    "plt.show()\n",
    "\n",
    "# 2. Shapiro-Wilk Test\n",
    "shapiro_stat, shapiro_p = shapiro(residuals)\n",
    "print(f\"Shapiro-Wilk Test: W = {shapiro_stat:.4f}, p = {shapiro_p:.4f}\")\n",
    "\n",
    "# 3. Jarque-Bera Test\n",
    "jb_stat, jb_p = jarque_bera(residuals)\n",
    "print(f\"Jarque-Bera Test: JB = {jb_stat:.4f}, p = {jb_p:.4f}\")\n",
    "\n",
    "# 4. Ljung-Box Test (for autocorrelation up to lag 10)\n",
    "lb_test = acorr_ljungbox(residuals, lags=[10], return_df=True)\n",
    "print(f\"Ljung-Box Test (lag 10):\")\n",
    "print(lb_test)\n",
    "\n",
    "# 5. Durbin-Watson Test\n",
    "dw_stat = durbin_watson(residuals)\n",
    "print(f\"Durbin-Watson: {dw_stat:.4f}\")\n"
   ]
  },
  {
   "cell_type": "code",
   "execution_count": 49,
   "metadata": {},
   "outputs": [
    {
     "data": {
      "image/png": "[encoded data removed]",
      "text/plain": [
       "<Figure size 1200x500 with 1 Axes>"
      ]
     },
     "metadata": {},
     "output_type": "display_data"
    }
   ],
   "source": [
    "import matplotlib.pyplot as plt\n",
    "\n",
    "plt.figure(figsize=(12, 5))\n",
    "plt.plot(aligned_y_test, label=\"Actual\", linewidth=2)\n",
    "plt.plot(ensemble_test_pred, label=\"Predicted (BMA)\", linestyle=\"--\", alpha=0.8)\n",
    "plt.title(\"BMA Prediction vs Actual (Test Set)\")\n",
    "plt.xlabel(\"Timestep\")\n",
    "plt.ylabel(\"Value\")\n",
    "plt.legend()\n",
    "plt.grid(True)\n",
    "plt.tight_layout()\n",
    "plt.show()\n"
   ]
  }
 ],
 "metadata": {
  "kernelspec": {
   "display_name": "crypto-env",
   "language": "python",
   "name": "python3"
  },
  "language_info": {
   "codemirror_mode": {
    "name": "ipython",
    "version": 3
   },
   "file_extension": ".py",
   "mimetype": "text/x-python",
   "name": "python",
   "nbconvert_exporter": "python",
   "pygments_lexer": "ipython3",
   "version": "3.10.16"
  }
 },
 "nbformat": 4,
 "nbformat_minor": 2
}
